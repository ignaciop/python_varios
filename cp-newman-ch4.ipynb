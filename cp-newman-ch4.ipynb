{
 "cells": [
  {
   "cell_type": "code",
   "execution_count": 9,
   "metadata": {
    "collapsed": true
   },
   "outputs": [],
   "source": [
    "import numpy as np"
   ]
  },
  {
   "cell_type": "code",
   "execution_count": 28,
   "metadata": {},
   "outputs": [
    {
     "name": "stdout",
     "output_type": "stream",
     "text": [
      "788657867364790503552363213932185062295135977687173263294742533244359449963403342920304284011984623904177212138919638830257642790242637105061926624952829931113462857270763317237396988943922445621451664240254033291864131227428294853277524242407573903240321257405579568660226031904170324062351700858796178922222789623703897374720000000000000000000000000000000000000000000000000\n",
      "inf\n"
     ]
    }
   ],
   "source": [
    "def factorial(n):\n",
    "    n = int(n)\n",
    "    if n == 0:\n",
    "        return int(1)\n",
    "    else:\n",
    "        return n*factorial(n-1)\n",
    "    \n",
    "def factorial2(n):\n",
    "    n = float(n)\n",
    "    if n == 0:\n",
    "        return float(1)\n",
    "    else:\n",
    "        return n*factorial2(n-1)\n",
    "    \n",
    "print(factorial(200))\n",
    "print(factorial2(200)) # la version de punto flotante banca hasta 170!, que es del orden de 10^306"
   ]
  },
  {
   "cell_type": "code",
   "execution_count": 35,
   "metadata": {},
   "outputs": [
    {
     "name": "stdout",
     "output_type": "stream",
     "text": [
      "a: 1\n",
      "b: 0\n",
      "c: -1\n",
      "1.0\n",
      "-1.0\n"
     ]
    }
   ],
   "source": [
    "a = float(input('a: '))\n",
    "b = float(input('b: '))\n",
    "c = float(input('c: '))\n",
    "\n",
    "def roots(a,b,c):\n",
    "    delta = b**2 - 4*a*c\n",
    "    \n",
    "    if delta >= 0:\n",
    "        x1 = (-b + np.sqrt(delta)) / 2*a\n",
    "        x2 = (-b - np.sqrt(delta)) / 2*a\n",
    "        if b != 0:\n",
    "            x3 = 2*c / (-b - np.sqrt(delta))\n",
    "            x4 = 2*c / (-b + np.sqrt(delta))\n",
    "            print(x3)\n",
    "            print(x4)\n",
    "        print(x1)\n",
    "        print(x2)\n",
    "        \n",
    "        \n",
    "roots(a,b,c)"
   ]
  },
  {
   "cell_type": "code",
   "execution_count": 39,
   "metadata": {},
   "outputs": [
    {
     "name": "stdout",
     "output_type": "stream",
     "text": [
      "1.010000000000001 1.0000999999998899 1.0000009999177333 1.0000000039225287 1.000000082840371 1.0000889005833413 0.9992007221626509\n"
     ]
    }
   ],
   "source": [
    "def f(x):\n",
    "    return x*(x-1)\n",
    "\n",
    "def df(x0,delta):\n",
    "    return (f(x0+delta) - f(x0)) / delta\n",
    "\n",
    "x0 = 1\n",
    "delta1 = 1e-2\n",
    "delta2 = 1e-4\n",
    "delta3 = 1e-6\n",
    "delta4 = 1e-8\n",
    "delta5 = 1e-10\n",
    "delta6 = 1e-12\n",
    "delta7 = 1e-14\n",
    "\n",
    "print(df(x0,delta1),df(x0,delta2),df(x0,delta3),df(x0,delta4),df(x0,delta5),df(x0,delta6),df(x0,delta7))"
   ]
  },
  {
   "cell_type": "code",
   "execution_count": 52,
   "metadata": {},
   "outputs": [
    {
     "name": "stdout",
     "output_type": "stream",
     "text": [
      "1.56913425555\n",
      "1.57079631667\n",
      "914 ms ± 2.31 ms per loop (mean ± std. dev. of 7 runs, 1 loop each)\n"
     ]
    }
   ],
   "source": [
    "def I(N):\n",
    "    h = 2/N\n",
    "    area = h*sum([np.sqrt(1-(-1+h*k)**2) for k in range(1,N+1)])\n",
    "    \n",
    "    return area\n",
    "\n",
    "print(I(100))\n",
    "print(I(300000))\n",
    "%timeit I(300000)"
   ]
  },
  {
   "cell_type": "code",
   "execution_count": null,
   "metadata": {
    "collapsed": true
   },
   "outputs": [],
   "source": []
  }
 ],
 "metadata": {
  "kernelspec": {
   "display_name": "Python 3",
   "language": "python",
   "name": "python3"
  },
  "language_info": {
   "codemirror_mode": {
    "name": "ipython",
    "version": 3
   },
   "file_extension": ".py",
   "mimetype": "text/x-python",
   "name": "python",
   "nbconvert_exporter": "python",
   "pygments_lexer": "ipython3",
   "version": "3.6.1"
  }
 },
 "nbformat": 4,
 "nbformat_minor": 2
}
