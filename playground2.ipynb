{
 "cells": [
  {
   "cell_type": "markdown",
   "metadata": {},
   "source": [
    "# Exercises and projects from Chapter 1\n"
   ]
  },
  {
   "cell_type": "code",
   "execution_count": 33,
   "metadata": {
    "collapsed": true
   },
   "outputs": [],
   "source": [
    "import numpy as np\n",
    "import matplotlib.pyplot as plt"
   ]
  },
  {
   "cell_type": "code",
   "execution_count": 25,
   "metadata": {
    "collapsed": false
   },
   "outputs": [
    {
     "name": "stdout",
     "output_type": "stream",
     "text": [
      "(0.5, 0)\n",
      "(0.5, 1)\n",
      "(0.625, 3)\n",
      "(0.7275957614183426, 37)\n",
      "(0.536870912, -29)\n",
      "(0.5, -1)\n"
     ]
    }
   ],
   "source": [
    "# E1.1\n",
    "%precision 2\n",
    "import math as ma\n",
    "\n",
    "print(ma.frexp(0.5))\n",
    "print(ma.frexp(1.0))\n",
    "print(ma.frexp(5.0))\n",
    "print(ma.frexp(10e10))\n",
    "print(ma.frexp(10e-10))"
   ]
  },
  {
   "cell_type": "code",
   "execution_count": 31,
   "metadata": {
    "collapsed": false
   },
   "outputs": [
    {
     "name": "stdout",
     "output_type": "stream",
     "text": [
      "00000000000000000000000\n",
      "10011001100110011001101\n",
      "01000000000000000000000\n",
      "10110110110110110110111\n"
     ]
    }
   ],
   "source": [
    "# E1.2\n",
    "\n",
    "import struct as st\n",
    "fpack = st.pack('f',1/4) # Convierto a float el numero que quiero\n",
    "fint = st.unpack('i',fpack)[0] # Convierto a int\n",
    "print(bin(fint)[-23:]) # Los ultimos 23 bits son la mantisa\n",
    "\n",
    "fpack1 = st.pack('f',4/5) # Convierto a float el numero que quiero\n",
    "fint1 = st.unpack('i',fpack1)[0] # Convierto a int\n",
    "print(bin(fint1)[-23:]) # Los ultimos 23 bits son la mantisa\n",
    "\n",
    "fpack2 = st.pack('f',5/8) # Convierto a float el numero que quiero\n",
    "fint2 = st.unpack('i',fpack2)[0] # Convierto a int\n",
    "print(bin(fint2)[-23:]) # Los ultimos 23 bits son la mantisa\n",
    "\n",
    "fpack3 = st.pack('f',3/7) # Convierto a float el numero que quiero\n",
    "fint3 = st.unpack('i',fpack3)[0] # Convierto a int\n",
    "print(bin(fint3)[-23:]) # Los ultimos 23 bits son la mantisa"
   ]
  },
  {
   "cell_type": "code",
   "execution_count": 41,
   "metadata": {
    "collapsed": false
   },
   "outputs": [
    {
     "name": "stdout",
     "output_type": "stream",
     "text": [
      "2.22044604925e-16\n"
     ]
    }
   ],
   "source": [
    "# E1.3\n",
    "\n",
    "print(np.finfo(float).eps)"
   ]
  },
  {
   "cell_type": "code",
   "execution_count": 44,
   "metadata": {
    "collapsed": false
   },
   "outputs": [
    {
     "name": "stdout",
     "output_type": "stream",
     "text": [
      "00000000000000000000000\n",
      "00000000000000000000000\n",
      "00110011001100110011010\n",
      "01001000110100100101011\n"
     ]
    }
   ],
   "source": [
    "# E1.4\n",
    "\n",
    "import struct as st\n",
    "fpack = st.pack('d',10.0) # Convierto a float el numero que quiero\n",
    "fint = st.unpack('q',fpack)[0] # Convierto a int\n",
    "print(bin(fint)[-23:]) # Los ultimos 23 bits son la mantisa\n",
    "\n",
    "fpack1 = st.pack('d',1.0) # Convierto a float el numero que quiero\n",
    "fint1 = st.unpack('q',fpack1)[0] # Convierto a int\n",
    "print(bin(fint1)[-23:]) # Los ultimos 23 bits son la mantisa\n",
    "\n",
    "fpack2 = st.pack('d',0.1) # Convierto a float el numero que quiero\n",
    "fint2 = st.unpack('q',fpack2)[0] # Convierto a int\n",
    "print(bin(fint2)[-23:]) # Los ultimos 23 bits son la mantisa\n",
    "\n",
    "fpack3 = st.pack('d',6e-8) # Convierto a float el numero que quiero\n",
    "fint3 = st.unpack('q',fpack3)[0] # Convierto a int\n",
    "print(bin(fint3)[-23:]) # Los ultimos 23 bits son la mantisa"
   ]
  },
  {
   "cell_type": "code",
   "execution_count": 56,
   "metadata": {
    "collapsed": false
   },
   "outputs": [
    {
     "name": "stdout",
     "output_type": "stream",
     "text": [
      "2.54647908947 2.98338582862 3.10142685985 3.13151242645 3.13907016687 3.14096187994\n",
      "0.595113564119 0.158206824965 0.0401657937384 0.0100802271444 0.00252248672008 0.000630773648944\n"
     ]
    }
   ],
   "source": [
    "# E1.5\n",
    "\n",
    "def circunferencia_aproximada(n):\n",
    "    return (2*n)*np.sin(np.pi/n) #aproximo la circunferencia del circulo por el perimetro de un poligono de n lados, mayor n mejor la aprox.\n",
    "\n",
    "# Uso la formula del area del circulo A = Pi * (C/2Pi)^2, con C la aproximacion de arriba\n",
    "sup4 = np.pi*(circunferencia_aproximada(4)/(2*np.pi))**2 \n",
    "sup8 = np.pi*(circunferencia_aproximada(8)/(2*np.pi))**2\n",
    "sup16 = np.pi*(circunferencia_aproximada(16)/(2*np.pi))**2\n",
    "sup32 = np.pi*(circunferencia_aproximada(32)/(2*np.pi))**2\n",
    "sup64 = np.pi*(circunferencia_aproximada(64)/(2*np.pi))**2\n",
    "sup128 = np.pi*(circunferencia_aproximada(128)/(2*np.pi))**2\n",
    "\n",
    "print(sup4, sup8, sup16, sup32, sup64, sup128)\n",
    "\n",
    "err4 = np.pi - sup4\n",
    "err8 = np.pi - sup8\n",
    "err16 = np.pi - sup16\n",
    "err32 = np.pi - sup32\n",
    "err64 = np.pi - sup64\n",
    "err128 = np.pi - sup128\n",
    "\n",
    "print(err4, err8, err16, err32, err64, err128)"
   ]
  },
  {
   "cell_type": "code",
   "execution_count": 65,
   "metadata": {
    "collapsed": false
   },
   "outputs": [
    {
     "name": "stdout",
     "output_type": "stream",
     "text": [
      "0b100000000100100000000000000000000000000000000000000000000000000\n",
      "0b11111111110000000000000000000000000000000000000000000000000000\n",
      "0b11111110111001100110011001100110011001100110011001100110011010\n",
      "0b11111001110000000110110010101100101001101001000110100100101011\n"
     ]
    }
   ],
   "source": [
    "# P1.1\n",
    "\n",
    "import struct as st\n",
    "\n",
    "def tobits(f):\n",
    "    fpack = st.pack('d',f) # Convierto a float el numero que quiero\n",
    "    fint = st.unpack('q',fpack)[0] # Convierto a int\n",
    "    print(bin(fint))\n",
    "    \n",
    "tobits(10.0)\n",
    "tobits(1.0)\n",
    "tobits(0.1)\n",
    "tobits(6e-8)"
   ]
  },
  {
   "cell_type": "code",
   "execution_count": null,
   "metadata": {
    "collapsed": true
   },
   "outputs": [],
   "source": []
  }
 ],
 "metadata": {
  "kernelspec": {
   "display_name": "Python 3",
   "language": "python",
   "name": "python3"
  },
  "language_info": {
   "codemirror_mode": {
    "name": "ipython",
    "version": 3
   },
   "file_extension": ".py",
   "mimetype": "text/x-python",
   "name": "python",
   "nbconvert_exporter": "python",
   "pygments_lexer": "ipython3",
   "version": "3.5.2"
  }
 },
 "nbformat": 4,
 "nbformat_minor": 2
}
