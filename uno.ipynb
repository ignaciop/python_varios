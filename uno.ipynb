{
 "cells": [
  {
   "cell_type": "code",
   "execution_count": 1,
   "metadata": {
    "collapsed": true
   },
   "outputs": [],
   "source": [
    "import numpy as np"
   ]
  },
  {
   "cell_type": "code",
   "execution_count": 17,
   "metadata": {},
   "outputs": [
    {
     "name": "stdout",
     "output_type": "stream",
     "text": [
      "Angle: 8.2\n",
      "1.91681469282 -1.91681469282 1.71681469282\n"
     ]
    }
   ],
   "source": [
    "def twopi(n):\n",
    "    r = np.fmod(n,2*np.pi)\n",
    "    \n",
    "    return r\n",
    "\n",
    "f = float(input('Angle: '))\n",
    "\n",
    "r1 = twopi(f)\n",
    "r2 = twopi(-f)\n",
    "r3 = twopi(int(f))\n",
    "\n",
    "print(r1,r2,r3)"
   ]
  },
  {
   "cell_type": "code",
   "execution_count": 29,
   "metadata": {},
   "outputs": [
    {
     "name": "stdout",
     "output_type": "stream",
     "text": [
      "[ 0.          0.01        0.02       ...,  3.69681469  3.70681469\n",
      "  3.71681469]\n"
     ]
    }
   ],
   "source": [
    "a = np.arange(0,10.01,0.01)\n",
    "b = twopi(a)\n",
    "\n",
    "print(b)"
   ]
  },
  {
   "cell_type": "code",
   "execution_count": 39,
   "metadata": {},
   "outputs": [
    {
     "data": {
      "text/plain": [
       "'a_000006.txt'"
      ]
     },
     "execution_count": 39,
     "metadata": {},
     "output_type": "execute_result"
    }
   ],
   "source": [
    "def mysub(s,t,n):\n",
    "    sr = str(s) + 5*str(0) + str(n) + str(t)\n",
    "    return sr\n",
    "    \n",
    "mysub('a_','.txt',6)"
   ]
  },
  {
   "cell_type": "code",
   "execution_count": null,
   "metadata": {
    "collapsed": true
   },
   "outputs": [],
   "source": []
  }
 ],
 "metadata": {
  "kernelspec": {
   "display_name": "Python 3",
   "language": "python",
   "name": "python3"
  },
  "language_info": {
   "codemirror_mode": {
    "name": "ipython",
    "version": 3
   },
   "file_extension": ".py",
   "mimetype": "text/x-python",
   "name": "python",
   "nbconvert_exporter": "python",
   "pygments_lexer": "ipython3",
   "version": "3.6.1"
  }
 },
 "nbformat": 4,
 "nbformat_minor": 2
}
