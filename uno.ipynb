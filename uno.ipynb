{
 "cells": [
  {
   "cell_type": "code",
   "execution_count": 7,
   "metadata": {
    "collapsed": true
   },
   "outputs": [],
   "source": [
    "import numpy as np\n",
    "import matplotlib.pyplot as plt"
   ]
  },
  {
   "cell_type": "code",
   "execution_count": 3,
   "metadata": {},
   "outputs": [
    {
     "name": "stdout",
     "output_type": "stream",
     "text": [
      "Angle: 8.2\n",
      "1.91681469282 -1.91681469282 1.71681469282\n"
     ]
    }
   ],
   "source": [
    "def twopi(n):\n",
    "    r = np.fmod(n,2*np.pi)\n",
    "    \n",
    "    return r\n",
    "\n",
    "f = float(input('Angle: '))\n",
    "\n",
    "r1 = twopi(f)\n",
    "r2 = twopi(-f)\n",
    "r3 = twopi(int(f))\n",
    "\n",
    "print(r1,r2,r3)"
   ]
  },
  {
   "cell_type": "code",
   "execution_count": 4,
   "metadata": {},
   "outputs": [
    {
     "name": "stdout",
     "output_type": "stream",
     "text": [
      "[ 0.          0.01        0.02       ...,  3.69681469  3.70681469\n",
      "  3.71681469]\n"
     ]
    }
   ],
   "source": [
    "a = np.arange(0,10.01,0.01)\n",
    "b = twopi(a)\n",
    "\n",
    "print(b)"
   ]
  },
  {
   "cell_type": "code",
   "execution_count": 5,
   "metadata": {},
   "outputs": [
    {
     "data": {
      "text/plain": [
       "'a_000006.txt'"
      ]
     },
     "execution_count": 5,
     "metadata": {},
     "output_type": "execute_result"
    }
   ],
   "source": [
    "def mysub(s,t,n):\n",
    "    sr = str(s) + 5*str(0) + str(n) + str(t)\n",
    "    return sr\n",
    "    \n",
    "mysub('a_','.txt',6)"
   ]
  },
  {
   "cell_type": "code",
   "execution_count": 26,
   "metadata": {},
   "outputs": [],
   "source": [
    "mu = 3\n",
    "\n",
    "f = lambda x: mu*x**2*(1-x**2)\n",
    "f2 = lambda x: f(f(x))\n",
    "y = lambda x: x\n",
    "\n",
    "x = np.linspace(0,1,100)\n",
    "\n",
    "plt.figure(1)\n",
    "plt.plot(x,y(x),'-', label=r'$y = x$')\n",
    "plt.plot(x,f(x),'-', label=r'$f(x) = \\mu x^{2}(1-x^{2}), \\mu = 3$')\n",
    "plt.plot(x,f2(x),'-', label=r'$f^{2}(x)$')\n",
    "plt.xlabel(r'$x$')\n",
    "plt.ylabel(r'$x, f(x)$')\n",
    "plt.grid()\n",
    "plt.legend(loc='best')\n",
    "plt.show()"
   ]
  },
  {
   "cell_type": "code",
   "execution_count": 35,
   "metadata": {
    "collapsed": true
   },
   "outputs": [],
   "source": [
    "f = lambda x: np.sin(x)\n",
    "g = lambda x: 10*x**2*np.exp(-x)\n",
    "\n",
    "x = np.linspace(0,10,500)\n",
    "\n",
    "plt.figure(1)\n",
    "plt.plot(x,f(g(x)),'-', label=r'$f(g(x)) = sin(10x^{2}e^{-x})$')\n",
    "plt.xlabel(r'$x$')\n",
    "plt.ylabel(r'$f(g(x))$')\n",
    "plt.grid()\n",
    "plt.legend(loc='best')\n",
    "plt.show()"
   ]
  }
 ],
 "metadata": {
  "kernelspec": {
   "display_name": "Python 3",
   "language": "python",
   "name": "python3"
  },
  "language_info": {
   "codemirror_mode": {
    "name": "ipython",
    "version": 3
   },
   "file_extension": ".py",
   "mimetype": "text/x-python",
   "name": "python",
   "nbconvert_exporter": "python",
   "pygments_lexer": "ipython3",
   "version": "3.4.3"
  }
 },
 "nbformat": 4,
 "nbformat_minor": 2
}
