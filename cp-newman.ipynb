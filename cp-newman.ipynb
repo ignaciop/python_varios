{
 "cells": [
  {
   "cell_type": "code",
   "execution_count": 1,
   "metadata": {
    "collapsed": true
   },
   "outputs": [],
   "source": [
    "import numpy as np\n",
    "import matplotlib.pyplot as plt"
   ]
  },
  {
   "cell_type": "code",
   "execution_count": 2,
   "metadata": {},
   "outputs": [
    {
     "name": "stdout",
     "output_type": "stream",
     "text": [
      "Initial height (meters): 5\n",
      "Time to reach the ground (seconds):  1.00963755469\n"
     ]
    }
   ],
   "source": [
    "g = 9.81\n",
    "\n",
    "def t(y0):\n",
    "    return np.sqrt(2*g*y0)/g\n",
    "\n",
    "y0 = float(input(\"Initial height (meters): \"))\n",
    "\n",
    "print('Time to reach the ground (seconds): ',t(y0))"
   ]
  },
  {
   "cell_type": "code",
   "execution_count": 3,
   "metadata": {},
   "outputs": [
    {
     "name": "stdout",
     "output_type": "stream",
     "text": [
      "Seconds: 7\n",
      "Satellite altitude to orbit the Earth(meters):  -6291935.990212442\n",
      "Satellite altitude to orbit the Earth once in 24 hours (meters):  35855910.176174976\n",
      "Satellite altitude to orbit the Earth once in 23.93 hours (meters):  35773762.329895645\n",
      "Satellite altitude to orbit the Earth once in 90 minutes (meters):  279321.6253728606\n",
      "Satellite altitude to orbit the Earth once in 45 minutes (meters):  -2181559.8978108233\n"
     ]
    }
   ],
   "source": [
    "G = 6.67e-11\n",
    "M = 5.97e24\n",
    "R = 6371000\n",
    "\n",
    "def h(T):\n",
    "    return ((G*M*T**2)/(4*np.pi**2))**(1/3) - R\n",
    "\n",
    "T0 = float(input(\"Seconds: \"))\n",
    "\n",
    "print('Satellite altitude to orbit the Earth(meters): ',h(T0))\n",
    "print('Satellite altitude to orbit the Earth once in 24 hours (meters): ',h(86400))\n",
    "print('Satellite altitude to orbit the Earth once in 23.93 hours (meters): ',h(86148))\n",
    "print('Satellite altitude to orbit the Earth once in 90 minutes (meters): ',h(5400))\n",
    "print('Satellite altitude to orbit the Earth once in 45 minutes (meters): ',h(2700))"
   ]
  },
  {
   "cell_type": "code",
   "execution_count": 4,
   "metadata": {},
   "outputs": [
    {
     "name": "stdout",
     "output_type": "stream",
     "text": [
      "(1.4142135623730951, 45.0)\n",
      "(1.4142135623730951, 135.0)\n",
      "(1.4142135623730951, 225.0)\n",
      "(1.4142135623730951, 315.0)\n"
     ]
    }
   ],
   "source": [
    "import math\n",
    "\n",
    "def topolar(p):\n",
    "    m = np.sqrt(p[0]**2+p[1]**2)\n",
    "    \n",
    "    if (p[0] >= 0 and p[1] >= 0):\n",
    "        a = np.degrees(math.atan(p[1]/p[0]))\n",
    "    elif (p[0] < 0 and p[1] >= 0):\n",
    "        a = np.degrees(np.pi - abs(math.atan(p[1]/p[0])))\n",
    "    elif (p[0] < 0 and p[1] < 0):\n",
    "        a = np.degrees(np.pi + abs(math.atan(p[1]/p[0])))\n",
    "    else:\n",
    "        a = np.degrees(2 * np.pi - abs(math.atan(p[1]/p[0])))\n",
    "    \n",
    "    return (m,a)\n",
    "    \n",
    "print(topolar((1,1)))\n",
    "print(topolar((-1,1)))\n",
    "print(topolar((-1,-1)))\n",
    "print(topolar((1,-1)))"
   ]
  },
  {
   "cell_type": "code",
   "execution_count": 5,
   "metadata": {},
   "outputs": [
    {
     "name": "stdout",
     "output_type": "stream",
     "text": [
      "Tiempo desde la tierra (años):  70.929698264\n",
      "Tiempo desde la nave (años):  10.005865265281281\n"
     ]
    }
   ],
   "source": [
    "c = 299792458\n",
    "v0 = 0.99*c\n",
    "\n",
    "def time_travel(x,v):\n",
    "    tfss = x/c # desde la nave\n",
    "    tfe = tfss/np.sqrt(1-v**2/c**2) # desde la tierra\n",
    "    \n",
    "    # paso de segundos a años\n",
    "    tfe2 = tfe / 3.154e7\n",
    "    tfss2 = tfss / 3.154e7\n",
    "    \n",
    "    return(tfe2,tfss2)\n",
    "    \n",
    "# Distancia en metros de 10 años luz: 9.461e+16\n",
    "p = time_travel(9.461e+16,v0)\n",
    "\n",
    "print('Tiempo desde la tierra (años): ', p[0])\n",
    "print('Tiempo desde la nave (años): ', p[1])"
   ]
  },
  {
   "cell_type": "code",
   "execution_count": 11,
   "metadata": {},
   "outputs": [
    {
     "name": "stdout",
     "output_type": "stream",
     "text": [
      "Transmission probability:  0.730126136388\n",
      "Reflection probability:  0.269873863612\n"
     ]
    }
   ],
   "source": [
    "m = 9.11e-31\n",
    "hbar = 1.0546e-34\n",
    "E = 10\n",
    "V = 9\n",
    "k1 = np.sqrt(2*m*E) / hbar\n",
    "k2 = np.sqrt(2*m*(E-V)) / hbar\n",
    "\n",
    "T = 4*k1*k2 / (k1+k2)**2\n",
    "R = ((k1-k2) / (k1+k2))**2\n",
    "\n",
    "print('Transmission probability: ',T)\n",
    "print('Reflection probability: ',R)"
   ]
  },
  {
   "cell_type": "code",
   "execution_count": 26,
   "metadata": {},
   "outputs": [
    {
     "name": "stdout",
     "output_type": "stream",
     "text": [
      "Mass of the planet: 3.1e24\n",
      "Distance to the Sun at perihelion: 1.5e11\n",
      "Velocity at perihelion: 3e4\n",
      "Planet from input data...\n",
      "Distance at aphelion:  155175848352.0\n",
      "Velocity at aphelion:  28999.3581333\n",
      "Orbital period:  32504628.9769\n",
      "Orbital eccentricity:  0.0169602161502\n",
      "\n",
      "\n",
      "Earth...\n",
      "Distance at aphelion (m):  152027197209.0\n",
      "Velocity at aphelion (m/s):  29305.3991773\n",
      "Orbital period (s):  31543060.2079\n",
      "Orbital eccentricity:  0.0164719131347\n",
      "\n",
      "\n",
      "Halley comet...\n",
      "Distance at aphelion (m):  5.28221466088e+12\n",
      "Velocity at aphelion (m/s):  906.680696919\n",
      "Orbital period (s):  2399312511.85\n",
      "Orbital eccentricity:  0.967288912645\n"
     ]
    }
   ],
   "source": [
    "G = 6.6738e-11\n",
    "Ms = 1.9891e30\n",
    "\n",
    "def v2(v1,l1,m,M):\n",
    "    coeff = [1,-2*G*M/(v1*l1),-(v1**2)+2*G*M/l1]\n",
    "    v = np.roots(coeff)\n",
    "    v2 = min(v)\n",
    "    \n",
    "    return v2\n",
    "\n",
    "def l2(l1,v1,v2):\n",
    "    l2 = l1*v1/v2\n",
    "    \n",
    "    return l2\n",
    "\n",
    "\n",
    "def params(l1,l2,v1,v2):\n",
    "    a = 0.5*(l1+l2)\n",
    "    b = np.sqrt(l1*l2)\n",
    "    T = 2*np.pi*a*b/(l1*v1)\n",
    "    e = (l2 - l1)/(l2+l1)\n",
    "    \n",
    "    return [a,b,T,e]\n",
    "    \n",
    "M1 = float(input('Mass of the planet: '))\n",
    "L1 = float(input('Distance to the Sun at perihelion: '))\n",
    "V1 = float(input('Velocity at perihelion: '))\n",
    "\n",
    "V2 = v2(V1,L1,M1,Ms)\n",
    "L2 = l2(L1,V1,V2)\n",
    "PRS = params(L1,L2,V1,V2)\n",
    "\n",
    "print('Planet from input data...')\n",
    "print('Distance at aphelion: ',L2)\n",
    "print('Velocity at aphelion: ',V2)\n",
    "print('Orbital period: ',PRS[2])\n",
    "print('Orbital eccentricity: ',PRS[3])\n",
    "print('\\n')\n",
    "\n",
    "# Properties of the Earth orbit\n",
    "V22 = v2(3.0287e4,1.4710e11,5.97e24,Ms)\n",
    "L22 = l2(1.4710e11,3.0287e4,V22)\n",
    "PRSS = params(1.4710e11,L22,3.0287e4,V22)\n",
    "\n",
    "print('Earth...')\n",
    "print('Distance at aphelion (m): ',L22)\n",
    "print('Velocity at aphelion (m/s): ',V22)\n",
    "print('Orbital period (s): ',PRSS[2])\n",
    "print('Orbital eccentricity: ',PRSS[3])\n",
    "print('\\n')\n",
    "\n",
    "# Properties of the Halley comet orbit\n",
    "V222 = v2(5.4529e4,8.7830e10,2.2e14,Ms)\n",
    "L222 = l2(8.7830e10,5.4529e4,V222)\n",
    "PRSSS = params(8.7830e10,L222,5.4529e4,V222)\n",
    "\n",
    "print('Halley comet...')\n",
    "print('Distance at aphelion (m): ',L222)\n",
    "print('Velocity at aphelion (m/s): ',V222)\n",
    "print('Orbital period (s): ',PRSSS[2])\n",
    "print('Orbital eccentricity: ',PRSSS[3])"
   ]
  },
  {
   "cell_type": "code",
   "execution_count": null,
   "metadata": {
    "collapsed": true
   },
   "outputs": [],
   "source": []
  }
 ],
 "metadata": {
  "kernelspec": {
   "display_name": "Python 3",
   "language": "python",
   "name": "python3"
  },
  "language_info": {
   "codemirror_mode": {
    "name": "ipython",
    "version": 3
   },
   "file_extension": ".py",
   "mimetype": "text/x-python",
   "name": "python",
   "nbconvert_exporter": "python",
   "pygments_lexer": "ipython3",
   "version": "3.6.1"
  }
 },
 "nbformat": 4,
 "nbformat_minor": 2
}
