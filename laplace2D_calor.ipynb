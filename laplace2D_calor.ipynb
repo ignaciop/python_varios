{
 "cells": [
  {
   "cell_type": "code",
   "execution_count": 9,
   "metadata": {},
   "outputs": [
    {
     "name": "stdout",
     "output_type": "stream",
     "text": [
      "Please wait a moment\n",
      "Iteration finished\n"
     ]
    }
   ],
   "source": [
    "import matplotlib.pyplot as plt\n",
    "import numpy as np\n",
    "\n",
    "# Cantidad de iteraciones\n",
    "maxIter = 500\n",
    "\n",
    "# Dimensiones y delta\n",
    "lenX = lenY = 20\n",
    "delta = 1\n",
    "\n",
    "# Condiciones de contorno\n",
    "Ttop = 100\n",
    "Tbottom = 0\n",
    "Tleft = 0\n",
    "Tright = 30\n",
    "\n",
    "# Condicion inicial (arbitraria)\n",
    "Tguess = 30\n",
    "\n",
    "# Creo matriz. Inicialmente le asigno el valor Tguess a todas las posiciones\n",
    "T = np.empty((lenX,lenY))\n",
    "T.fill(Tguess)\n",
    "\n",
    "# Condiciones de contorno (matriz)\n",
    "T[(lenY-1):,:] = Ttop\n",
    "T[:1,:] = Tbottom\n",
    "T[:,(lenX-1):] = Tright\n",
    "T[:,:1] = Tleft\n",
    "\n",
    "# Completo la matriz con los valores correspondientes a la ec dif\n",
    "print('Please wait a moment')\n",
    "\n",
    "for iteration in range(0,maxIter):\n",
    "    for i in range(1,lenX-1,delta):\n",
    "        for j in range(1,lenY-1,delta):\n",
    "            T[i,j] = 0.25 * (T[i+1][j] + T[i-1][j] + T[i][j+1] + T[i][j-1])\n",
    "            \n",
    "print('Iteration finished')\n",
    "\n",
    "# Configuro el grafico\n",
    "X, Y = np.meshgrid(np.arange(0,lenX),np.arange(0,lenY))\n",
    "\n",
    "colorInterpolation = 50\n",
    "colourMap = plt.cm.jet\n",
    "plt.title('Contour of temperature')\n",
    "plt.contourf(X,Y,T,colorInterpolation, cmap=colourMap)\n",
    "plt.colorbar()\n",
    "plt.show()"
   ]
  },
  {
   "cell_type": "code",
   "execution_count": null,
   "metadata": {
    "collapsed": true
   },
   "outputs": [],
   "source": []
  }
 ],
 "metadata": {
  "kernelspec": {
   "display_name": "Python 3",
   "language": "python",
   "name": "python3"
  },
  "language_info": {
   "codemirror_mode": {
    "name": "ipython",
    "version": 3
   },
   "file_extension": ".py",
   "mimetype": "text/x-python",
   "name": "python",
   "nbconvert_exporter": "python",
   "pygments_lexer": "ipython3",
   "version": "3.4.3"
  }
 },
 "nbformat": 4,
 "nbformat_minor": 2
}
