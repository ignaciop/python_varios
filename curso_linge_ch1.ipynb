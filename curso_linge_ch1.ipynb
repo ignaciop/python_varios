{
 "cells": [
  {
   "cell_type": "code",
   "execution_count": 6,
   "metadata": {
    "collapsed": true
   },
   "outputs": [],
   "source": []
  },
  {
   "cell_type": "code",
   "execution_count": 1,
   "metadata": {},
   "outputs": [
    {
     "name": "stdout",
     "output_type": "stream",
     "text": [
      "1.2342\n"
     ]
    }
   ],
   "source": [
    "# ball program\n",
    "\n",
    "v0 = 5\n",
    "g = 9.81\n",
    "t = 0.6\n",
    "\n",
    "y = v0*t - 0.5*g*t**2\n",
    "\n",
    "print(y)"
   ]
  },
  {
   "cell_type": "code",
   "execution_count": 5,
   "metadata": {},
   "outputs": [
    {
     "name": "stdout",
     "output_type": "stream",
     "text": [
      "64\n"
     ]
    }
   ],
   "source": [
    "# Ej 1.2\n",
    "\n",
    "L = 4\n",
    "V = L**3\n",
    "\n",
    "print(V)"
   ]
  },
  {
   "cell_type": "code",
   "execution_count": 45,
   "metadata": {},
   "outputs": [
    {
     "name": "stdout",
     "output_type": "stream",
     "text": [
      "The circle of radius 2 cm has an area of 12.57 cm2 and a circunference of 12.57 cm\n"
     ]
    }
   ],
   "source": [
    "# Ej 1.3\n",
    "import math\n",
    "\n",
    "r = 2\n",
    "a = math.pi*r**2\n",
    "c = 2*math.pi*r\n",
    "\n",
    "print('The circle of radius {:d} cm has an area of {:.2f} cm2 and a circunference of {:.2f} cm'.format(r,a,c))"
   ]
  },
  {
   "cell_type": "code",
   "execution_count": 33,
   "metadata": {},
   "outputs": [
    {
     "name": "stdout",
     "output_type": "stream",
     "text": [
      "[  1.   8.  27.]\n"
     ]
    }
   ],
   "source": [
    "# Ej 1.4\n",
    "\n",
    "import numpy as np\n",
    "import matplotlib.pyplot as plt\n",
    "\n",
    "L = np.linspace(1,3,3)\n",
    "V = L**3\n",
    "\n",
    "print(V)\n",
    "\n",
    "plt.figure(1)\n",
    "plt.plot(L,V,'ro',label=r'$V = L^3$')\n",
    "plt.xlabel('L')\n",
    "plt.ylabel('V')\n",
    "plt.grid()\n",
    "plt.legend(loc='best')\n",
    "plt.xlim([0,4])\n",
    "plt.show()\n"
   ]
  },
  {
   "cell_type": "code",
   "execution_count": 37,
   "metadata": {},
   "outputs": [
    {
     "name": "stdout",
     "output_type": "stream",
     "text": [
      "Average: 3.00\n"
     ]
    }
   ],
   "source": [
    "# Ej 1.5\n",
    "\n",
    "l = [i for i in range(1,6)]\n",
    "s = sum(l)\n",
    "a = s / len(l)\n",
    "\n",
    "print('Average: {:.2f}'.format(a))"
   ]
  },
  {
   "cell_type": "code",
   "execution_count": 47,
   "metadata": {},
   "outputs": [
    {
     "name": "stdout",
     "output_type": "stream",
     "text": [
      "Side length of cube: 4\n",
      "Volume: 64.00 cm3\n",
      "Circle radius: 2\n",
      "This circle has an area of 12.57 cm2 and a circunference of 12.57 cm\n"
     ]
    }
   ],
   "source": [
    "# Ej 1.6\n",
    "\n",
    "import math\n",
    "\n",
    "L = float(input('Side length of cube: '))\n",
    "V = L**3\n",
    "\n",
    "print('Volume: {:.2f} cm3'.format(V))\n",
    "\n",
    "\n",
    "r = float(input('Circle radius: '))\n",
    "a = math.pi*r**2\n",
    "c = 2*math.pi*r\n",
    "\n",
    "print('This circle has an area of {:.2f} cm2 and a circunference of {:.2f} cm'.format(a,c))"
   ]
  },
  {
   "cell_type": "code",
   "execution_count": 52,
   "metadata": {},
   "outputs": [
    {
     "name": "stdout",
     "output_type": "stream",
     "text": [
      "5\n",
      "4\n",
      "6\n"
     ]
    },
    {
     "data": {
      "text/plain": [
       "int"
      ]
     },
     "execution_count": 52,
     "metadata": {},
     "output_type": "execute_result"
    }
   ],
   "source": [
    "# Ej 1.7: el problema es que toma la division entera heredada de Python 2. En este caso, para que 2/4 = 0.5 una forma es\n",
    "# importar \"from __future__ import division\" y hacer el calculo como antes. Otra forma es hacer x//y. En Python 3 esto\n",
    "# no es necesario.\n",
    "\n",
    "# Ej 1.8\n",
    "\n",
    "x = 2\n",
    "\n",
    "print(3 + x)\n",
    "print(x + 1*2)\n",
    "print((x+1)*2)\n",
    "type(x)"
   ]
  },
  {
   "cell_type": "code",
   "execution_count": 53,
   "metadata": {},
   "outputs": [
    {
     "name": "stdout",
     "output_type": "stream",
     "text": [
      "Multiplying 3.14159 and 2 gives 6.283\n"
     ]
    }
   ],
   "source": [
    "# Ej 1.9\n",
    "\n",
    "import math\n",
    "\n",
    "x = math.pi\n",
    "y = 2\n",
    "z = x*y\n",
    "\n",
    "print('Multiplying {:.5f} and {:d} gives {:.3f}'.format(x,y,z))"
   ]
  },
  {
   "cell_type": "code",
   "execution_count": 64,
   "metadata": {},
   "outputs": [
    {
     "name": "stdout",
     "output_type": "stream",
     "text": [
      "8.521712476715937\n",
      "6.62867608157951\n",
      "8.457775396075485\n",
      "6.111209709353152\n"
     ]
    }
   ],
   "source": [
    "# Ej 1.10\n",
    "\n",
    "import random\n",
    "\n",
    "for i in range(0,4):\n",
    "    print(random.uniform(0,9))"
   ]
  },
  {
   "cell_type": "code",
   "execution_count": null,
   "metadata": {
    "collapsed": true
   },
   "outputs": [],
   "source": []
  },
  {
   "cell_type": "code",
   "execution_count": null,
   "metadata": {
    "collapsed": true
   },
   "outputs": [],
   "source": []
  }
 ],
 "metadata": {
  "kernelspec": {
   "display_name": "Python 3",
   "language": "python",
   "name": "python3"
  },
  "language_info": {
   "codemirror_mode": {
    "name": "ipython",
    "version": 3
   },
   "file_extension": ".py",
   "mimetype": "text/x-python",
   "name": "python",
   "nbconvert_exporter": "python",
   "pygments_lexer": "ipython3",
   "version": "3.4.3"
  }
 },
 "nbformat": 4,
 "nbformat_minor": 2
}
