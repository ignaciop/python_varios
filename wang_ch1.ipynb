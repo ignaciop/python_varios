{
 "cells": [
  {
   "cell_type": "code",
   "execution_count": 25,
   "metadata": {},
   "outputs": [],
   "source": [
    "import numpy as np\n",
    "import matplotlib.pyplot as plt"
   ]
  },
  {
   "cell_type": "code",
   "execution_count": 235,
   "metadata": {},
   "outputs": [
    {
     "name": "stdout",
     "output_type": "stream",
     "text": [
      "(0.5, 0)\n",
      "(0.5, 1)\n",
      "(0.625, 3)\n",
      "(0.7275957614183426, 37)\n",
      "(0.536870912, -29)\n"
     ]
    }
   ],
   "source": [
    "import math\n",
    "\n",
    "print(math.frexp(0.5))\n",
    "print(math.frexp(1.0))\n",
    "print(math.frexp(5.0))\n",
    "print(math.frexp(10e10))\n",
    "print(math.frexp(10e-10))"
   ]
  },
  {
   "cell_type": "code",
   "execution_count": 244,
   "metadata": {},
   "outputs": [
    {
     "name": "stdout",
     "output_type": "stream",
     "text": [
      "0000\n",
      "1001\n",
      "0100\n",
      "1011\n"
     ]
    }
   ],
   "source": [
    "import struct as st\n",
    "\n",
    "fpack = st.pack('f',1/4) # Convierto a float el numero que quiero\n",
    "fint = st.unpack('i',fpack)[0] # Convierto a int\n",
    "print(bin(fint)[-23:][0:4]) # Los ultimos 23 bits son la mantisa, me quedo con los 4 mas significativos\n",
    "\n",
    "fpack1 = st.pack('f',4/5) # Convierto a float el numero que quiero\n",
    "fint1 = st.unpack('i',fpack1)[0] # Convierto a int\n",
    "print(bin(fint1)[-23:][0:4]) # Los ultimos 23 bits son la mantisa, me quedo con los 4 mas significativos\n",
    "\n",
    "fpack2 = st.pack('f',5/8) # Convierto a float el numero que quiero\n",
    "fint2 = st.unpack('i',fpack2)[0] # Convierto a int\n",
    "print(bin(fint2)[-23:][0:4]) # Los ultimos 23 bits son la mantisa, me quedo con los 4 mas significativos\n",
    "\n",
    "fpack3 = st.pack('f',3/7) # Convierto a float el numero que quiero\n",
    "fint3 = st.unpack('i',fpack3)[0] # Convierto a int\n",
    "print(bin(fint3)[-23:][0:4]) # Los ultimos 23 bits son la mantisa, me quedo con los 4 mas significativos"
   ]
  },
  {
   "cell_type": "code",
   "execution_count": 245,
   "metadata": {},
   "outputs": [
    {
     "name": "stdout",
     "output_type": "stream",
     "text": [
      "2.22044604925e-16\n"
     ]
    }
   ],
   "source": [
    "print(np.finfo(float).eps)"
   ]
  },
  {
   "cell_type": "code",
   "execution_count": 246,
   "metadata": {},
   "outputs": [
    {
     "name": "stdout",
     "output_type": "stream",
     "text": [
      "00000000000000000000000\n",
      "00000000000000000000000\n",
      "00110011001100110011010\n",
      "01001000110100100101011\n"
     ]
    }
   ],
   "source": [
    "import struct as st\n",
    "\n",
    "fpack = st.pack('d',10.0) # Convierto a float el numero que quiero\n",
    "fint = st.unpack('q',fpack)[0] # Convierto a int\n",
    "print(bin(fint)[-23:]) # Los ultimos 23 bits son la mantisa\n",
    "\n",
    "fpack1 = st.pack('d',1.0) # Convierto a float el numero que quiero\n",
    "fint1 = st.unpack('q',fpack1)[0] # Convierto a int\n",
    "print(bin(fint1)[-23:]) # Los ultimos 23 bits son la mantisa\n",
    "\n",
    "fpack2 = st.pack('d',0.1) # Convierto a float el numero que quiero\n",
    "fint2 = st.unpack('q',fpack2)[0] # Convierto a int\n",
    "print(bin(fint2)[-23:]) # Los ultimos 23 bits son la mantisa\n",
    "\n",
    "fpack3 = st.pack('d',6e-8) # Convierto a float el numero que quiero\n",
    "fint3 = st.unpack('q',fpack3)[0] # Convierto a int\n",
    "print(bin(fint3)[-23:]) # Los ultimos 23 bits son la mantisa\""
   ]
  },
  {
   "cell_type": "code",
   "execution_count": 247,
   "metadata": {},
   "outputs": [
    {
     "name": "stdout",
     "output_type": "stream",
     "text": [
      "2.54647908947 2.98338582862 3.10142685985 3.13151242645 3.13907016687 3.14096187994\n",
      "0.595113564119 0.158206824965 0.0401657937384 0.0100802271444 0.00252248672008 0.000630773648944\n"
     ]
    }
   ],
   "source": [
    "def circunferencia_aproximada(n):\n",
    "    return (2*n)*np.sin(np.pi/n) #aproximo la circunferencia del circulo por el perimetro de un poligono de n lados, mayor n mejor la aprox.\n",
    "    \n",
    "# Uso la formula del area del circulo A = Pi * (C/2Pi)^2, con C la aproximacion de arriba\\n\",\n",
    "sup4 = np.pi*(circunferencia_aproximada(4)/(2*np.pi))**2\n",
    "sup8 = np.pi*(circunferencia_aproximada(8)/(2*np.pi))**2\n",
    "sup16 = np.pi*(circunferencia_aproximada(16)/(2*np.pi))**2\n",
    "sup32 = np.pi*(circunferencia_aproximada(32)/(2*np.pi))**2\n",
    "sup64 = np.pi*(circunferencia_aproximada(64)/(2*np.pi))**2\n",
    "sup128 = np.pi*(circunferencia_aproximada(128)/(2*np.pi))**2\n",
    "\n",
    "print(sup4, sup8, sup16, sup32, sup64, sup128)\n",
    "\n",
    "err4 = np.pi - sup4\n",
    "err8 = np.pi - sup8\n",
    "err16 = np.pi - sup16\n",
    "err32 = np.pi - sup32\n",
    "err64 = np.pi - sup64\n",
    "err128 = np.pi - sup128\n",
    "    \n",
    "print(err4, err8, err16, err32, err64, err128)"
   ]
  },
  {
   "cell_type": "code",
   "execution_count": 248,
   "metadata": {},
   "outputs": [
    {
     "name": "stdout",
     "output_type": "stream",
     "text": [
      "0b100000000100100000000000000000000000000000000000000000000000000\n",
      "0b11111111110000000000000000000000000000000000000000000000000000\n",
      "0b11111110111001100110011001100110011001100110011001100110011010\n",
      "0b11111001110000000110110010101100101001101001000110100100101011\n"
     ]
    }
   ],
   "source": [
    "import struct as st\n",
    "\n",
    "def tobits(f):\n",
    "    fpack = st.pack('d',f) # Convierto a float el numero que quiero\n",
    "    fint = st.unpack('q',fpack)[0] # Convierto a int\n",
    "    print(bin(fint))\n",
    "\n",
    "tobits(10.0)\n",
    "tobits(1.0)\n",
    "tobits(0.1)\n",
    "tobits(6e-8)"
   ]
  },
  {
   "cell_type": "code",
   "execution_count": 232,
   "metadata": {},
   "outputs": [
    {
     "name": "stdout",
     "output_type": "stream",
     "text": [
      "(666.66661693418007, 5.0000003729936772e-05)\n",
      "(-1.8181818181818181e-14, -4.5833333333333338e+17)\n",
      "(-1.8181818181818182e-16, -4.5833333333333338e+17)\n"
     ]
    }
   ],
   "source": [
    "# Asumo raices reales\n",
    "\n",
    "def roots(a,b,c):\n",
    "    delta = b**2 - 4*a*c\n",
    "    \n",
    "    x1 = (2*c) / (-b-np.sqrt(delta))\n",
    "    x2 = (-b-np.sqrt(delta)) / (2*a)\n",
    "     \n",
    "    return x1, x2\n",
    "\n",
    "print(roots(3.0e-3,-2.0,1e-4))\n",
    "print(roots(1.2e-17,5.5,1e-13))\n",
    "print(roots(1.2e-17,5.5,1e-15))"
   ]
  },
  {
   "cell_type": "code",
   "execution_count": 64,
   "metadata": {},
   "outputs": [
    {
     "data": {
      "image/png": "[encoded data removed]",
      "text/plain": [
       "<matplotlib.figure.Figure at 0x1068b06a0>"
      ]
     },
     "metadata": {},
     "output_type": "display_data"
    }
   ],
   "source": [
    "N = 40\n",
    "\n",
    "ymas, ymenos = np.empty(N), np.empty(N)\n",
    "err_mas, err_menos = np.empty(N), np.empty(N)\n",
    "\n",
    "ymas[0], ymenos[0] = 1, 1\n",
    "ymas[1] = ((1 + np.sqrt(5))/2)\n",
    "ymenos[1] = ((1 - np.sqrt(5))/2)\n",
    "\n",
    "err_mas[0], err_menos[0] = 0, 0\n",
    "err_mas[1], err_menos[1] = 0, 0\n",
    "\n",
    "for n in range(1,N-1):\n",
    "    ymas[n+1] = ymas[n] + ymas[n-1]\n",
    "    err_mas[n+1] = np.abs(ymas[n+1] - ymas[1]**(n+1))/np.abs(ymas[1]**(n+1))\n",
    "    ymenos[n+1] = ymenos[n] + ymenos[n-1]\n",
    "    err_menos[n+1] = np.abs(ymenos[n+1] - ymenos[1]**(n+1))/np.abs(ymenos[1]**(n+1))\n",
    "    \n",
    "n = [i for i in range(N)]\n",
    "    \n",
    "plt.figure(1)\n",
    "plt.semilogy(n,err_mas, label=r'$\\phi_{+} = \\frac{1 + \\sqrt{5}}{2}$')\n",
    "plt.semilogy(n,err_menos, label=r'$\\phi_{-} = \\frac{1 - \\sqrt{5}}{2}$')\n",
    "plt.xlabel(r'$n$')\n",
    "plt.ylabel('Relative error')\n",
    "plt.xticks()\n",
    "plt.yticks()\n",
    "plt.legend(fontsize=18)\n",
    "plt.show()"
   ]
  },
  {
   "cell_type": "code",
   "execution_count": 211,
   "metadata": {},
   "outputs": [
    {
     "data": {
      "image/png": "[encoded data removed]",
      "text/plain": [
       "<matplotlib.figure.Figure at 0x107f6c048>"
      ]
     },
     "metadata": {},
     "output_type": "display_data"
    }
   ],
   "source": [
    "N = 51\n",
    "\n",
    "ymas, ymenos = np.empty(N), np.empty(N)\n",
    "err_mas, err_menos = np.empty(N), np.empty(N)\n",
    "\n",
    "phi_mas = ((1 + np.sqrt(5))/2)\n",
    "phi_menos = ((1 - np.sqrt(5))/2)\n",
    "\n",
    "ymas[50], ymenos[50] = 1, phi_menos\n",
    "ymas[49], ymenos[49] = phi_mas, 1\n",
    "\n",
    "err_mas[50], err_menos[50] = 0, 0\n",
    "err_mas[49], err_menos[49] = 0, 0\n",
    "\n",
    "for n in reversed(range(N-1)):\n",
    "    ymenos[n-1] = -ymenos[n] + ymenos[n+1]\n",
    "    ymas[n-1] = -ymas[n] + ymas[n+1]\n",
    "\n",
    "    \n",
    "ymenos = [ymenos[i]/ymenos[0] for i in range(N)]\n",
    "ymas = [ymas[i]/ymas[0] for i in range(N)]\n",
    "nn = [i for i in range(N)]\n",
    "\n",
    "for n in reversed(range(N-1)):\n",
    "    err_menos[n-1] = np.abs(ymenos[n-1] - phi_menos**(n-1))/np.abs(phi_menos**(n-1))\n",
    "    err_mas[n-1] = np.abs(ymas[n-1] - phi_mas**(n-1))/np.abs(phi_mas**(n-1))\n",
    "\n",
    "\n",
    "    \n",
    "plt.figure(1)\n",
    "plt.semilogy(nn,err_mas, label=r'$\\phi_{-} = \\frac{1 + \\sqrt{5}}{2}$')\n",
    "plt.semilogy(nn,err_menos, label=r'$\\phi_{-} = \\frac{1 - \\sqrt{5}}{2}$')\n",
    "plt.xlabel(r'$n$')\n",
    "plt.ylabel('Relative error')\n",
    "plt.xticks()\n",
    "plt.yticks()\n",
    "plt.legend(fontsize=18)\n",
    "plt.show()"
   ]
  },
  {
   "cell_type": "code",
   "execution_count": null,
   "metadata": {
    "collapsed": true
   },
   "outputs": [],
   "source": []
  }
 ],
 "metadata": {
  "kernelspec": {
   "display_name": "Python 3",
   "language": "python",
   "name": "python3"
  },
  "language_info": {
   "codemirror_mode": {
    "name": "ipython",
    "version": 3
   },
   "file_extension": ".py",
   "mimetype": "text/x-python",
   "name": "python",
   "nbconvert_exporter": "python",
   "pygments_lexer": "ipython3",
   "version": "3.6.1"
  }
 },
 "nbformat": 4,
 "nbformat_minor": 2
}
