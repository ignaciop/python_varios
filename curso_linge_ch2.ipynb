{
 "cells": [
  {
   "cell_type": "code",
   "execution_count": 2,
   "metadata": {},
   "outputs": [
    {
     "name": "stdout",
     "output_type": "stream",
     "text": [
      "1.2342\n",
      "0.5269499999999994\n"
     ]
    }
   ],
   "source": [
    "# ball_function\n",
    "\n",
    "def y(t):\n",
    "    v0 = 5\n",
    "    g = 9.81\n",
    "    \n",
    "    return v0*t - 0.5*g*t**2\n",
    "\n",
    "time = 0.6\n",
    "print(y(time))\n",
    "\n",
    "time = 0.9\n",
    "print(y(time))"
   ]
  },
  {
   "cell_type": "code",
   "execution_count": 6,
   "metadata": {},
   "outputs": [
    {
     "name": "stdout",
     "output_type": "stream",
     "text": [
      "Give an integer a: 4\n",
      "Give an integer b: 3\n",
      "a is the largest of the two numbers\n"
     ]
    }
   ],
   "source": [
    "# Ej 2.2\n",
    "\n",
    "a = int(input('Give an integer a: '))\n",
    "b = int(input('Give an integer b: '))\n",
    "\n",
    "if a < b:\n",
    "    print('a is the smallest of the two numbers')\n",
    "elif a == b:\n",
    "    print('a and b are equal')\n",
    "else:\n",
    "    print('a is the largest of the two numbers')"
   ]
  },
  {
   "cell_type": "code",
   "execution_count": 55,
   "metadata": {},
   "outputs": [
    {
     "name": "stdout",
     "output_type": "stream",
     "text": [
      "Radius of circle: 1\n",
      "Area of circle with radius of 1.00 cm: 3.14 cm2\n",
      "Circunference of circle with radius of 1.00 cm: 6.28 cm\n"
     ]
    }
   ],
   "source": [
    "# Ej 2.3\n",
    "\n",
    "from math import pi\n",
    "\n",
    "def area(r):\n",
    "    return pi*r**2\n",
    "    \n",
    "def circunference(r):\n",
    "    return 2*pi*r\n",
    "\n",
    "r = float(input('Radius of circle: '))\n",
    "print('Area of circle with radius of {:.2f} cm: {:.2f} cm2'.format(r,area(r)))\n",
    "print('Circunference of circle with radius of {:.2f} cm: {:.2f} cm'.format(r,circunference(r)))"
   ]
  },
  {
   "cell_type": "code",
   "execution_count": 56,
   "metadata": {},
   "outputs": [
    {
     "name": "stdout",
     "output_type": "stream",
     "text": [
      "b: 2\n",
      "c: 3\n",
      "Area of rectangle with sides b = 2.00 and c = 3.00: 6.00\n"
     ]
    }
   ],
   "source": [
    "# Ej 2.4\n",
    "\n",
    "def area(b,c):\n",
    "    return b*c\n",
    "\n",
    "b = float(input('b: '))\n",
    "c = float(input('c: '))\n",
    "print('Area of rectangle with sides b = {:.2f} and c = {:.2f}: {:.2f}'.format(b,c,area(b,c)))"
   ]
  },
  {
   "cell_type": "code",
   "execution_count": 57,
   "metadata": {},
   "outputs": [
    {
     "name": "stdout",
     "output_type": "stream",
     "text": [
      "3.0\n",
      "8.0\n",
      "4.0\n"
     ]
    }
   ],
   "source": [
    "# Ej 2.5\n",
    "\n",
    "def polyarea(x,y):\n",
    "    s1 = sum([x[i]*y[i+1] for i in range(0,len(x)-1)])\n",
    "    s1 = s1 + x[len(x)-1]*y[0] # Agrego el ultimo termino x[n]*y[0] a la suma s1\n",
    "    \n",
    "    s2 = sum([y[i]*x[i+1] for i in range(0,len(y)-1)])\n",
    "    s2 = s2 + y[len(y)-1]*x[0] # Agrego el ultimo termino y[n]*x[0] a la suma s2 \n",
    "    \n",
    "    A = 0.5*abs(s1-s2)\n",
    "    return A\n",
    "\n",
    "\n",
    "# Coordenadas para un triangulo\n",
    "xt = [2,4,7]\n",
    "yt = [1,5,8]\n",
    "print(polyarea(xt,yt))\n",
    "\n",
    "# Coordenadas para un cuadrilatero\n",
    "xc = [1,1,3,3]\n",
    "yc = [1,5,5,1]\n",
    "print(polyarea(xc,yc))\n",
    "\n",
    "# Coordenadas para un pentagono\n",
    "xp = [2,4,4.5,4,1.5]\n",
    "yp = [1,1,2,3,2]\n",
    "print(polyarea(xp,yp))"
   ]
  },
  {
   "cell_type": "code",
   "execution_count": 63,
   "metadata": {},
   "outputs": [
    {
     "name": "stdout",
     "output_type": "stream",
     "text": [
      "N: 5\n",
      "Average: 3.00\n"
     ]
    }
   ],
   "source": [
    "# Ej 2.6\n",
    "\n",
    "def average(N):\n",
    "    a = sum([i for i in range(1,N+1)]) / N\n",
    "    \n",
    "    return a\n",
    "\n",
    "N = int(input('N: '))\n",
    "print('Average: {:.2f}'.format(average(N)))"
   ]
  },
  {
   "cell_type": "code",
   "execution_count": 65,
   "metadata": {},
   "outputs": [
    {
     "name": "stdout",
     "output_type": "stream",
     "text": [
      "55\n"
     ]
    }
   ],
   "source": [
    "# Ej 2.7\n",
    "\n",
    "some_number = 0\n",
    "i = 1\n",
    "\n",
    "while i < 11:\n",
    "    some_number += i\n",
    "    i += 1\n",
    "    \n",
    "print(some_number)"
   ]
  },
  {
   "cell_type": "code",
   "execution_count": 94,
   "metadata": {},
   "outputs": [
    {
     "name": "stdout",
     "output_type": "stream",
     "text": [
      "Approximate value of b: 271.531000000491\n"
     ]
    }
   ],
   "source": [
    "# Ej 2.8\n",
    "\n",
    "from math import pi\n",
    "\n",
    "r = 10.6\n",
    "area_circle = pi*r**2\n",
    "\n",
    "a = 1.3\n",
    "b = 0\n",
    "area_rectangle = a*b\n",
    "\n",
    "while area_rectangle < area_circle:\n",
    "    b += 0.001\n",
    "    area_rectangle = a*b\n",
    "    \n",
    "print('Approximate value of b:',b)"
   ]
  },
  {
   "cell_type": "code",
   "execution_count": 115,
   "metadata": {},
   "outputs": [
    {
     "name": "stdout",
     "output_type": "stream",
     "text": [
      "Crossing points of f and g with N = 400:  [0.010025062656641381, 0.99248120300751808]\n",
      "Crossing points of f and g with N = 1000:  [-0.0040040040040039138, 0.0040040040040043579, 0.99699699699699718, 1.005005005005005]\n"
     ]
    }
   ],
   "source": [
    "# Ej 2.9\n",
    "\n",
    "from numpy import linspace\n",
    "\n",
    "f = lambda x: x\n",
    "g = lambda x: x**2\n",
    "\n",
    "def cross(N,eps):\n",
    "    xx = linspace(-4,4,N)\n",
    "    values = []\n",
    "\n",
    "    for x in xx:\n",
    "        if abs(f(x)-g(x)) < eps:\n",
    "            values.append(x)\n",
    "    \n",
    "    return values\n",
    "\n",
    "print('Crossing points of f and g with N = 400: ',cross(400,0.01))\n",
    "print('Crossing points of f and g with N = 1000: ',cross(1000,0.01))\n",
    "# A medida que aumento N, los intervalos son mas chicos y hay mas puntos donde se cruzan muy cercanos de a pares\n",
    "# (es como \"aumentar la resolucion\")"
   ]
  },
  {
   "cell_type": "code",
   "execution_count": 148,
   "metadata": {},
   "outputs": [
    {
     "name": "stdout",
     "output_type": "stream",
     "text": [
      "Before sorting:  [9.96901590405934, 4.099559787924488, 8.338638789043138, 0.8551994419470121, 9.18875435540282, 3.9595597481480427]\n",
      "After sorting:  [0.8551994419470121, 3.9595597481480427, 4.099559787924488, 8.338638789043138, 9.18875435540282, 9.96901590405934]\n"
     ]
    }
   ],
   "source": [
    "# Ej 2.10\n",
    "\n",
    "from random import uniform\n",
    "\n",
    "def sorting_ingenuo(l):\n",
    "    for i in range(0,len(l)-1):\n",
    "        for j in range(0,len(l)-1-i):\n",
    "            if l[j] > l[j+1]:\n",
    "                aux = l[j+1]\n",
    "                l[j+1] = l[j]\n",
    "                l[j] = aux\n",
    "    \n",
    "    return l\n",
    "\n",
    "l = [uniform(0,10) for i in range(6)]\n",
    "  \n",
    "print('Before sorting: ',l)\n",
    "print('After sorting: ',sorting_ingenuo(l))"
   ]
  },
  {
   "cell_type": "code",
   "execution_count": 206,
   "metadata": {},
   "outputs": [
    {
     "data": {
      "image/png": "[encoded data removed]",
      "text/plain": [
       "<matplotlib.figure.Figure at 0x10a14f748>"
      ]
     },
     "metadata": {},
     "output_type": "display_data"
    },
    {
     "name": "stdout",
     "output_type": "stream",
     "text": [
      "Error relativo total Leibniz:  0.0015915394840465545\n",
      "Error relativo total Euler:  0.00305956481482\n"
     ]
    }
   ],
   "source": [
    "# Ej 2.11\n",
    "\n",
    "from math import pi\n",
    "from numpy import sqrt\n",
    "import matplotlib.pyplot as plt\n",
    "\n",
    "leibniz = lambda N: 8*sum([1/((4*k+1)*(4*k+3)) for k in range(0,N)])\n",
    "euler = lambda N: sqrt(6*sum([1/k**2 for k in range(1,N)]))\n",
    "\n",
    "def plot_errors(N):\n",
    "    err_leibniz = []\n",
    "    err_euler = []\n",
    "    \n",
    "    for n in range(1,N+1):\n",
    "        err_leibniz.append((pi - leibniz(n))/pi)\n",
    "        err_euler.append((pi - euler(n))/pi)\n",
    "        \n",
    "    NN = [i for i in range(1,N+1)]\n",
    "    \n",
    "    plt.figure(1)\n",
    "    plt.plot(NN,err_leibniz,label='Error rel Leibniz')\n",
    "    plt.plot(NN,err_euler,label='Error rel Euler')\n",
    "    plt.xlabel('N')\n",
    "    plt.ylabel('Errores relativos')\n",
    "    plt.legend(loc='best')\n",
    "    plt.grid()\n",
    "    plt.show()\n",
    "    \n",
    "    print('Error relativo total Leibniz: ',err_leibniz[-1])\n",
    "    print('Error relativo total Euler: ',err_euler[-1])\n",
    "\n",
    "    \n",
    "plot_errors(100)"
   ]
  },
  {
   "cell_type": "code",
   "execution_count": 205,
   "metadata": {},
   "outputs": [
    {
     "name": "stdout",
     "output_type": "stream",
     "text": [
      "['CA', 'C2', 'C3', 'C4', 'C5', 'C6', 'C7', 'C8', 'C9', 'C10', 'CJ', 'CQ', 'CK', 'DA', 'D2', 'D3', 'D4', 'D5', 'D6', 'D7', 'D8', 'D9', 'D10', 'DJ', 'DQ', 'DK', 'HA', 'H2', 'H3', 'H4', 'H5', 'H6', 'H7', 'H8', 'H9', 'H10', 'HJ', 'HQ', 'HK', 'SA', 'S2', 'S3', 'S4', 'S5', 'S6', 'S7', 'S8', 'S9', 'S10', 'SJ', 'SQ', 'SK']\n",
      "Possible registrations numbers: 676000\n",
      "There are 6 combinations which eyes sums 7\n"
     ]
    }
   ],
   "source": [
    "# Ej 2.12\n",
    "\n",
    "ranks = ['A','2','3','4','5','6','7','8','9','10','J','Q','K']\n",
    "suits = ['C','D','H','S']\n",
    "\n",
    "deck = []\n",
    "\n",
    "for i in range(len(suits)):\n",
    "    for j in range(len(ranks)):\n",
    "        deck.append(suits[i]+ranks[j])\n",
    "        \n",
    "        \n",
    "print(deck)\n",
    "\n",
    "\n",
    "letters = ['A','B','C','D','E','F','G','H','I','J','K','L','M','N','O','P','Q','R','S','T','U','V','W','X','Y','Z']\n",
    "numbers = ['0','1','2','3','4','5','6','7','8','9']\n",
    "\n",
    "vrn = []\n",
    "\n",
    "for i in range(len(letters)):\n",
    "    for j in range(len(letters)):\n",
    "        for w in range(len(numbers)):\n",
    "            for y in range(len(numbers)):\n",
    "                for z in range(len(numbers)):\n",
    "                    vrn.append(letters[i]+letters[j]+numbers[w]+numbers[y]+numbers[z])\n",
    "        \n",
    "        \n",
    "print('Possible registrations numbers: {:d}'.format(len(vrn)))\n",
    "\n",
    "\n",
    "dice1, dice2 = [1,2,3,4,5,6], [1,2,3,4,5,6]\n",
    "\n",
    "throws = []\n",
    "\n",
    "for i in range(len(dice1)):\n",
    "    for j in range(len(dice2)):\n",
    "        throws.append((dice1[i],dice2[j]))\n",
    "\n",
    "k = 0\n",
    "for i in range(len(throws)):\n",
    "    if throws[i][0] + throws[i][1] == 7:\n",
    "        k += 1\n",
    "\n",
    "print('There are {:d} combinations which eyes sums 7'.format(k))"
   ]
  },
  {
   "cell_type": "code",
   "execution_count": 197,
   "metadata": {},
   "outputs": [
    {
     "name": "stdout",
     "output_type": "stream",
     "text": [
      "N: 10\n",
      "[4, 6, 5, 2, 6, 1, 6, 6, 3, 6]\n",
      "0.5\n"
     ]
    }
   ],
   "source": [
    "# Ej 2.13\n",
    "\n",
    "from random import randint\n",
    "\n",
    "N = int(input('N: '))\n",
    "\n",
    "l = [randint(1,6) for i in range(N)]\n",
    "print(l)\n",
    "\n",
    "M = 0\n",
    "for i in range(len(l)):\n",
    "    if l[i] == 6:\n",
    "        M += 1\n",
    "        \n",
    "print(M/N)"
   ]
  },
  {
   "cell_type": "code",
   "execution_count": 220,
   "metadata": {},
   "outputs": [
    {
     "name": "stdout",
     "output_type": "stream",
     "text": [
      "Tirar? s\n",
      "Numero:  4\n",
      "Suma total:  4\n",
      "Tirar? s\n",
      "Numero:  4\n",
      "Suma total:  8\n",
      "Tirar? s\n",
      "Numero:  2\n",
      "Suma total:  10\n",
      "Tirar? s\n",
      "Numero:  3\n",
      "Suma total:  13\n",
      "Tirar? s\n",
      "Numero:  6\n",
      "Suma total:  19\n",
      "Tirar? s\n",
      "Numero:  5\n",
      "Suma total:  24\n",
      "Perdiste\n"
     ]
    }
   ],
   "source": [
    "# Ej 2.14\n",
    "\n",
    "from random import randint\n",
    "\n",
    "s = []\n",
    "\n",
    "while True:\n",
    "    entrada = str(input('Tirar? '))\n",
    "    if entrada == 's':\n",
    "        n = randint(1,6)\n",
    "        s.append(n)\n",
    "        suma = sum(s)        \n",
    "        print('Numero: ',n)\n",
    "        print('Suma total: ',suma)\n",
    "        if suma > 21:\n",
    "            print('Perdiste')\n",
    "            break\n",
    "        elif suma == 21:\n",
    "            print('Ganaste!!!')\n",
    "            break\n",
    "    else:\n",
    "        break"
   ]
  },
  {
   "cell_type": "code",
   "execution_count": null,
   "metadata": {
    "collapsed": true
   },
   "outputs": [],
   "source": [
    "# Ej 2.15\n",
    "\n"
   ]
  }
 ],
 "metadata": {
  "kernelspec": {
   "display_name": "Python 3",
   "language": "python",
   "name": "python3"
  },
  "language_info": {
   "codemirror_mode": {
    "name": "ipython",
    "version": 3
   },
   "file_extension": ".py",
   "mimetype": "text/x-python",
   "name": "python",
   "nbconvert_exporter": "python",
   "pygments_lexer": "ipython3",
   "version": "3.6.1"
  }
 },
 "nbformat": 4,
 "nbformat_minor": 2
}
