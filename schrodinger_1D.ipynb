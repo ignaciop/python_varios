{
 "cells": [
  {
   "cell_type": "code",
   "execution_count": 10,
   "metadata": {},
   "outputs": [
    {
     "name": "stdout",
     "output_type": "stream",
     "text": [
      "Energies for the bound states are: \n",
      "Energies from the analyitical model are: \n",
      "Symmetrical case\n",
      "%.4f 0.9178704776435763\n",
      "%.4f 8.092150551165636\n",
      "%.4f 19.972582925556583\n",
      "(Antisymmetrical case)\n",
      "%.4f 3.646200788218426\n",
      "%.4f 14.00216028337388\n"
     ]
    },
    {
     "name": "stderr",
     "output_type": "stream",
     "text": [
      "/Library/Frameworks/Python.framework/Versions/3.6/lib/python3.6/site-packages/ipykernel_launcher.py:43: RuntimeWarning: divide by zero encountered in true_divide\n",
      "/Library/Frameworks/Python.framework/Versions/3.6/lib/python3.6/site-packages/ipykernel_launcher.py:44: RuntimeWarning: divide by zero encountered in true_divide\n"
     ]
    },
    {
     "data": {
      "image/png": "[encoded data removed]",
      "text/plain": [
       "<matplotlib.figure.Figure at 0x108532630>"
      ]
     },
     "metadata": {},
     "output_type": "display_data"
    },
    {
     "data": {
      "image/png": "[encoded data removed]",
      "text/plain": [
       "<matplotlib.figure.Figure at 0x101ecea20>"
      ]
     },
     "metadata": {},
     "output_type": "display_data"
    },
    {
     "name": "stderr",
     "output_type": "stream",
     "text": [
      "/Library/Frameworks/Python.framework/Versions/3.6/lib/python3.6/site-packages/matplotlib/axes/_axes.py:545: UserWarning: No labelled objects found. Use label='...' kwarg on individual plots.\n",
      "  warnings.warn(\"No labelled objects found. \"\n"
     ]
    },
    {
     "data": {
      "image/png": "[encoded data removed]",
      "text/plain": [
       "<matplotlib.figure.Figure at 0x10853a518>"
      ]
     },
     "metadata": {},
     "output_type": "display_data"
    }
   ],
   "source": [
    "import numpy as np\n",
    "import matplotlib.pyplot as plt\n",
    "from scipy.integrate import odeint\n",
    "from scipy.optimize import brentq\n",
    "\n",
    "def V(x):\n",
    "    L = 1\n",
    "    if abs(x) > L:\n",
    "        return 0\n",
    "    else:\n",
    "        return Vo\n",
    "    \n",
    "def SE(psi, x):\n",
    "    state0 = psi[1]\n",
    "    state1 = 2 * (V(x) - E) * psi[0]\n",
    "    \n",
    "    return [state0,state1]\n",
    "\n",
    "def Wave_function(energy):\n",
    "    global psi\n",
    "    global E\n",
    "    \n",
    "    E = energy\n",
    "    psi = odeint(SE, psi0, x)\n",
    "    \n",
    "    return psi[-1,0]\n",
    "\n",
    "def find_all_zeroes(x,y):\n",
    "    all_zeroes = []\n",
    "    s = sign(y)\n",
    "    \n",
    "    for i in range(len(y) - 1):\n",
    "        if s[i] + s[i+1] == 0:\n",
    "            zero = brentq(Wave_function, x[i], x[i+1])\n",
    "            all_zeroes.append(zero)\n",
    "    \n",
    "    return all_zeroes\n",
    "\n",
    "def find_analytic_energies(en):\n",
    "    z = np.sqrt(2 * en)\n",
    "    z0 = np.sqrt(2 * Vo)\n",
    "    z_zeroes = []\n",
    "    f_sym = lambda z: np.tan(z) - np.sqrt((z0 / z)**2 - 1)\n",
    "    f_asym = lambda z: -1 / np.tan(z) - np.sqrt((z0 / z)**2 - 1)\n",
    "    \n",
    "    s = sign(f_sym(z))\n",
    "    for i in range(len(s) - 1):\n",
    "        if s[i] + s[i+1] == 0:\n",
    "            zero = brentq(f_sym, z[i], z[i+1])\n",
    "            z_zeroes.append(zero)\n",
    "    \n",
    "    print(\"Energies from the analyitical model are: \")\n",
    "    print(\"Symmetrical case\")\n",
    "    \n",
    "    for i in range(0, len(z_zeroes),2):   # discard z=(2n-1)pi/2 solutions cause that's where tan(z) is discontinous\n",
    "        print(\"%.4f\",(z_zeroes[i]**2/2))\n",
    "        \n",
    "    # Now for the asymmetrical\n",
    "    z_zeroes = []\n",
    "    s = sign(f_asym(z))\n",
    "    for i in range(len(s)-1):   # find zeroes of this crazy function\n",
    "       if s[i]+s[i+1] == 0:\n",
    "           zero = brentq(f_asym, z[i], z[i+1])\n",
    "           z_zeroes.append(zero)\n",
    "    print(\"(Antisymmetrical case)\")\n",
    "    for i in range(0, len(z_zeroes),2):   # discard z=npi solutions cause that's where ctg(z) is discontinous\n",
    "        print(\"%.4f\", (z_zeroes[i]**2/2))\n",
    "\n",
    "        \n",
    "N = 1000                  # number of points to take\n",
    "psi = np.zeros([N,2])     # Wave function values and its derivative (psi and psi')\n",
    "psi0 = np.array([0,1])   # Wave function initial states\n",
    "Vo = 20\n",
    "E = 0.0                   # global variable Energy  needed for Sch.Eq, changed in function \"Wave function\"\n",
    "b = 2                     # point outside of well where we need to check if the function diverges\n",
    "x = np.linspace(-b, b, N)    #\n",
    "\n",
    "en = np.linspace(0, Vo, 100)   # vector of energies where we look for the stable states\n",
    " \n",
    "psi_b = []      # vector of wave function at x = b for all of the energies in en\n",
    "for e1 in en:\n",
    "    psi_b.append(Wave_function(e1))     # for each energy e1 find the the psi(x) at x = b\n",
    "E_zeroes = find_all_zeroes(en, psi_b)   # now find the energies where psi(b) = 0 \n",
    " \n",
    "    # Print energies for the bound states\n",
    "print(\"Energies for the bound states are: \")\n",
    "for E in E_zeroes:\n",
    "    print(\"%.2f\",E)\n",
    "    # Print energies of each bound state from the analytical model\n",
    "find_analytic_energies(en)   \n",
    " \n",
    "    # Plot wave function values at b vs energy vector\n",
    "plt.figure(1)\n",
    "plt.plot(en/Vo,psi_b)\n",
    "plt.title('Values of the $\\Psi(b)$ vs. Energy')\n",
    "plt.xlabel('Energy, $E/V_0$')\n",
    "plt.ylabel('$\\Psi(x = b)$', rotation='horizontal')\n",
    "for E in E_zeroes:\n",
    "    plt.plot(E/Vo, [0], 'go')\n",
    "    plt.annotate(\"E = %.2f\"%E, xy = (E/Vo, 0), xytext=(E/Vo, 30))\n",
    "plt.grid()\n",
    "plt.show()\n",
    " \n",
    "    # Plot the wavefunctions for first 4 eigenstates\n",
    "plt.figure(2)\n",
    "for E in E_zeroes[0:4]:\n",
    "    Wave_function(E)\n",
    "    plt.plot(x, psi[:,0], label=\"E = %.2f\"%E)\n",
    "plt.legend(loc=\"upper right\")\n",
    "plt.title('Wave function')\n",
    "plt.xlabel('x, $x/L$')\n",
    "plt.ylabel('$\\Psi(x)$', rotation='horizontal', fontsize = 15)\n",
    "plt.grid()\n",
    "plt.show()"
   ]
  },
  {
   "cell_type": "code",
   "execution_count": null,
   "metadata": {
    "collapsed": true
   },
   "outputs": [],
   "source": []
  }
 ],
 "metadata": {
  "kernelspec": {
   "display_name": "Python 3",
   "language": "python",
   "name": "python3"
  },
  "language_info": {
   "codemirror_mode": {
    "name": "ipython",
    "version": 3
   },
   "file_extension": ".py",
   "mimetype": "text/x-python",
   "name": "python",
   "nbconvert_exporter": "python",
   "pygments_lexer": "ipython3",
   "version": "3.6.1"
  }
 },
 "nbformat": 4,
 "nbformat_minor": 2
}
