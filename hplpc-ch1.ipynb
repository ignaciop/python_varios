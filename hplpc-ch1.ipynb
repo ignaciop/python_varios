{
 "cells": [
  {
   "cell_type": "code",
   "execution_count": 64,
   "metadata": {},
   "outputs": [
    {
     "name": "stdout",
     "output_type": "stream",
     "text": [
      "1.2342\n"
     ]
    }
   ],
   "source": [
    "# Ej 1.1\n",
    "\n",
    "v0 = 5\n",
    "g = 9.81\n",
    "t = 0.6\n",
    "\n",
    "y = v0*t - 0.5*g*t**2\n",
    "\n",
    "print(y)"
   ]
  },
  {
   "cell_type": "code",
   "execution_count": 65,
   "metadata": {},
   "outputs": [
    {
     "name": "stdout",
     "output_type": "stream",
     "text": [
      "64\n"
     ]
    }
   ],
   "source": [
    "# Ej 1.2\n",
    "\n",
    "L = 4\n",
    "V = L**3\n",
    "\n",
    "print(V)"
   ]
  },
  {
   "cell_type": "code",
   "execution_count": 66,
   "metadata": {},
   "outputs": [
    {
     "name": "stdout",
     "output_type": "stream",
     "text": [
      "Circle of radius 2.00 -> Circunference = 12.57 cm || Area = 12.57 cm^2\n"
     ]
    }
   ],
   "source": [
    "# Ej 1.3\n",
    "\n",
    "import math\n",
    "\n",
    "r = 2\n",
    "C = 2*math.pi*r\n",
    "A = math.pi*r**2\n",
    "\n",
    "print('Circle of radius {r:.2f} -> Circunference = {C:.2f} cm || Area = {A:.2f} cm^2'.format(r = r, C = C, A = A))"
   ]
  },
  {
   "cell_type": "code",
   "execution_count": 67,
   "metadata": {},
   "outputs": [
    {
     "name": "stdout",
     "output_type": "stream",
     "text": [
      "V = [  1.   8.  27.]\n"
     ]
    },
    {
     "data": {
      "image/png": "[encoded data removed]",
      "text/plain": [
       "<matplotlib.figure.Figure at 0x10789dc88>"
      ]
     },
     "metadata": {},
     "output_type": "display_data"
    }
   ],
   "source": [
    "# Ej 1.4\n",
    "\n",
    "import numpy as np\n",
    "import matplotlib.pyplot as plt\n",
    "\n",
    "L = np.linspace(1, 3, 3)\n",
    "V = L**3\n",
    "\n",
    "print('V =', V)\n",
    "\n",
    "plt.figure(1)\n",
    "plt.plot(L, V, 'ro')\n",
    "plt.xlabel('L (cm)')\n",
    "plt.ylabel('V (cm^3)')\n",
    "plt.grid()\n",
    "plt.show()"
   ]
  },
  {
   "cell_type": "code",
   "execution_count": 68,
   "metadata": {},
   "outputs": [
    {
     "name": "stdout",
     "output_type": "stream",
     "text": [
      "Average: 3.0\n"
     ]
    }
   ],
   "source": [
    "# Ej 1.5\n",
    "\n",
    "s = [i for i in range(1,6)]\n",
    "suma = sum(s)\n",
    "average = suma/len(s)\n",
    "\n",
    "print('Average:',average)"
   ]
  },
  {
   "cell_type": "code",
   "execution_count": 76,
   "metadata": {},
   "outputs": [
    {
     "name": "stdout",
     "output_type": "stream",
     "text": [
      "L = 4\n",
      "64.0\n",
      "r = 2\n",
      "Circle of radius 2.00 -> Circunference = 12.57 cm || Area = 12.57 cm^2\n"
     ]
    }
   ],
   "source": [
    "# Ej 1.6\n",
    "\n",
    "import math\n",
    "\n",
    "L = float(input('L = '))\n",
    "V = L**3\n",
    "\n",
    "print(V)\n",
    "\n",
    "r = float(input('r = '))\n",
    "C = 2*math.pi*r\n",
    "\n",
    "A = math.pi*r**2\n",
    "\n",
    "print('Circle of radius {r:.2f} -> Circunference = {C:.2f} cm || Area = {A:.2f} cm^2'.format(r = r, C = C, A = A))"
   ]
  },
  {
   "cell_type": "code",
   "execution_count": 70,
   "metadata": {},
   "outputs": [
    {
     "name": "stdout",
     "output_type": "stream",
     "text": [
      "0 0.5\n"
     ]
    }
   ],
   "source": [
    "# Ej 1.7\n",
    "\n",
    "x = 2\n",
    "y = 4\n",
    "\n",
    "print(x//y, x/y)"
   ]
  },
  {
   "cell_type": "code",
   "execution_count": 71,
   "metadata": {},
   "outputs": [
    {
     "name": "stdout",
     "output_type": "stream",
     "text": [
      "7 12\n"
     ]
    },
    {
     "data": {
      "text/plain": [
       "int"
      ]
     },
     "execution_count": 71,
     "metadata": {},
     "output_type": "execute_result"
    }
   ],
   "source": [
    "# Ej 1.8\n",
    "\n",
    "x = 2\n",
    "x += 3\n",
    "\n",
    "y1 = x + 1*2\n",
    "y2 = (x + 1)*2\n",
    "\n",
    "print(y1, y2)\n",
    "type(x)"
   ]
  },
  {
   "cell_type": "code",
   "execution_count": 72,
   "metadata": {},
   "outputs": [
    {
     "name": "stdout",
     "output_type": "stream",
     "text": [
      "Multiplying 3.14159 and 2 gives 6.283\n"
     ]
    }
   ],
   "source": [
    "# Ej 1.9\n",
    "\n",
    "import math\n",
    "\n",
    "x = math.pi\n",
    "y = 2\n",
    "z = x*y\n",
    "\n",
    "print('Multiplying {x:.5f} and {y:d} gives {z:.3f}'.format(x = x, y = y, z = z))"
   ]
  },
  {
   "cell_type": "code",
   "execution_count": 83,
   "metadata": {},
   "outputs": [
    {
     "name": "stdout",
     "output_type": "stream",
     "text": [
      "3.896204741525776 3.992656439400055 8.65307853198772 7.850428562004794\n"
     ]
    }
   ],
   "source": [
    "# Ej 1.10\n",
    "\n",
    "import random\n",
    "\n",
    "x, y, z, t = random.uniform(0,10), random.uniform(0,10), random.uniform(0,10), random.uniform(0,10)\n",
    "\n",
    "print(x, y, z, t)"
   ]
  },
  {
   "cell_type": "code",
   "execution_count": null,
   "metadata": {
    "collapsed": true
   },
   "outputs": [],
   "source": []
  }
 ],
 "metadata": {
  "kernelspec": {
   "display_name": "Python 3",
   "language": "python",
   "name": "python3"
  },
  "language_info": {
   "codemirror_mode": {
    "name": "ipython",
    "version": 3
   },
   "file_extension": ".py",
   "mimetype": "text/x-python",
   "name": "python",
   "nbconvert_exporter": "python",
   "pygments_lexer": "ipython3",
   "version": "3.6.1"
  }
 },
 "nbformat": 4,
 "nbformat_minor": 2
}
