{
 "cells": [
  {
   "cell_type": "markdown",
   "metadata": {},
   "source": [
    "## Ejercicios resueltos del \n",
    "# Segundo parcial de Estructura de la Materia 1"
   ]
  },
  {
   "cell_type": "markdown",
   "metadata": {},
   "source": [
    "\n",
    "**Pablo Cobelli** - Departamento de Física, FCEN-UBA, Argentina.  \n",
    "Estructura de la Materia 1 - _Última actualización: Julio de 2015._ "
   ]
  },
  {
   "cell_type": "markdown",
   "metadata": {},
   "source": [
    "**Este apunte tiene licencia [Creative Commons Attribution 4.0 International License](http://creativecommons.org/licenses/by/4.0/). **\n",
    "\n",
    "----"
   ]
  },
  {
   "cell_type": "markdown",
   "metadata": {},
   "source": [
    "## Acerca de este documento"
   ]
  },
  {
   "cell_type": "markdown",
   "metadata": {},
   "source": [
    "Este documento contiene una descripción detallada de una forma de resolución de los ejercicios del primer parcial de Estructura de la Materia 1. Al respecto caben varias aclaraciones. "
   ]
  },
  {
   "cell_type": "markdown",
   "metadata": {},
   "source": [
    "- En este documento les describimos sólo **una** forma posible de resolver los ejercicios propuestos en el examen, como sabemos existen **muchas** formas de abordar un problema dado.  \n",
    "- Encontrarán un considerable grado de detalle en la descripción de los razonamientos y los cálculos empleados para resolver los ejercicios. Ese grado de detalle responde a la necesidad de que este documento les resulte pedagógico, y puede compararse con el detalle con el que estos problemas se discutirían en clase. Sin embargo **en ninguna forma este nivel de detalle es indicativo del necesario o requerido para la aprobación del examen parcial**.  \n",
    "- Cualquier consulta que tengan respecto del contenido de este documento podrán realizarla durante las clases prácticas. "
   ]
  },
  {
   "cell_type": "markdown",
   "metadata": {},
   "source": [
    "----"
   ]
  },
  {
   "cell_type": "markdown",
   "metadata": {},
   "source": [
    "## Problema 1"
   ]
  },
  {
   "cell_type": "markdown",
   "metadata": {},
   "source": [
    "Se busca modelar la dinámica de una onda de choque generada en una explosión mediante las relaciones de Rankine-Hugoniot, dadas por:"
   ]
  },
  {
   "cell_type": "markdown",
   "metadata": {},
   "source": [
    "\\begin{equation*}\n",
    "    \\frac{\\rho_2}{\\rho_1} = \\frac{u_1}{u_2} = \\frac{(\\gamma+1)}{2/M_1^2+(\\gamma-1)}, \\quad \n",
    "    \\frac{p_2}{p_1} = \\frac{2\\gamma M_1^2 - (\\gamma-1)}{(\\gamma+1)}, \\: \\text{y} \\quad \n",
    "    \\frac{T_2}{T_1} = 1+ 2 \\frac{(\\gamma-1)}{(\\gamma+1)^2} \\frac{\\gamma M_1^2 +1}{M_1^2} (M_1^2-1);\n",
    "\\end{equation*}"
   ]
  },
  {
   "cell_type": "markdown",
   "metadata": {},
   "source": [
    "que vinculan las variables termo- e hidrodinámicas de un gas ideal de exponente $\\gamma$ por delante y por detras de una onda de choque en un flujo unidimensional."
   ]
  },
  {
   "cell_type": "markdown",
   "metadata": {},
   "source": [
    "1. Muestre que para una onda de choque intensa (como la que se intenta modelar), los cocientes $\\rho_2/\\rho_1$ y $u_2/u_1$ tienden a un valor asintótico finito, dependiente únicamente de las propiedades del gas. Interprete físicamente este resultado.\n",
    "2. En ese límite, obtenga una expresión que relacione la velocidad de avance de la onda de choque con aquella del gas por delante de ella (el gas no chocado aún).\n",
    "3. Asumiendo que la explosión libera una cantidad $E$ de energía al medio en forma instantánea, generando una onda de choque esférica cuyo radio a tiempo $t$ es $R(t)$, utilice el análisis dimensional para determinar la dependencia temporal de $R(t)$ en términos de los parámetros relevantes del problema.\n",
    "4. Emplee los últimos dos resultados para determinar cómo depende la presión detrás de la onda de choque con el tiempo. "
   ]
  },
  {
   "cell_type": "markdown",
   "metadata": {},
   "source": [
    "### Resolución"
   ]
  },
  {
   "cell_type": "markdown",
   "metadata": {},
   "source": [
    "El primer inciso sólo requiere pensar qué magnitud determina la intensidad de una onda de choque. Por lo visto en clase, sabemos que una onda de choque será más intensa cuanto mayor sea su velocidad respecto de la velocidad del sonido local. Luego el cociente que determina la intensidad de una onda de choque es $u/c$ (local), cociente que constituye una cantidad adimensional que denominamos número de Mach, $M$ (local).  \n",
    "\n",
    "En consecuencia, una onda intensa estará asociada a un número de Mach $M \\gg 1$. \n",
    "\n",
    "En segundo lugar, este inciso requiere sólo saber (por lo que vimos en clase, y por la experiencia de resolver los ejercicios de la guía) que las relaciones de Rankine-Hugoniot que se dan en el enunciado son válidas en un referencial que se mueve con la onda de choque. \n",
    "\n",
    "Desde ese referencial, el gas no chocado se percibe como 'aproximándose' hacia la onda de choque a velocidad:\n",
    "\n",
    "$$u_1\\bigg)_\\text{solidario al choque} = u_1\\bigg)_\\text{desde el piso} - V_\\text{ch}\\bigg)_\\text{desde el piso}.$$"
   ]
  },
  {
   "cell_type": "markdown",
   "metadata": {},
   "source": [
    "Es decir que, dado que el frente de choque se mueve supersonicamente respecto del piso, cuando observamos este escenario respecto de un referencial solidario al frente de choque, lo que vemos es que el gas delante del choque se mueve hacia él supersónicamente. Observen que esta es la razón de que $M_1$ aparezca en las expresiones de Rankine-Hugoniot, siendo $M_1>1$ en ellas. "
   ]
  },
  {
   "cell_type": "markdown",
   "metadata": {},
   "source": [
    "Con estos dos conceptos claros, es sencillo entonces considerar el límite de onda de choque intensa, $M_1 \\gg 1$, en las ecuaciones de Rankine-Hugoniot que vinculan $\\rho_1$ y $\\rho_2$, y $u_1$ y $u_2$. Se obtiene entonces:"
   ]
  },
  {
   "cell_type": "markdown",
   "metadata": {},
   "source": [
    "\\begin{equation*}\n",
    "    \\frac{\\rho_2}{\\rho_1} = \\frac{u_1}{u_2} = \\frac{(\\gamma+1)}{(\\gamma-1)}.\n",
    "\\end{equation*}"
   ]
  },
  {
   "cell_type": "markdown",
   "metadata": {},
   "source": [
    "La interpretación de este resultado es inmediata aunque sorprendente. Una onda de choque con $M \\rightarrow \\infty$ sólo logra comprimir este gas $(\\gamma+1)/(\\gamma-1)$ veces. Por ejemplo, para un gas con $\\gamma = 1.4$ como los que empleamos en los ejercicios de la guía de trabajos prácticos, ese valor es $2.4/0.4 = 6$, indicando que una onda de choque infinitamente intensa sólo logra comprimir el gas a una densidad 6 veces mayor que la original. Para un gas monoatómico, ese factor es 4. \n",
    "\n",
    "Revirtiendo el argumento, podemos decir tambien que si una perturbación intenta comprimir un gas de exponente $\\gamma$ en un factor superior a $(\\gamma+1)/(\\gamma-1)$, esto daría lugar a una onda de choque moviéndose a velocidad infinita, haciendo imposible alcanzar una mayor tasa de compresión.\n",
    "\n",
    "Algo similar puede decirse para el cociente de velocidades."
   ]
  },
  {
   "cell_type": "markdown",
   "metadata": {},
   "source": [
    "El segundo inciso nos pide obtener una relacion entre la velocidad de la onda de choque $V_\\text{ch}$ y la velocidad del gas por delante de ella. Primero observemos que la relación entre $u_1$ y $u_2$ que acabamos de obtener no incorpora a la velocidad del choque, porque la misma fue obtenida en el referencial solidario al frente de choque. Luego lo primero que hay que observar es que para determinar la velocidad del choque (respecto del piso) hay que usar el resultado anterior y cambiarse de referencial mediante una transformación de Galileo (ya que no esperamos que el frente de choque se mueva relativísticamente!).\n",
    "\n",
    "La transformación asociada a cambiar de referencial puede escribirse explícitamente como:"
   ]
  },
  {
   "cell_type": "markdown",
   "metadata": {},
   "source": [
    "\\begin{align*}\n",
    "u_1 &\\equiv u_1\\bigg)_\\text{solidario al choque} = u_1 \\bigg)_\\text{desde el piso} - V_\\text{ch}\\bigg)_\\text{desde el piso}, \\\\\n",
    "u_2 &\\equiv u_2\\bigg)_\\text{solidario al choque} = u_2 \\bigg)_\\text{desde el piso} - V_\\text{ch}\\bigg)_\\text{desde el piso}. \\\\\n",
    "\\end{align*}"
   ]
  },
  {
   "cell_type": "markdown",
   "metadata": {},
   "source": [
    "La primera igualdad de cada línea hace explícito que lo que mencionamos antes: que aquello que en las relaciones de Rankine-Hugoniot hemos llamado $u_1$ y $u_2$, son las velocidades medidas desde un sistema solidario al choque. "
   ]
  },
  {
   "cell_type": "markdown",
   "metadata": {},
   "source": [
    "Entonces tomamos el resultado de onda intensa en las relaciones de Rankine-Hugoniot para las velocidades, "
   ]
  },
  {
   "cell_type": "markdown",
   "metadata": {},
   "source": [
    "$$ u_1\\bigg)_\\text{solidario al choque} = \\bigg[\\frac{\\gamma+1}{\\gamma-1} \\bigg] \\cdot u_2\\bigg)_\\text{solidario al choque}\n",
    "$$"
   ]
  },
  {
   "cell_type": "markdown",
   "metadata": {},
   "source": [
    "y lo acoplamos a las transformaciones de Galileo que acabamos de obtener, lo que nos da:"
   ]
  },
  {
   "cell_type": "markdown",
   "metadata": {},
   "source": [
    "$$ u_1 \\bigg)_\\text{desde el piso} - V_\\text{ch}\\bigg)_\\text{desde el piso} = \\bigg[\\frac{\\gamma+1}{\\gamma-1} \\bigg] \\cdot \\bigg\\{ u_2 \\bigg)_\\text{desde el piso} - V_\\text{ch}\\bigg)_\\text{desde el piso} \\bigg\\}.\n",
    "$$"
   ]
  },
  {
   "cell_type": "markdown",
   "metadata": {},
   "source": [
    "Un poco de álgebra sencilla nos lleva de esta expresión a una para la velocidad del frente de choque (respecto del piso), dada por"
   ]
  },
  {
   "cell_type": "markdown",
   "metadata": {},
   "source": [
    "$$V_\\text{ch}\\bigg)_\\text{desde el piso} = \\bigg[ \\frac{\\gamma+1}{2} \\bigg] \\cdot u_2\\bigg)_\\text{desde el piso} - \\bigg[\\frac{\\gamma-1}{2} \\bigg] \\cdot u_1\\bigg)_\\text{desde el piso}.$$"
   ]
  },
  {
   "cell_type": "markdown",
   "metadata": {},
   "source": [
    "Esta es la expresión que estábamos buscando, que permite relacionar la velocidad del choque con la velocidad del gas por delante de él (ambas medidas desde el mismo referencial, solidario al piso). \n",
    "\n",
    "Uno puede incluso ir más delante y notar que, si estamos en la aproximación de onda de choque intensa, entonces el último término debe dar una contribución despreciable a la $V_\\text{ch}$, luego podemos afirmar que\n",
    "\n",
    "$$V_\\text{ch}\\bigg)_\\text{desde el piso} \\simeq \\bigg[ \\frac{\\gamma+1}{2} \\bigg] \\cdot u_2\\bigg)_\\text{desde el piso}$$\n",
    "\n",
    "lo que nos lleva a concluir que la velocidad del choque (en esta aproximación) resulta independiente de la velocidad del gas por delante de él. "
   ]
  },
  {
   "cell_type": "markdown",
   "metadata": {},
   "source": [
    "El siguiente inciso nos dice que la explosión que estamos intentando modelar libera instantáneamente una energía $E$ (es decir que no hay un tiempo característico asociado al proceso de entrega de dicha energía al medio). Esto genera una onda de choque esférica cuyo radio a tiempo $t$ es $R(t)$. Dado que $R(t)$ es el radio de la onda de choque, la velocidad del choque que acabamos de obtener en el inciso anterior no es otra cosa que $dR/dt$. "
   ]
  },
  {
   "cell_type": "markdown",
   "metadata": {},
   "source": [
    "Para el análisis dimensional, tenemos entonces $R(t)$ (dado que es la cantidad que estamos tratando de calcular),\n",
    "también el instante $t$ al que ese radio se alcanza, y la energía $E$ que es responsable por la generación de la onda de choque. Sin embargo es fácil observar que ellos solos no resultan suficientes para el análisis dimensional que buscamos realizar, y hay que incluir otros adicionales. Cuales incluir es el desafío que plantea este inciso. \n",
    "\n",
    "La siguiente es **una** forma (quizás la más sistemática) de encarar el análisis dimensional."
   ]
  },
  {
   "cell_type": "markdown",
   "metadata": {
    "collapsed": true
   },
   "source": [
    "Entonces listamos las variables que -probablemente- estén involucradas en la física del problema. En forma general, podemos decir que nuestra lista incluye: $E$, la energía asociada a la explosión; $R(t)$, el radio de la onda de choque esférica a tiempo $t$; el propio $t$ que denota el tiempo transcurrido desde el inicio de la explosión; $p_2$, la presión dentro de la región asociada a la explosión; $p_0$, la presión ambiente; $\\rho_2$, la densidad dentro de la explosión; y $\\rho_0$, la densidad ambiente. No listamos a la temperatura $T$ (interior y/o exterior a la región de la explosión) porque, al tratarse de un gas ideal, conociendo $\\rho$ y $p$ podemos determinar $T$. Por la misma razón, tampoco incluimos la velocidad del sonido $c$. Observemos que no estamos incluyendo a $\\gamma$ ni a $M$ por tratarse de parámetros adimensionales."
   ]
  },
  {
   "cell_type": "markdown",
   "metadata": {},
   "source": [
    "Con estas 7 cantidades físicas podemos formar 4 grupos adimensionales (ya que están presentes las tres dimensiones: masa, longitud y tiempo). Dos grupos se presentan en forma casi natural:"
   ]
  },
  {
   "cell_type": "markdown",
   "metadata": {},
   "source": [
    "$$\\Pi_1 = \\frac{\\rho_1}{\\rho_2}, \\quad \\text{y} \\quad \\Pi_2 = \\frac{p_1}{p_2},$$"
   ]
  },
  {
   "cell_type": "markdown",
   "metadata": {
    "collapsed": true
   },
   "source": [
    "aunque debe quedar claro que estos cocientes podrian estar invertidos sin por ello perder generalidad o validez.  "
   ]
  },
  {
   "cell_type": "markdown",
   "metadata": {},
   "source": [
    "Habiendo construido estos dos grupos, los restantes (despues de un poco de algebra) quedan como"
   ]
  },
  {
   "cell_type": "markdown",
   "metadata": {
    "collapsed": true
   },
   "source": [
    "$$ \\Pi_3 = R \\cdot \\: \\bigg( \\frac{E\\: t^2}{\\rho_1}\\bigg)^{-1/5}, \\quad \\text{y} \\quad \\Pi_4 = \\frac{p_1^5 \\: t^6}{E^2 \\: \\rho_1^{-3}}.$$"
   ]
  },
  {
   "cell_type": "markdown",
   "metadata": {},
   "source": [
    "A partir de esto, el análisis dimensional nos asegura que los parámetros adimensionales $\\Pi_n$ (con $n= 1,2,3, 4$) se vinculan mediante una relación del tipo:"
   ]
  },
  {
   "cell_type": "markdown",
   "metadata": {},
   "source": [
    "$$F(\\Pi_1,\\Pi_2,\\Pi_3,\\Pi_4) = 0,$$"
   ]
  },
  {
   "cell_type": "markdown",
   "metadata": {},
   "source": [
    "o bien"
   ]
  },
  {
   "cell_type": "markdown",
   "metadata": {},
   "source": [
    "$$\\Pi_3 = f(\\Pi_1,\\Pi_2,\\Pi_4),$$"
   ]
  },
  {
   "cell_type": "markdown",
   "metadata": {},
   "source": [
    "donde tanto $F(\\cdot)$ y $f(\\cdot)$ son funciones desconocida (y cuyas formas no son accesibles *a priori* mediante el análisis dimensional). En la última expresión pusimos a $\\Pi_3$ como función de los demás grupos adimensionales dado que es en $\\Pi_3$ donde $R(t)$, parámetro cuya dependencia queremos determinar, aparece.  "
   ]
  },
  {
   "cell_type": "markdown",
   "metadata": {},
   "source": [
    "Ahora bien, en el límite de onda de choque intensa, obtuvimos ya que $\\rho_1$ es proporcional a $\\rho_2$, con lo cuál uno de ellos es prescindible para el análisis. Supongamos entonces que consideramos sólo $\\rho_1$. En este caso tenemos 6 cantidades (sólo redujimos la lista en 1 cantidad) y 3 dimensiones, por lo que tenemos 3 grupos adimensionales en lugar de 4, es decir que dejamos de considerar al grupo $\\Pi_1$. \n",
    "\n",
    "Por otro lado, $\\Pi_2$ es el cociente entre la presión del aire ambiente a la del aire ya chocado, cuyo valor *para una onda de choque intensa* resulta despreciable (es fácil verificarlo usando las relaciones provistas en el enunciado). Asimismo, $\\Pi_4$ también resulta despreciable; se puede observar que compara cantidades ordinarias con el cuadrado de la energía asociada a la explosión, de forma de que debe adoptar un valor muy pequeño. Esto indica que la última ecuación puede reescribirse como "
   ]
  },
  {
   "cell_type": "markdown",
   "metadata": {},
   "source": [
    "$$\\Pi_3 = f(\\Pi_2,\\Pi_4) = f(0,0) = \\text{constante},$$"
   ]
  },
  {
   "cell_type": "markdown",
   "metadata": {},
   "source": [
    "es decir que"
   ]
  },
  {
   "cell_type": "markdown",
   "metadata": {},
   "source": [
    "$$R(t) \\propto \\bigg( \\frac{E \\: t^2}{\\rho_1} \\bigg)^{1/5}.$$"
   ]
  },
  {
   "cell_type": "markdown",
   "metadata": {},
   "source": [
    "**Aclaración:** si hubiésemos definido, por ejemplo, a $\\Pi_2 = \\frac{p_2}{p_1}$, hubiéramos encontrado que en el límite de onda de choque intensa vale $\\Pi_2 \\rightarrow \\infty$, llegando al mismo resultado conceptual: $\\Pi_2$ deja de ser relevante para la física del problema. (Recuerden que algo parecido hicimos en la guía de ejercicios cuando analizamos el problema del arrastre o *drag* que un fluido viscoso ejerce sobre una esfera que se mueve en su seno)."
   ]
  },
  {
   "cell_type": "markdown",
   "metadata": {
    "collapsed": true
   },
   "source": [
    "Luego la posición (radial) de la onda de choque intensa asociada a la explosión escala como $t^{2/5}$; esta dependencia es lo que nos pedía determinar el cuarto inciso del problema."
   ]
  },
  {
   "cell_type": "markdown",
   "metadata": {},
   "source": [
    "Finalmente, nos piden emplear los últimos dos resultados para determinar cómo depende la presión detrás de la onda de choque con el tiempo. Para ello consideramos entonces la expresión que nos daba el enunciado para el cociente de presiones, y obtenemos:"
   ]
  },
  {
   "cell_type": "markdown",
   "metadata": {},
   "source": [
    "$$p_2 = \\frac{2}{(\\gamma+1)} \\: \\rho_1 \\: V_\\text{ch} = \\frac{2}{(\\gamma+1)} \\: \\rho_1 \\: \\frac{d{R}_\\text{ch}}{dt},$$"
   ]
  },
  {
   "cell_type": "markdown",
   "metadata": {},
   "source": [
    "es decir que la presión escala como $t^{-3/5}$."
   ]
  },
  {
   "cell_type": "markdown",
   "metadata": {},
   "source": [
    "## Problema 2"
   ]
  },
  {
   "cell_type": "markdown",
   "metadata": {},
   "source": [
    "Considere el flujo laminar estacionario e incompresible de un fluido viscoso \n",
    "de densidad $\\rho$ y viscosidad dinámica $\\mu$ contenido entre dos \n",
    "cilindros de radios $R_1$ y $R_2$, de acuerdo a lo indicado en la figura.\n",
    "Los cilindros rotan alrededor de su eje longitudinal común con velocidades\n",
    "angulares constantes $\\Omega_1$ y $\\Omega_2$, respectivamente. El\n",
    "cilindro externo se desplaza con velocidad constante $U$ en la dirección \n",
    "longitudinal respecto del cilindro interior, y el fluido es sometido a un\n",
    "gradiente externo de presión dirigido verticalmente y de magnitud $G$. \n",
    "En estas condiciones:\n",
    "1. Asuma inicialmente que el campo de velocidades puede escribirse como\n",
    "$\\vec{u} = u_r \\: \\hat{r} + u_\\theta \\: \\hat{\\theta} + u_z \\: \\hat{z}$,\n",
    "y escriba las condiciones de contorno a las que cada uno de estos tres\n",
    "campos está sometido. \n",
    "2. A partir de lo obtenido previamente y empleando consideraciones de \n",
    "simetría, muestre que $u_r = 0$ en todo el fluido. \n",
    "3. Obtenga el campo de velocidad en el fluido. Para este cálculo, pueden\n",
    "resultarle de utilidad las siguientes ayudas:"
   ]
  },
  {
   "cell_type": "markdown",
   "metadata": {},
   "source": [
    "$$(a) \\: \\text{Si}\\: \\: x f''(x) + f'(x) + ax = 0 \\quad \\Rightarrow \\quad f(x) = A \\log(x) + B - \\frac{a}{4} x^2. $$\n",
    "            "
   ]
  },
  {
   "cell_type": "markdown",
   "metadata": {},
   "source": [
    "$$ (b) \\: \\text{Si}\\: \\: x^2 g''(x) + x g'(x) - g(x) = 0 \\quad \\Rightarrow \\quad g(x) = \\frac{C}{x} + D \\: x. $$"
   ]
  },
  {
   "cell_type": "markdown",
   "metadata": {},
   "source": [
    " 4. Indique en forma precisa cómo calcularía el esfuerzo que el cilindro externo ejerce sobre el fluido. \n",
    " 5. Existe un gradiente radial de presiones? Justifique su existencia\n",
    "o su inexistencia (según sea el caso)."
   ]
  },
  {
   "cell_type": "markdown",
   "metadata": {},
   "source": [
    "### Resolución"
   ]
  },
  {
   "cell_type": "markdown",
   "metadata": {},
   "source": [
    "Comenzamos suponiendo que el campo de velocidades presenta 3 componentes, y que en principio ninguna de ellas es nula. Escribamos las condiciones de contorno a las que está sujeto cada campo. \n",
    "\n",
    "El campo de velocidades radial, $u_r$, debe anularse en los contornos cilíndricos, luego"
   ]
  },
  {
   "cell_type": "markdown",
   "metadata": {},
   "source": [
    "$$\\begin{cases}\n",
    "u_r(r=R_1, \\theta, z) = 0, \\\\\n",
    "\\: \\\\\n",
    "u_r(r=R_2, \\theta, z) = 0,\n",
    "\\end{cases}\n",
    "\\quad \\quad \\forall \\: (\\theta, z).$$"
   ]
  },
  {
   "cell_type": "markdown",
   "metadata": {},
   "source": [
    "Por otro lado, el valor del campo de velocidades azimutal, $u_\\theta$, sobre los contornos debe coincidir con la velocidad azimutal de los mismos. Es decir que "
   ]
  },
  {
   "cell_type": "markdown",
   "metadata": {},
   "source": [
    "$$\\begin{cases}\n",
    "u_\\theta(r=R_1, \\theta, z) = R_1 \\: \\Omega_1, \\\\\n",
    "\\: \\\\\n",
    "u_\\theta(r=R_2, \\theta, z) = R_2 \\: \\Omega_2,\n",
    "\\end{cases}\n",
    "\\quad \\quad \\forall \\: (\\theta, z).$$"
   ]
  },
  {
   "cell_type": "markdown",
   "metadata": {},
   "source": [
    "Finalmente, y mediando el mismo razonamiento, el campo longitudinal de velocidades, $u_z$ sobre los contornos debe satisfacer"
   ]
  },
  {
   "cell_type": "markdown",
   "metadata": {},
   "source": [
    "$$\\begin{cases}\n",
    "u_z(r=R_1, \\theta, z) = 0, \\\\\n",
    "\\: \\\\\n",
    "u_z(r=R_2, \\theta, z) = U,\n",
    "\\end{cases}\n",
    "\\quad \\quad \\forall \\: (\\theta, z).$$"
   ]
  },
  {
   "cell_type": "markdown",
   "metadata": {},
   "source": [
    "Estas son las (seis) condiciones de contorno que nos pedía escribir el primer inciso."
   ]
  },
  {
   "cell_type": "markdown",
   "metadata": {},
   "source": [
    "El segundo inciso nos pide mostrar que el campo de velocidades radial debe ser idénticamente nulo en todo el espacio (ocupado por el fluido, claro), partiendo de las condiciones de contorno obtenidas previamente y empleando consideraciones de simetría. Dado que el fluido es incompresible, resulta "
   ]
  },
  {
   "cell_type": "markdown",
   "metadata": {},
   "source": [
    "$$\\vec{\\nabla}\\cdot \\vec{u} = \\frac{1}{r} \\partial_r (r u_r) + \\frac{1}{r} \\partial_\\theta u_\\theta + \\partial_z u_z = 0.$$"
   ]
  },
  {
   "cell_type": "markdown",
   "metadata": {},
   "source": [
    "El problema, en las condiciones en que está planteado, presenta simetría de rotación en $\\hat{\\theta}$, y de traslación en $\\hat{z}$. Por esta razón no esperamos que el campo de velocidades dependa de $\\theta$ ni de $z$. Esto hace que el segundo y tercer sumando a la izquierda de la última igualdad sean identicamente nulos, de lo que obtenemos una condición para el campo de velocidad radial:"
   ]
  },
  {
   "cell_type": "markdown",
   "metadata": {
    "collapsed": true
   },
   "source": [
    "$$\\partial_r (r u_r) = 0 \\quad \\quad \\Rightarrow \\quad \\quad (r u_r) = A, \\quad \\quad \\text{siendo $A$ una constante}.$$"
   ]
  },
  {
   "cell_type": "markdown",
   "metadata": {
    "collapsed": true
   },
   "source": [
    "Ahora bien, observamos que la única forma de que el campo de velocidad radial obtenido, $u_r = A/r$, satisfaga las dos condiciones de contorno que obtuvimos en el primer inciso es haciendo $A = 0$. Esto muestra entonces que el campo de velocidades radial es nulo. "
   ]
  },
  {
   "cell_type": "markdown",
   "metadata": {},
   "source": [
    "El tercer inciso nos pide obtener los campos de velocidad en el fluido. Según el resultado anterior y las consideraciones de simetría que acabamos de mencionar, deben ser:"
   ]
  },
  {
   "cell_type": "markdown",
   "metadata": {},
   "source": [
    "$$\\begin{cases}\n",
    "u_r = 0, \\\\\n",
    "u_\\theta = u_\\theta(r), \\\\\n",
    "u_z = u_z(r).\n",
    "\\end{cases}\n",
    "\\quad \\quad \\forall \\: (r, \\theta, z).$$"
   ]
  },
  {
   "cell_type": "markdown",
   "metadata": {},
   "source": [
    "Para determinar los dos campos de velocidades que nos quedan (el azimutal y el axial) escribimos las ecuaciones de Navier-Stokes en coordenadas cilíndricas para este flujo que, según nos dicen, puede considerarse estacionario. Empleando la hoja de fórmulas (que podían tener en el examen), llegamos a"
   ]
  },
  {
   "cell_type": "markdown",
   "metadata": {},
   "source": [
    "$$-\\frac{u_\\theta^2}{r} = - \\frac{1}{\\rho} \\frac{\\partial p}{\\partial r}, \\quad \\quad \\text{para $\\hat{r}$},$$"
   ]
  },
  {
   "cell_type": "markdown",
   "metadata": {},
   "source": [
    "$$0 = \\nu \\bigg[ \\frac{1}{r} \\frac{\\partial}{\\partial r} \\bigg(r \\frac{\\partial u_\\theta}{\\partial r} \\bigg) - \\frac{u_\\theta}{r^2}  \\bigg] , \\quad \\quad \\text{para $\\hat{\\theta}$},$$"
   ]
  },
  {
   "cell_type": "markdown",
   "metadata": {},
   "source": [
    "$$0 = - \\frac{1}{\\rho} \\frac{\\partial p}{\\partial z} + \\nu \\:  \\frac{1}{r} \\frac{\\partial}{\\partial r} \\bigg(r \\frac{\\partial u_z}{\\partial r} \\bigg) , \\quad \\quad \\text{para $\\hat{z}$}.$$"
   ]
  },
  {
   "cell_type": "markdown",
   "metadata": {},
   "source": [
    "Notemos que los campos de velocidades aparecen *desacoplados* en estas condiciones."
   ]
  },
  {
   "cell_type": "markdown",
   "metadata": {},
   "source": [
    "Observemos que, en la última ecuación, podemos reemplazar el gradiente axial de presión por el valor que nos proporciona el enunciado, "
   ]
  },
  {
   "cell_type": "markdown",
   "metadata": {},
   "source": [
    "$$\\frac{\\partial p}{\\partial z} = G.$$"
   ]
  },
  {
   "cell_type": "markdown",
   "metadata": {},
   "source": [
    "Asimismo, las derivadas de los campos de velocidad $u_\\theta$ y $u_z$ son derivadas **totales**, ya que la única dependencia de ellos es con la coordenada radial, $r$. Reescribimos entonces"
   ]
  },
  {
   "cell_type": "markdown",
   "metadata": {},
   "source": [
    "$$-\\frac{u_\\theta^2}{r} = - \\frac{1}{\\rho} \\frac{\\partial p}{\\partial r}, \\quad \\quad \\text{para $\\hat{r}$},$$"
   ]
  },
  {
   "cell_type": "markdown",
   "metadata": {},
   "source": [
    "$$0 = \\nu \\bigg[ \\frac{1}{r} \\frac{d}{d r} \\bigg(r \\frac{d u_\\theta}{d r} \\bigg) - \\frac{u_\\theta}{r^2}  \\bigg] , \\quad \\quad \\text{para $\\hat{\\theta}$},$$"
   ]
  },
  {
   "cell_type": "markdown",
   "metadata": {},
   "source": [
    "$$0 = - \\frac{G}{\\rho} + \\nu \\:  \\frac{1}{r} \\frac{d}{d r} \\bigg(r \\frac{d u_z}{d r} \\bigg) , \\quad \\quad \\text{para $\\hat{z}$}.$$"
   ]
  },
  {
   "cell_type": "markdown",
   "metadata": {},
   "source": [
    "Tomemos entonces -por comenzar con una de ellas- la ecuación diferencial para $u_\\theta$. Podemos reexpresarla como"
   ]
  },
  {
   "cell_type": "markdown",
   "metadata": {},
   "source": [
    "$$r^2 u_\\theta'' + r u_\\theta' - u_\\theta = 0,$$"
   ]
  },
  {
   "cell_type": "markdown",
   "metadata": {},
   "source": [
    "lo que nos permite usar una de las ayudas del enunciado, a partir de lo cual obtenemos"
   ]
  },
  {
   "cell_type": "markdown",
   "metadata": {},
   "source": [
    "$$u_\\theta(r) = \\frac{C}{r} + D r.$$"
   ]
  },
  {
   "cell_type": "markdown",
   "metadata": {},
   "source": [
    "Las constantes $C$ y $D$ las obtenemos a partir de las condiciones de contorno que detallamos en el primer inciso del problema. Concretamente, tenemos "
   ]
  },
  {
   "cell_type": "markdown",
   "metadata": {},
   "source": [
    "\\begin{align}\n",
    "R_1 \\Omega_1 &= \\frac{C}{R_1} + D R_1, \\\\\n",
    "R_2 \\Omega_2 &= \\frac{C}{R_2} + D R_2.\n",
    "\\end{align}"
   ]
  },
  {
   "cell_type": "markdown",
   "metadata": {},
   "source": [
    "Este sistema puede resolverse fácilmente (por ejemplo, mediante la regla de Cramer) para obtener:"
   ]
  },
  {
   "cell_type": "markdown",
   "metadata": {},
   "source": [
    "$$C = \\bigg( \\frac{\\Omega_1 - \\Omega_2}{R_2^2-R_1^2} \\bigg) \\: R_1^2 \\: R_2^2,$$"
   ]
  },
  {
   "cell_type": "markdown",
   "metadata": {},
   "source": [
    "$$ D = \\frac{\\Omega_2 \\: R_2^2 - \\Omega_1 \\: R_1^2}{R_2^2 - R_1^2}.$$"
   ]
  },
  {
   "cell_type": "markdown",
   "metadata": {},
   "source": [
    "Esto completa entonces la determinación del campo de velocidades azimutal."
   ]
  },
  {
   "cell_type": "markdown",
   "metadata": {},
   "source": [
    "Para el caso del campo de velocidades axial procedemos de igual forma. Partimos de la ecuación diferencial ordinaria para $u_z$,"
   ]
  },
  {
   "cell_type": "markdown",
   "metadata": {},
   "source": [
    "$$ r u_z'' + u_z' - \\frac{G}{\\rho \\nu} = 0,$$"
   ]
  },
  {
   "cell_type": "markdown",
   "metadata": {},
   "source": [
    "y empleamos la ayuda suministrada en el enunciado. Obtenemos entonces"
   ]
  },
  {
   "cell_type": "markdown",
   "metadata": {},
   "source": [
    "$$ u_z(r) = A \\log r + B - \\frac{G}{4 \\rho \\nu} r^2,$$"
   ]
  },
  {
   "cell_type": "markdown",
   "metadata": {},
   "source": [
    "donde $A$ y $B$ son constantes a determinar a partir de las condiciones de contorno sobre $u_z$, detalladas en el primer inciso. El sistema de ecuaciones lineales resultante es"
   ]
  },
  {
   "cell_type": "markdown",
   "metadata": {},
   "source": [
    "$$\\begin{align}\n",
    "A \\log R_1 + B  &= \\frac{G}{\\rho \\nu} R_1^2, \\\\\n",
    "A \\log R_2 + B &= \\frac{G}{\\rho \\nu} R_2^2 + U.\n",
    "\\end{align}$$"
   ]
  },
  {
   "cell_type": "markdown",
   "metadata": {},
   "source": [
    "Empleando la regla de Cramer (provista en el pizarrón durante el examen) se llega a"
   ]
  },
  {
   "cell_type": "markdown",
   "metadata": {},
   "source": [
    "$$u_z(r) = \\frac{G}{4 \\rho \\nu} \\bigg[ R_1^2 - r^2 + \\frac{(R_2^2-R_1^2) \\log(r/R_1)}{\\log (R_2/R_1)} \\bigg] + U \\frac{\\log (r/R_1)}{\\log (R_2/R_1)}.$$"
   ]
  },
  {
   "cell_type": "markdown",
   "metadata": {},
   "source": [
    "En resumen, los campos de velocidades axial y azimutal resultan:"
   ]
  },
  {
   "cell_type": "markdown",
   "metadata": {},
   "source": [
    "$$u_\\theta(r) = \\bigg(\\frac{R_2^2\\Omega_2-R_1^2\\Omega_1}{R_2^2-R_1^2}\\bigg) r + \\bigg(\\frac{\\Omega_1-\\Omega_2}{R_2^2-R_1^2} \\bigg) \\frac{R_1^2 R_2^2}{r},$$"
   ]
  },
  {
   "cell_type": "markdown",
   "metadata": {},
   "source": [
    "$$u_z(r) = \\frac{G}{4 \\rho \\nu} \\bigg[ R_1^2 - r^2 + \\frac{(R_2^2-R_1^2) \\log(r/R_1)}{\\log (R_2/R_1)} \\bigg] + U \\frac{\\log (r/R_1)}{\\log (R_2/R_1)}.$$"
   ]
  },
  {
   "cell_type": "markdown",
   "metadata": {},
   "source": [
    "Resulta reconfortante encontrar que estos campos de velocidades se reducen a otros conocidos en casos particulares. Por un lado, vemos que el campo azimutal corresponde al flujo de Couette axisimétrico que vimos en clases prácticas. Por el otro, el campo de velocidad axial se reduce al ya conocido de Hagen-Poiseuille entre dos cilindros si $U=0$. "
   ]
  },
  {
   "cell_type": "markdown",
   "metadata": {},
   "source": [
    "El siguiente inciso nos pide indicar en forma precisa cómo calcular el esfuerzo que el cilindro externo ejerce sobre el fluido. "
   ]
  },
  {
   "cell_type": "markdown",
   "metadata": {},
   "source": [
    "El cilindro externo es una superficie cuya normal está en $(-\\hat{r})$. El fluido ejerce esfuerzos tanto normales (a través de la presión) como tangenciales (mediados por la viscosidad). Escribamos en forma general el esfuerzo para este fluido viscoso "
   ]
  },
  {
   "cell_type": "markdown",
   "metadata": {},
   "source": [
    "$$ \\sigma_{ij}' = -p \\delta_{ij} + \\sigma_{ij},$$"
   ]
  },
  {
   "cell_type": "markdown",
   "metadata": {},
   "source": [
    "siendo $\\sigma_{ij}'$ el tensor de esfuerzos totales, que incluye la contribución de la presión y de los esfuerzos viscosos, $\\sigma_{ij}$.  Ahora bien, al fluir el fluido ejerce presión sobre el cilindro externo, y además lo *arrastra* tanto en la dirección axial como azimutal. Esto quiere decir que las componentes del tensor que buscamos son: "
   ]
  },
  {
   "cell_type": "markdown",
   "metadata": {},
   "source": [
    "$$\n",
    "\\begin{align}\n",
    "\\sigma_{rr}' &= -p, \\\\\n",
    "\\sigma_{r\\theta}' &= \\sigma_{r\\theta} = \\mu r \\partial_r (u_\\theta/r), \\\\\n",
    "\\sigma_{rz}' &= \\sigma_{rz} = \\mu \\partial_r u_z. \n",
    "\\end{align}\n",
    "$$"
   ]
  },
  {
   "cell_type": "markdown",
   "metadata": {},
   "source": [
    "[Estas expresiones en coordenadas cilíndricas para $\\sigma_{ij}$ podían obtenerlas de la hoja de ecuaciones disponible durante el examen]. "
   ]
  },
  {
   "cell_type": "markdown",
   "metadata": {},
   "source": [
    "El inciso nos pide unicamente *indicar* como calcular el esfuerzo total. En general, podemos escribir que la fuerza total que el fluido hace sobre el cilindro externo es:"
   ]
  },
  {
   "cell_type": "markdown",
   "metadata": {},
   "source": [
    "$$ \\vec{F} = \\int_\\text{S} \\: (-\\hat{r}) \\cdot \\underline{\\underline{\\sigma'}} \\: dS,$$"
   ]
  },
  {
   "cell_type": "markdown",
   "metadata": {},
   "source": [
    "Como dijimos, la normal que buscamos está orientada en  $(-\\hat{r})$, luego, en componentes, tenemos:"
   ]
  },
  {
   "cell_type": "markdown",
   "metadata": {},
   "source": [
    "$$(-\\hat{r}) \\cdot \\underline{\\underline{\\sigma'}} = (-\\hat{r}) \\cdot \\bigg[ \\sigma_{rr} \\: \\hat{r}\\hat{r} + \\sigma_{r\\theta} \\: \\hat{r}\\hat{\\theta}+\\sigma_{rz} \\: \\hat{r}\\hat{z} +\n",
    "\\sigma_{\\theta r} \\: \\hat{\\theta}\\hat{r}+ \\sigma_{\\theta \\theta} \\: \\hat{\\theta}\\hat{\\theta}+\\sigma_{\\theta z} \\: \\hat{\\theta}\\hat{z} + \n",
    "\\sigma_{zr} \\: \\hat{z}\\hat{r}+\\sigma_{z\\theta} \\: \\hat{z}\\hat{\\theta}+ \\sigma_{zz} \\: \\hat{z}\\hat{z}\\bigg] $$ "
   ]
  },
  {
   "cell_type": "markdown",
   "metadata": {},
   "source": [
    "$$(-\\hat{r}) \\cdot \\underline{\\underline{\\sigma'}} = - \\bigg[ \\sigma_{rr} \\: \\hat{r} + \\sigma_{r\\theta} \\: \\hat{\\theta}+\\sigma_{rz} \\: \\hat{z} \\bigg] = \n",
    "-p \\: \\hat{r} + \\mu r \\partial_r (u_\\theta/r) \\: \\hat{\\theta} + \\mu \\partial_r u_z \\: \\hat{z},\n",
    "$$ "
   ]
  },
  {
   "cell_type": "markdown",
   "metadata": {},
   "source": [
    "con lo que la fuerza total a calcular vendría dada por"
   ]
  },
  {
   "cell_type": "markdown",
   "metadata": {},
   "source": [
    "$$ \\vec{F} = \\int_S \\: \n",
    "\\bigg[ -p \\: \\hat{r} + \\mu r \\partial_r (u_\\theta/r) \\: \\hat{\\theta} + \\mu \\partial_r u_z \\: \\hat{z}\\bigg]_{r=R_2} \\: dS = \\int_{0}^{2\\pi} \\int_{-\\infty}^{\\infty} \\: \n",
    "\\bigg[ -p \\: \\hat{r} + \\mu r \\partial_r (u_\\theta/r) \\: \\hat{\\theta} + \\mu \\partial_r u_z \\: \\hat{z}\\bigg]_{r=R_2} \\: R_2 \\: d\\theta \\: dz.\n",
    "$$ "
   ]
  },
  {
   "cell_type": "markdown",
   "metadata": {},
   "source": [
    "Esta fuerza diverge, con lo cuál podemos calcular la fuerza o esfuerzo por unidad de longitud axial del cilindro. Luego la expresión a calcular resulta"
   ]
  },
  {
   "cell_type": "markdown",
   "metadata": {},
   "source": [
    "$$ \\frac{\\vec{F}}{L} = 2\\pi \\: R_2 \\: \\int_{0}^{L} \\: \n",
    "\\bigg[ -p \\: \\hat{r} + \\mu r \\partial_r (u_\\theta/r) \\: \\hat{\\theta} + \\mu \\partial_r u_z \\: \\hat{z}\\bigg]_{r=R_2} \\: dz.\n",
    "$$ "
   ]
  },
  {
   "cell_type": "markdown",
   "metadata": {},
   "source": [
    "En este cálculo, la presión se obtiene de integrar la componente radial de la ecuación de Navier-Stokes, y los demás sumandos del integrando son fáciles de calcular a partir de los resultados que ya obtuvimos. Luego lo tenemos todo para calcular esta fuerza (por unidad de longitud)."
   ]
  },
  {
   "cell_type": "markdown",
   "metadata": {},
   "source": [
    "Finalmente, el último inciso nos pregunta si existe un gradiente radial de presiones. Según vemos de la componente $\\hat{r}$ de la ecuación de Navier-Stokes (que calculamos antes), **existe** un gradiente radial de presiones. En esa misma ecuación podemos observar el origen de dicho gradiente. Las partículas de fluido realizan (en parte) un movimiento circular a rapidez constante en torno del eje de los cilindros; este movimiento circular tiene asociada una aceleración radial. Esta aceleración radial de las partículas está asociada al gradiente de presiones en la dirección radial. "
   ]
  },
  {
   "cell_type": "markdown",
   "metadata": {},
   "source": [
    "## Problema 3"
   ]
  },
  {
   "cell_type": "markdown",
   "metadata": {},
   "source": [
    "Una capa de fluido de densidad $\\rho'$ y espesor $h'$ yace sobre otra de\n",
    "extensión infinita y densidad $\\rho > \\rho'$, según se muestra en la figura. La capa superior está\n",
    "limitada por un contorno sólido, y el conjunto está sujeto a la acción de\n",
    "la gravedad, por lo que una perturbación en la interfaz entre ambos fluidos\n",
    "(que se suponen inmiscibles) es susceptible de generar ondas. En ese caso:\n",
    "1. Obtenga la relación de dispersión de dichas ondas.  \n",
    "2. Estudie el comportamiento de la relación de dispersión en los casos\n",
    "particulares dados por: (a) $h'/\\lambda \\gg 1$ y (b) $h'/\\lambda\n",
    "\\ll 1$. En cada caso, interprete físicamente el límite\n",
    "considerado y determine si las ondas resultantes son dispersivas o no.   "
   ]
  },
  {
   "cell_type": "markdown",
   "metadata": {},
   "source": [
    "### Resolución"
   ]
  },
  {
   "cell_type": "markdown",
   "metadata": {},
   "source": [
    "Comencemos por elegir de forma *astuta* el origen de coordenadas a fin de simplificar el algebra asociada a determinar la relación de dispersión. \n",
    "Tomemos el origen del eje $\\hat{z}$ coincidente con la posición vertical de la interfaz entre ambos fluidos. \n",
    "\n",
    "En cada fluido tendremos un potencial, que llamaremos $\\phi$ y $\\phi'$ (para el fluido sin primar y primado, respectivamente). Cada uno de ellos obedece una ecuación de Laplace, y cada uno de ellos esta sujeto a diferentes condiciones de contorno. En el caso del fluido que forma la capa superior, la condición sobre el potencial asociado está dada por el hecho de que la velocidad vertical del fluido sobre el contorno sólido debe coincidir con la de este último. Por otro lado, para el fluido que constituye la capa inferior, la condición de contorno es que el campo de velocidades no diverja cuando $z \\rightarrow -\\infty$. Recordemos además que, en la formulación potencial, la componente vertical del campo de velocidades $u_z$ se obtiene a partir del potencial como $u_z = \\partial \\phi/\\partial z$ (una expresión análoga es válida para el caso del fluido primado). \n",
    "\n",
    "\n",
    "\n",
    "\n"
   ]
  },
  {
   "cell_type": "markdown",
   "metadata": {},
   "source": [
    "Con esto en mente, resulta conveniente definir los potenciales $\\phi'$ y $\\phi$ como:"
   ]
  },
  {
   "cell_type": "markdown",
   "metadata": {},
   "source": [
    "\\begin{align}\n",
    "\\phi'(x,z) &= A \\cosh [ k (z-h') ] \\exp [ i (kx - \\omega t) ],\\\\\n",
    "\\phi(x,z) &= B \\exp [k z] \\exp [ i (kx - \\omega t) ],\n",
    "\\end{align}"
   ]
  },
  {
   "cell_type": "markdown",
   "metadata": {},
   "source": [
    "que, por definición, satisfacen las condiciones de contorno mencionadas anteriormente."
   ]
  },
  {
   "cell_type": "markdown",
   "metadata": {},
   "source": [
    "Finalmente, restan dos condiciones de contorno para determinar completamente la solución al problema. Estas condiciones son: (a) la continuidad de la velocidad perpendicular en la interfaz (condición cinemática), y (b) la continuidad de los esfuerzos normales a la interfaz (condición dinámica). Cualitativamente, estas condiciones vienen dadas por"
   ]
  },
  {
   "cell_type": "markdown",
   "metadata": {},
   "source": [
    "$$\\frac{\\partial \\phi'}{\\partial z}\\bigg|_{z=0} = \\frac{\\partial \\phi}{\\partial z}\\bigg|_{z=0} \\quad \\quad \\quad \\text{(condición cinemática)} $$"
   ]
  },
  {
   "cell_type": "markdown",
   "metadata": {},
   "source": [
    "$$\\bigg[\\rho' g \\frac{\\partial \\phi'}{\\partial z} + \\rho' \\frac{\\partial^2 \\phi'}{\\partial t^2}\\bigg]_{z=0} = \\bigg[\\rho g \\frac{\\partial \\phi}{\\partial z} + \\rho \\frac{\\partial^2 \\phi}{\\partial t^2}\\bigg]_{z=0} \\quad \\quad \\quad \\text{(condición dinámica)}$$"
   ]
  },
  {
   "cell_type": "markdown",
   "metadata": {},
   "source": [
    "las cuales deben valer para cualquier vector de onda $k$ considerado. "
   ]
  },
  {
   "cell_type": "markdown",
   "metadata": {},
   "source": [
    "Para los potenciales propuestos, estas condiciones adquieren la forma"
   ]
  },
  {
   "cell_type": "markdown",
   "metadata": {},
   "source": [
    "$$ A k \\sinh (kh') = - B k, \\quad \\text{y}$$"
   ]
  },
  {
   "cell_type": "markdown",
   "metadata": {},
   "source": [
    "$$- A \\rho' \\omega^2 \\cosh kh' - A \\rho' g k \\sinh kh' = B \\rho g k - B \\rho \\omega^2,$$"
   ]
  },
  {
   "cell_type": "markdown",
   "metadata": {},
   "source": [
    "respectivamente. Este sistema es sencillo de resolver; podemos reemplazar la primera ecuación en la segunda y obtener"
   ]
  },
  {
   "cell_type": "markdown",
   "metadata": {},
   "source": [
    "$$B \\rho' \\omega^2 \\coth kh' + B \\rho' g k = B \\rho g k - B \\rho \\omega^2.$$"
   ]
  },
  {
   "cell_type": "markdown",
   "metadata": {},
   "source": [
    "Finalmente, la relación de dispersión resulta"
   ]
  },
  {
   "cell_type": "markdown",
   "metadata": {},
   "source": [
    "$$ \\omega^2(k) = gk \\: \\bigg( \\frac{\\rho - \\rho'}{\\rho + \\rho' \\: \\coth kh'}\\bigg).$$"
   ]
  },
  {
   "cell_type": "markdown",
   "metadata": {},
   "source": [
    "Vemos que se trata de ondas dispersivas, donde la velocidad de fase $\\omega(k)/k$ depende en general del número de onda $k$."
   ]
  },
  {
   "cell_type": "markdown",
   "metadata": {},
   "source": [
    "El enunciado no lo pide, pero en este documento podemos aprovechar para graficar esta relación de dispersión tomando dos fluidos no miscibles cualesquiera como caso particular. Tomemos entonces agua ($\\rho = 1000$ kg/m$^3$) y aceite de cocina ($\\rho' = 910$ kg/m$^3$); y definamos $h = 1$ m. La relación de dispersión resulta:"
   ]
  },
  {
   "cell_type": "code",
   "execution_count": 19,
   "metadata": {},
   "outputs": [
    {
     "data": {
      "image/png": "[encoded data removed]",
      "text/plain": [
       "<matplotlib.figure.Figure at 0x103337828>"
      ]
     },
     "metadata": {},
     "output_type": "display_data"
    }
   ],
   "source": [
    "# Importamos los modulos de calculo y graficacion\n",
    "import numpy as np\n",
    "import matplotlib.pyplot as plt\n",
    "%matplotlib inline\n",
    "\n",
    "# Definimos las constantes del problema\n",
    "h    = 1\n",
    "g    = 9.8\n",
    "rho1 = 910\n",
    "rho2 = 1000\n",
    "k    = np.linspace(0.01,100,1000)\n",
    "\n",
    "# Graficamos omega(k)\n",
    "plt.figure()\n",
    "plt.plot(k, np.sqrt(g*k*(rho2-rho1)/(rho2+rho1*(1/np.tanh(k*h)))))\n",
    "plt.ylabel('$\\omega(k)$',fontsize=16)\n",
    "plt.xlabel('$k$', fontsize=16)\n",
    "plt.grid('on')\n",
    "plt.show()"
   ]
  },
  {
   "cell_type": "markdown",
   "metadata": {},
   "source": [
    "Y también podemos graficar $\\omega(k)/k$, la velocidad de fase de las ondas. Obtenemos:"
   ]
  },
  {
   "cell_type": "code",
   "execution_count": 20,
   "metadata": {},
   "outputs": [
    {
     "data": {
      "image/png": "[encoded data removed]",
      "text/plain": [
       "<matplotlib.figure.Figure at 0x109b58080>"
      ]
     },
     "metadata": {},
     "output_type": "display_data"
    }
   ],
   "source": [
    "# Graficamos omega(k)/k\n",
    "plt.figure()\n",
    "plt.plot(k, np.sqrt(g*k*(rho2-rho1)/(rho2+rho1*(1/np.tanh(k*h))))/k)\n",
    "plt.ylabel('$\\omega(k)/k$', fontsize=16)\n",
    "plt.xlabel('$k$', fontsize=16)\n",
    "plt.grid('on')\n",
    "plt.show()"
   ]
  },
  {
   "cell_type": "markdown",
   "metadata": {},
   "source": [
    "El segundo inciso nos pide estudiar el comportamiento de la relación de dispersión en los casos particulares dados por: (a) $h'/\\lambda \\gg 1$ y (b) $h'/\\lambda \\ll 1$. "
   ]
  },
  {
   "cell_type": "markdown",
   "metadata": {},
   "source": [
    "Comencemos entonces por el primero de ellos. Considerar $h' \\gg \\lambda$ implica ubicarse en una situación en la que las ondas consideradas presentan una longitud de onda mucho menor que el espesor de la capa superior de fluido. Para estas ondas, podemos afirmar que la capa superior de fluido tiene el mismo efecto que una de espesor infinito. "
   ]
  },
  {
   "cell_type": "markdown",
   "metadata": {},
   "source": [
    "Si $kh' \\gg 1$, la cotangente hiperbólica puede aproximarse por "
   ]
  },
  {
   "cell_type": "markdown",
   "metadata": {},
   "source": [
    "$$\\coth x \\sim 1,  \\quad \\quad \\text{si} \\quad x \\gg 1,$$"
   ]
  },
  {
   "cell_type": "markdown",
   "metadata": {},
   "source": [
    "luego la relación de dispersión en este caso resulta"
   ]
  },
  {
   "cell_type": "markdown",
   "metadata": {},
   "source": [
    "$$ \\omega^2(k)\\bigg|_{kh'\\gg 1} \\sim gk \\: \\bigg( \\frac{\\rho - \\rho'}{\\rho + \\rho'}\\bigg).$$"
   ]
  },
  {
   "cell_type": "markdown",
   "metadata": {},
   "source": [
    "Vemos que recuperamos **ondas no dispersivas**, en particular obtenemos la relación de dispersión de *ondas internas* entre dos fluidos que visitamos en clases prácticas. La velocidad de fase de estas ondas viene dada por $v_\\phi = \\omega/k = g (\\rho-\\rho')/(\\rho+\\rho') < g$, luego estas ondas son más lentas que las ondas de gravedad en la interfaz entre aire-líquido. Al final de esta seccón graficaremos este resultado junto con el próximo. "
   ]
  },
  {
   "cell_type": "markdown",
   "metadata": {},
   "source": [
    "Resulta fácil observar que el segundo límite que se nos pide calcular corresponde a una capa superior de fluido que resulta delgada respecto de la longitud de onda de las ondas consideradas. \n",
    "Considerar el límite $kh' \\ll 1$ en la relación de dispersión obtenida nos lleva a aproximar la cotangente hiperbólica por"
   ]
  },
  {
   "cell_type": "markdown",
   "metadata": {},
   "source": [
    "$$\\coth x \\sim \\frac{1}{x}, \\quad \\quad \\text{si} \\quad x \\ll 1,$$"
   ]
  },
  {
   "cell_type": "markdown",
   "metadata": {},
   "source": [
    "a partir de lo cual se obtiene"
   ]
  },
  {
   "cell_type": "markdown",
   "metadata": {},
   "source": [
    "$$ \\omega^2(k)\\bigg|_{kh'\\ll 1} \\sim gk \\: \\bigg( \\frac{\\rho - \\rho'}{\\rho + \\rho'/ kh'}\\bigg).$$"
   ]
  },
  {
   "cell_type": "markdown",
   "metadata": {},
   "source": [
    "En este caso obtenemos **ondas dispersivas**. "
   ]
  },
  {
   "cell_type": "markdown",
   "metadata": {},
   "source": [
    "Finalmente, y sólo a modo de ilustración, podemos regraficar la relación de dispersión original, junto con los dos límites que hemos calculado. "
   ]
  },
  {
   "cell_type": "code",
   "execution_count": 50,
   "metadata": {},
   "outputs": [
    {
     "data": {
      "image/png": "[encoded data removed]",
      "text/plain": [
       "<matplotlib.figure.Figure at 0x10bbeef98>"
      ]
     },
     "metadata": {},
     "output_type": "display_data"
    },
    {
     "data": {
      "image/png": "[encoded data removed]",
      "text/plain": [
       "<matplotlib.figure.Figure at 0x109814f28>"
      ]
     },
     "metadata": {},
     "output_type": "display_data"
    },
    {
     "data": {
      "image/png": "[encoded data removed]",
      "text/plain": [
       "<matplotlib.figure.Figure at 0x109b75da0>"
      ]
     },
     "metadata": {},
     "output_type": "display_data"
    }
   ],
   "source": [
    "# Graficamos omega(k) generica\n",
    "\n",
    "k1 = np.linspace(0.01, 2, 100)\n",
    "k2 = np.linspace(0.01, 5, 100)\n",
    "\n",
    "plt.figure()\n",
    "plt.plot(k, np.sqrt(g*k*(rho2-rho1)/(rho2+rho1*(1/np.tanh(k*h)))))\n",
    "plt.plot(k2, np.sqrt(g*k2*(rho2-rho1)/(rho2+rho1)),'r')\n",
    "plt.plot(k1, np.sqrt(g*k1*(rho2-rho1)/(rho2+rho1*(1/(k1*h)))),'g')\n",
    "plt.ylabel('$\\omega(k)$',fontsize=16)\n",
    "plt.xlabel('$k$', fontsize=16)\n",
    "plt.grid('on')\n",
    "plt.show()\n",
    "\n",
    "plt.figure()\n",
    "plt.plot(k1, np.sqrt(g*k1*(rho2-rho1)/(rho2+rho1*(1/np.tanh(k1*h)))), label=\"Relacion completa\")\n",
    "plt.plot(k1, np.sqrt(g*k1*(rho2-rho1)/(rho2+rho1*(1/(k1*h)))),'g-.', label=r\"Aproximacion $kh'\\ll 1$\")\n",
    "plt.ylabel('$\\omega(k)$',fontsize=16)\n",
    "plt.xlabel('$k$', fontsize=16)\n",
    "plt.legend(loc=2)\n",
    "plt.grid('on')\n",
    "plt.show()\n",
    "\n",
    "plt.figure()\n",
    "plt.plot(k2, np.sqrt(g*k2*(rho2-rho1)/(rho2+rho1*(1/np.tanh(k2*h)))), label=\"Relacion completa\")\n",
    "plt.plot(k2, np.sqrt(g*k2*(rho2-rho1)/(rho2+rho1)),'r-.', label=r\"Aproximacion $kh'\\gg 1$\")\n",
    "plt.ylabel('$\\omega(k)$',fontsize=16)\n",
    "plt.xlabel('$k$', fontsize=16)\n",
    "plt.legend(loc=2)\n",
    "plt.grid('on')\n",
    "plt.show()"
   ]
  },
  {
   "cell_type": "markdown",
   "metadata": {},
   "source": [
    "En estos últimos dos gráficos podemos observar el nivel de aproximación obtenido en cada uno de los casos límites que analizamos. "
   ]
  },
  {
   "cell_type": "code",
   "execution_count": null,
   "metadata": {
    "collapsed": true
   },
   "outputs": [],
   "source": []
  }
 ],
 "metadata": {
  "kernelspec": {
   "display_name": "Python 3",
   "language": "python",
   "name": "python3"
  },
  "language_info": {
   "codemirror_mode": {
    "name": "ipython",
    "version": 3
   },
   "file_extension": ".py",
   "mimetype": "text/x-python",
   "name": "python",
   "nbconvert_exporter": "python",
   "pygments_lexer": "ipython3",
   "version": "3.6.1"
  }
 },
 "nbformat": 4,
 "nbformat_minor": 1
}
