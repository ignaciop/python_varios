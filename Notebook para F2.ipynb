{
 "cells": [
  {
   "cell_type": "code",
   "execution_count": 9,
   "metadata": {
    "collapsed": false
   },
   "outputs": [
    {
     "name": "stdout",
     "output_type": "stream",
     "text": [
      "Populating the interactive namespace from numpy and matplotlib\n"
     ]
    }
   ],
   "source": [
    "%pylab inline\n",
    "#%numpy.linalg inline\n",
    "%qtconsole\n",
    "from mpl_toolkits.mplot3d import Axes3D\n",
    "from ipywidgets import interact, interactive\n",
    "from IPython.display import clear_output, display, HTML"
   ]
  },
  {
   "cell_type": "markdown",
   "metadata": {},
   "source": [
    "# Programar ¿con qué se come?"
   ]
  },
  {
   "cell_type": "markdown",
   "metadata": {},
   "source": [
    "La computadora es una gran gran calculadora que permite hacer cualquier tipo de cuenta de las que necesitemos dentro de la Física (y de la vida también) mientras sepamos cómo decirle a la máquina qué cómputos hacer.\n",
    "\n",
    "La computadora para hacer cuentas tiene que almacenar los números que necesitemos y luego hacer operaciones con ellos. Nuestros valores numéricos se guardan en espacios de memoria, y esos espacios tienen un nombre, un rótulo con el cual los podremos llamar y pedirle a la computadora que los utilice para operar con ellos, los modifique, etc. Ese nombre a cada espacio de memoria se asigna, al menos en Python, con el símbolo = que significa de ahora en más: \"asignación\".\n",
    "\n",
    "Pero no sólamente guardaremos valores numéricos. Además de haber distintos tipos de valores numéricos, como veremos ahora, podemos guardar otros tipos de datos, como texto (strings) y listas (lists) entre muchos otros. Todos los tipos de valores que podremos almacenar difieren entre si el espacio en memoria que ocupan y las operaciones que podremos hacer con ellos.\n",
    "\n",
    "Veamos un par de ejemplos"
   ]
  },
  {
   "cell_type": "code",
   "execution_count": 6,
   "metadata": {
    "collapsed": true
   },
   "outputs": [],
   "source": [
    "x = 5\n",
    "y = 'Hola mundo!'\n",
    "z = [1,2,3]"
   ]
  },
  {
   "cell_type": "markdown",
   "metadata": {},
   "source": [
    "Aquí hemos guardado en un espacio de memoria llamado por nosotros \"x\" la información de un valor de tipo entero, 5, en otro espacio de memoria, que nosotros llamamos \"y\" guardamos el texto \"Hola mundo!\". En Python, las comillas indican que lo que encerramos con ellas es un texto. x no es un texto, así que Python lo tratará como variable para manipular. \"z\" es el nombre del espacio de memoria donde se almacena una lista con 3 elementos enteros.\n",
    "\n",
    "Podemos hacer cosas con esta información. Python es un lenguaje interpretado (a diferencia de otros como Java o C++), eso significa que ni bien nosotros le pedimos algo a Python, éste lo ejecuta. Así es que podremos pedirle por ejemplo que imprima en pantalla el contenido en y, el tipo de valor que es x (entero) entre otras cosas."
   ]
  },
  {
   "cell_type": "code",
   "execution_count": 4,
   "metadata": {
    "collapsed": false
   },
   "outputs": [
    {
     "name": "stdout",
     "output_type": "stream",
     "text": [
      "Hola mundo!\n",
      "<type 'int'>\n",
      "<type 'str'> <type 'list'> 3\n"
     ]
    }
   ],
   "source": [
    "print y\n",
    "print type(x)\n",
    "print type(y), type(z), len(z)"
   ]
  },
  {
   "cell_type": "markdown",
   "metadata": {},
   "source": [
    "Vamos a utilizar mucho la función *type()* para entender con qué tipo de variables estamos trabajando. *type()* es una función predeterminada por Python, y lo que hace es pedir como argumento (lo que va entre los paréntesis) una variable y devuelve inmediatamente el tipo de variable que es.\n",
    "\n",
    "Para las variables *integers*(enteros) y *floats* (flotantes) podemos hacer las operaciones matemáticas usuales y esperables. Veamos un poco las compatibilidades entre estos tipos de variables."
   ]
  },
  {
   "cell_type": "code",
   "execution_count": 25,
   "metadata": {
    "collapsed": false
   },
   "outputs": [
    {
     "name": "stdout",
     "output_type": "stream",
     "text": [
      "12 12.0 35.0 0 0.714285714286 25.0\n"
     ]
    }
   ],
   "source": [
    "a = 5\n",
    "b = 7\n",
    "c = 5.0\n",
    "d = 7.0\n",
    "print a+b, b+c, a*d, a/b, a/d, c**2"
   ]
  },
  {
   "cell_type": "markdown",
   "metadata": {},
   "source": [
    "### Listas"
   ]
  },
  {
   "cell_type": "markdown",
   "metadata": {},
   "source": [
    "Las listas son cadenas de datos de cualquier tipo, unidos por estar en una misma variable, con posiciones dentro de esa lista, con las cuales nosotros podemos llamarlas. En Python, las listas se enumeran desde el 0 en adelante.\n",
    "\n",
    "Estas listas también tienen algunas operaciones que le son válidas.\n",
    "\n",
    "Distintas son las tuplas. Las listas son editables, pero las tuplas no. Esto es importante cuando, a lo largo del desarrollo de un código donde necesitamos que ciertas cosas no cambien, no editemos por error valores fundamentales de nuestro problema a resolver."
   ]
  },
  {
   "cell_type": "code",
   "execution_count": 15,
   "metadata": {
    "collapsed": false
   },
   "outputs": [
    {
     "name": "stdout",
     "output_type": "stream",
     "text": [
      "[1, 2, 'saraza'] <type 'list'>\n",
      "2 <type 'int'>\n",
      "saraza <type 'str'>\n",
      "saraza\n"
     ]
    }
   ],
   "source": [
    "lista1 = [1, 2, 'saraza']\n",
    "print lista1, type(lista1)\n",
    "print lista1[1], type(lista1[1])\n",
    "print lista1[2], type(lista1[2])\n",
    "print lista1[-1]"
   ]
  },
  {
   "cell_type": "code",
   "execution_count": 14,
   "metadata": {
    "collapsed": false
   },
   "outputs": [
    {
     "name": "stdout",
     "output_type": "stream",
     "text": [
      "[2, 3, 4, 5, 6, 7]\n",
      "9\n"
     ]
    }
   ],
   "source": [
    "lista2 = [2,3,4]\n",
    "lista3 = [5,6,7]\n",
    "print lista2+lista3\n",
    "print lista2[2]+lista3[0]"
   ]
  },
  {
   "cell_type": "code",
   "execution_count": 17,
   "metadata": {
    "collapsed": false
   },
   "outputs": [
    {
     "name": "stdout",
     "output_type": "stream",
     "text": [
      "[1, 2, 0]\n",
      "(1, 2, 3)\n"
     ]
    }
   ],
   "source": [
    "tupla1 = (1,2,3)\n",
    "lista4 = [1,2,3]\n",
    "lista4[2] = 0\n",
    "print lista4\n",
    "#tupla1[0] = 0\n",
    "print tupla1"
   ]
  },
  {
   "cell_type": "markdown",
   "metadata": {},
   "source": [
    "Hay formas muy cómodas de hacer listas. Presentamos una que utilizaremos mucho, que es usando la función *range*."
   ]
  },
  {
   "cell_type": "code",
   "execution_count": 18,
   "metadata": {
    "collapsed": false
   },
   "outputs": [
    {
     "name": "stdout",
     "output_type": "stream",
     "text": [
      "[0, 1, 2, 3, 4, 5, 6, 7, 8, 9] <type 'list'>\n"
     ]
    }
   ],
   "source": [
    "listilla = range(10)\n",
    "print listilla, type(listilla)"
   ]
  },
  {
   "cell_type": "markdown",
   "metadata": {},
   "source": [
    "### Booleans"
   ]
  },
  {
   "cell_type": "markdown",
   "metadata": {},
   "source": [
    "Este tipo de variable tiene sólo dos valores posibles: 1 y 0, o *True* y *False*. Las utilizaremos escencialmente para que Python reconozca relaciones entre números."
   ]
  },
  {
   "cell_type": "code",
   "execution_count": 20,
   "metadata": {
    "collapsed": false
   },
   "outputs": [
    {
     "name": "stdout",
     "output_type": "stream",
     "text": [
      "True\n",
      "False\n",
      "False\n",
      "True\n",
      "<type 'bool'>\n"
     ]
    }
   ],
   "source": [
    "print 5>4\n",
    "print 4>5\n",
    "print 4==5 #La igualdad matemática se escribe con doble ==\n",
    "print 4!=5 #La desigualdad matemática se escribe con !=\n",
    "print type(4>5)"
   ]
  },
  {
   "cell_type": "markdown",
   "metadata": {},
   "source": [
    "### Bibliotecas"
   ]
  },
  {
   "cell_type": "markdown",
   "metadata": {},
   "source": [
    "Pero las operaciones básicas de suma, resta, multiplicación y división son todo lo que un lenguaje como Python puede hacer \"nativamente\". Una potencia o un seno es álgebra no lineal, y para hacerlo, habría que inventarse un algoritmo (una serie de pasos) para calcular por ejemplo *sen($\\pi$)*. Pero alguien ya lo hizo, ya lo pensó, ya lo escribió en lenguaje Python y ahora todos podemos usar ese algoritmo sin pensar en él. Solamente hay que decirle a nuestro intérprete de Python dónde está guardado ese algoritmo. **Esta posibilidad de usar algoritmos de otros es fundamental en la programación, porque es lo que permite que nuestro problema se limite solamente a entender cómo llamar a estos algoritmos ya pensados y no tener que pensarlos cada vez**.\n",
    "\n",
    "Vamos entonces a llamar a una *biblioteca* llamada *math* que nos va a extender nuestras posibilididades matemáticas."
   ]
  },
  {
   "cell_type": "code",
   "execution_count": 24,
   "metadata": {
    "collapsed": false
   },
   "outputs": [
    {
     "name": "stdout",
     "output_type": "stream",
     "text": [
      "16.0 -1.0 2.0 1.0\n"
     ]
    }
   ],
   "source": [
    "import math as m # Llamamos a una biblioteca y la bautizamos m por comodidad\n",
    "r1 = m.pow(2,4)\n",
    "r2 = m.cos(m.pi)\n",
    "r3 = m.log(100,10)\n",
    "r4 = m.log(m.e)\n",
    "print r1, r2, r3, r4"
   ]
  },
  {
   "cell_type": "markdown",
   "metadata": {},
   "source": [
    "Para entender cómo funcionan estas funciones, es importante recurrir a su *documentation*. La de esta biblioteca en particular se encuentra en\n",
    "\n",
    "https://docs.python.org/2/library/math.html"
   ]
  },
  {
   "cell_type": "markdown",
   "metadata": {},
   "source": [
    "### Funciones"
   ]
  },
  {
   "cell_type": "markdown",
   "metadata": {},
   "source": [
    "Pero si queremos definir nuestra propia manera de calcular algo, o si queremos agrupar una serie de órdenes bajo un mismo nombre, podemos definirnos nuestras propias funciones, pidiendo la cantidad de argumentos que querramos.\n",
    "\n",
    "Vamos a usar las funciones *lambda* más que nada para funciones matemáticas, aunque también tenga otros usos. Definamos el polinomio $f(x) = x^2 - 5x + 6$ que tiene como raíces $x = 3$ y $x = 2$."
   ]
  },
  {
   "cell_type": "code",
   "execution_count": 27,
   "metadata": {
    "collapsed": false
   },
   "outputs": [
    {
     "name": "stdout",
     "output_type": "stream",
     "text": [
      "0 0 6\n"
     ]
    }
   ],
   "source": [
    "f = lambda x: x**2 - 5*x + 6\n",
    "print f(3), f(2), f(0)"
   ]
  },
  {
   "cell_type": "markdown",
   "metadata": {},
   "source": [
    "Las otras funciones, las más generales, se las llama funciones *def*, y tienen la siguiente forma."
   ]
  },
  {
   "cell_type": "code",
   "execution_count": 29,
   "metadata": {
    "collapsed": false
   },
   "outputs": [
    {
     "name": "stdout",
     "output_type": "stream",
     "text": [
      "5.66666666667\n"
     ]
    }
   ],
   "source": [
    "def promedio(a,b,c):\n",
    "    N = a + b + c # Es importante que toda la función tenga su contenido indentado\n",
    "    N = N/3.0\n",
    "    return N\n",
    "mipromedio = promedio(5,5,7) # Aquí rompimos la indentación\n",
    "print mipromedio"
   ]
  },
  {
   "cell_type": "markdown",
   "metadata": {},
   "source": [
    "### Control de flujo: iteraciones y condicionales (if y for para los amigos)"
   ]
  },
  {
   "cell_type": "markdown",
   "metadata": {},
   "source": [
    "Si en el fondo un programa es una serie de algoritmos que la computadora debe seguir, un conocimiento fundamental para programar es saber cómo pedirle a una computadora que haga operaciones si se cumple una condición y que haga otras si no se cumple. Nos va a permitir hacer programas mucho más complejos. Veamos entonces como aplicar un *if*."
   ]
  },
  {
   "cell_type": "code",
   "execution_count": 35,
   "metadata": {
    "collapsed": false
   },
   "outputs": [
    {
     "name": "stdout",
     "output_type": "stream",
     "text": [
      "Tu parametro es 5 y es mayor que cero\n",
      "Gracias\n",
      "Vuelva pronto\n",
      " \n",
      "Tu parametro es -1 y es menor o igual que cero\n",
      "Gracias\n",
      "Vuelva pronto\n",
      " \n"
     ]
    }
   ],
   "source": [
    "def ejemplo(parametro):\n",
    "    if parametro > 0: # un if inaugura también un nuevo bloque indentado\n",
    "        print 'Tu parametro es', parametro, 'y es mayor que cero'\n",
    "        print 'Gracias'\n",
    "    else:            # el else inaugura otro bloque indentado\n",
    "        print 'Tu parametro es', parametro, 'y es menor o igual que cero'\n",
    "        print 'Gracias'\n",
    "    print 'Vuelva pronto'\n",
    "    print ' '\n",
    "    \n",
    "ejemplo(5)\n",
    "ejemplo(-1)"
   ]
  },
  {
   "cell_type": "markdown",
   "metadata": {},
   "source": [
    "Para que Python repita una misma acción *n* cantidad de veces, utilizaremos la estructura *for*. En cada paso, nosotros podemos aprovechar el \"número de iteración\" como una variable. Eso nos servirá en la mayoría de los casos."
   ]
  },
  {
   "cell_type": "code",
   "execution_count": 41,
   "metadata": {
    "collapsed": false
   },
   "outputs": [
    {
     "name": "stdout",
     "output_type": "stream",
     "text": [
      "nada\n",
      "1\n",
      "2\n",
      "tres\n",
      "cuatro\n",
      "5\n",
      "6\n",
      "7\n",
      "8\n",
      "9\n"
     ]
    }
   ],
   "source": [
    "nuevalista = ['nada',1,2,'tres', 'cuatro', 7-2, 2*3, 7/1, 2**3, 3**2]\n",
    "for i in range(10):       # i es una variable que inventamos en el for, y que tomará los valores de la \n",
    "    print nuevalista[i]   #lista que se genere con range(10)"
   ]
  },
  {
   "cell_type": "markdown",
   "metadata": {},
   "source": [
    "La estructura *while* es poco recomendada en Python pero es importante saber que existe: consiste en repetir un paso mientras se cumpla una condición. Es como un *for* mezclado con un *if*."
   ]
  },
  {
   "cell_type": "code",
   "execution_count": 42,
   "metadata": {
    "collapsed": false
   },
   "outputs": [
    {
     "name": "stdout",
     "output_type": "stream",
     "text": [
      "2\n",
      "3\n",
      "4\n",
      "5\n",
      "6\n",
      "7\n",
      "8\n",
      "9\n",
      "10\n"
     ]
    }
   ],
   "source": [
    "i = 1\n",
    "while i < 10: # tener cuidado con los while que se cumplen siempre. Eso daría lugar a los loops infinitos.\n",
    "    i = i+1\n",
    "    print i"
   ]
  },
  {
   "cell_type": "markdown",
   "metadata": {},
   "source": [
    "# Un poquito de álgebra lineal"
   ]
  },
  {
   "cell_type": "markdown",
   "metadata": {},
   "source": [
    "Para esta primera parte, utilizaremos una biblioteca muy útil para cálculo matricial, **numpy**. De allí sacaremos los tipos de dato *ndarray*, *matrix*, y todas las operaciones que utilicemos. Veamos un poco cómo definir vectores fila, matrices, y cómo llamar a determinado componente de determinado vector o matriz. "
   ]
  },
  {
   "cell_type": "code",
   "execution_count": 5,
   "metadata": {
    "collapsed": false
   },
   "outputs": [
    {
     "name": "stdout",
     "output_type": "stream",
     "text": [
      "suma de las componentes: 8 8\n",
      "operación con los elementos de la matriz: 15\n",
      "[[1 2 3]\n",
      " [4 5 6]\n",
      " [7 8 9]] <type 'numpy.ndarray'>\n"
     ]
    }
   ],
   "source": [
    "pos = array([1,4,3])\n",
    "mat = matrix([[1,2,3], \n",
    "             [4,5,6], \n",
    "             [7,8,9]])\n",
    "\n",
    "x = pos[0] # en Python, las posiciones de los vectores comienzan a contarse en 0\n",
    "y = pos[1]\n",
    "z = pos[2]\n",
    "print 'suma de las componentes:', x+y+z, sum(pos)\n",
    "\n",
    "c = (mat[0,0] + mat[0,1])* mat[1,1]\n",
    "print 'operación con los elementos de la matriz:' , c\n",
    "\n",
    "#Nos acostumbraremos a utilizar arrays para matrices\n",
    "mat = array(mat) # La función array() transforma mat (que era una matrix) en un ndarray\n",
    "print mat, type(mat)"
   ]
  },
  {
   "cell_type": "markdown",
   "metadata": {},
   "source": [
    "Las matrices especiales pueden armarse \"a mano\" como ejercicio, como también pueden buscarse entre las funciones que Python ofrece"
   ]
  },
  {
   "cell_type": "code",
   "execution_count": 6,
   "metadata": {
    "collapsed": false
   },
   "outputs": [
    {
     "name": "stdout",
     "output_type": "stream",
     "text": [
      "identidad armada a mano: \n",
      "[[ 1.  0.  0.]\n",
      " [ 0.  1.  0.]\n",
      " [ 0.  0.  1.]]\n",
      "identidad de la función de Python: \n",
      "[[ 1.  0.  0.]\n",
      " [ 0.  1.  0.]\n",
      " [ 0.  0.  1.]]\n",
      "matriz de unos: \n",
      "[[ 1.  1.  1.  1.]\n",
      " [ 1.  1.  1.  1.]\n",
      " [ 1.  1.  1.  1.]]\n",
      "matriz de ceros: \n",
      "[[ 0.  0.  0.]\n",
      " [ 0.  0.  0.]\n",
      " [ 0.  0.  0.]\n",
      " [ 0.  0.  0.]]\n"
     ]
    }
   ],
   "source": [
    "identidad = zeros([3,3])\n",
    "for i in range(3):\n",
    "    for j in range(3):\n",
    "        if i == j:\n",
    "            identidad[i,j] = 1       \n",
    "print 'identidad armada a mano: '\n",
    "print identidad\n",
    "\n",
    "identidad2 = identity(3)\n",
    "print 'identidad de la función de Python: ' \n",
    "print identidad2\n",
    "\n",
    "unos = ones([3,4]) #matriz de unos\n",
    "print 'matriz de unos: '\n",
    "print unos\n",
    "\n",
    "ceros = zeros([4,3]) #matriz de ceros\n",
    "print 'matriz de ceros: '\n",
    "print ceros\n"
   ]
  },
  {
   "cell_type": "markdown",
   "metadata": {},
   "source": [
    "Entre las operaciones que pueden hacerse con vectores y matrices se encuentran las que esperamos que estén: producto escalar, producto de matrices con vectores, transposición."
   ]
  },
  {
   "cell_type": "code",
   "execution_count": 7,
   "metadata": {
    "collapsed": false
   },
   "outputs": [
    {
     "name": "stdout",
     "output_type": "stream",
     "text": [
      "teníamos la matriz: \n",
      "[[1 2 3]\n",
      " [4 5 6]\n",
      " [7 8 9]]\n",
      "la traspuesta es: \n",
      "[[1 4 7]\n",
      " [2 5 8]\n",
      " [3 6 9]]\n",
      "vector pos= [1 4 3]\n",
      "producto escalar:  26\n",
      "producto componente a componente: [ 1 16  9]\n",
      "A =  [[1 2]\n",
      " [0 1]]    x=  [1 2]\n",
      "Ax= [5 2]\n"
     ]
    }
   ],
   "source": [
    "print 'teníamos la matriz: '\n",
    "print mat\n",
    "\n",
    "trans = transpose(mat)\n",
    "print 'la traspuesta es: '\n",
    "print trans\n",
    "\n",
    "print 'vector pos=', pos\n",
    "\n",
    "print 'producto escalar: ' , dot(pos, pos) # producto escalar entre vectores\n",
    "\n",
    "print 'producto componente a componente:' , pos*pos # producto componente a componente. Más útil con funciones\n",
    "\n",
    "A = array([[1,2],[0,1]]) #Otra forma de definir directamente matrices como arrays sin tener que transformar\n",
    "x = array([1,2])\n",
    "print 'A = ',A,'  ', 'x= ', x\n",
    "print 'Ax=', dot(A, x)\n",
    "\n"
   ]
  },
  {
   "cell_type": "markdown",
   "metadata": {},
   "source": [
    "Y también tenemos esas funciones que siempre quisimos tener desde el CBC: inversa de una matriz, cálculo de determinantes, resolución de sistema de ecuaciones, hallazgo de autovalores y autovectores. Para esto usamos una biblioteca extra llamada **linalg**."
   ]
  },
  {
   "cell_type": "code",
   "execution_count": 12,
   "metadata": {
    "collapsed": false
   },
   "outputs": [
    {
     "name": "stdout",
     "output_type": "stream",
     "text": [
      "Podemos encontrar la matriz inversa: \n",
      "[[ 1. -2.]\n",
      " [ 0.  1.]]\n",
      "su determinante: 1.0\n",
      "Resolver un sistema de forma Ax=b\n",
      "x = [-3.  2.]\n",
      "Y hallar autovalores y autovectores\n",
      "Los autovalores:  [ 1.  1.]\n",
      "Los autovectores:  [[  1.00000000e+00  -1.00000000e+00]\n",
      " [  0.00000000e+00   1.11022302e-16]]\n"
     ]
    }
   ],
   "source": [
    "print 'Podemos encontrar la matriz inversa: ' \n",
    "print inv(A)\n",
    "\n",
    "print 'su determinante:', det(A)\n",
    "print 'Resolver un sistema de forma Ax=b'\n",
    "b = x\n",
    "print 'x =' ,solve(A, b)\n",
    "print 'Y hallar autovalores y autovectores'\n",
    "autoval, autovec = eig(A)\n",
    "print 'Los autovalores: ', autoval\n",
    "print 'Los autovectores: ', autovec"
   ]
  },
  {
   "cell_type": "markdown",
   "metadata": {},
   "source": [
    "# Funciones y gráficos"
   ]
  },
  {
   "cell_type": "markdown",
   "metadata": {},
   "source": [
    "Lo siguiente que Python tiene de interesante para usar son sus facilidades para hacer gráficos. La biblioteca **matplotlib** nos ayudará en este caso. Primero, definimos un vector que nos hace de dominio, luego, un vector imagen de alguna función, y luego haremos el gráfico. Se muestran aquí algunas de las opciones que tiene matplotlib para presentar un gráfico, pero yendo a la documentación podrán encontrar infinidad de herramientas para hacer esto."
   ]
  },
  {
   "cell_type": "code",
   "execution_count": 10,
   "metadata": {
    "collapsed": false
   },
   "outputs": [
    {
     "data": {
      "image/png": "[encoded data removed]",
      "text/plain": [
       "<matplotlib.figure.Figure at 0x7f258277d450>"
      ]
     },
     "metadata": {},
     "output_type": "display_data"
    }
   ],
   "source": [
    "# Ploteos\n",
    "\n",
    "x = linspace(-10, 10, 200) # con la función linspace generaremos un vector con componentes equidistantes.\n",
    "y = x**2 # el vector imagen será igual de largo que x\n",
    "plot(x,y, '-', color = 'red', label = 'Curva x**2') # ver qué pasa con 'r', 'g', '*' entre otros\n",
    "title('Mi primer ploteo')\n",
    "xlabel('Eje de las x')\n",
    "ylabel('Eje de las y')\n",
    "#xlim(-5,5)\n",
    "#ylim(0,4)\n",
    "legend('best')\n",
    "grid(True)\n",
    "\n"
   ]
  },
  {
   "cell_type": "code",
   "execution_count": 38,
   "metadata": {
    "collapsed": false
   },
   "outputs": [
    {
     "data": {
      "text/plain": [
       "<matplotlib.legend.Legend at 0x7f4adaa9e6d0>"
      ]
     },
     "execution_count": 38,
     "metadata": {},
     "output_type": "execute_result"
    },
    {
     "data": {
      "image/png": "[encoded data removed]",
      "text/plain": [
       "<matplotlib.figure.Figure at 0x7f4adaba8290>"
      ]
     },
     "metadata": {},
     "output_type": "display_data"
    }
   ],
   "source": [
    "f = lambda x,n: sin(n*pi*x) # Definimos una sucesión de funciones trigonométricas\n",
    "y = f(x,0) # vector imagen de la función f(x) = 0\n",
    "\n",
    "for i in range(5): # este es un caso simple donde sumo las 5 primeras funciones de la sucesión\n",
    "\ty =  y + f(x,i) # a esa y le sumo el valor de las imágenes de las siguientes funciones de la sucesión de funciones\n",
    "\n",
    "plot(x,y, label = 'Curva')\n",
    "title('Suma de senos')\n",
    "xlabel('Dominio')\n",
    "ylabel('Suma de los primeros 5 senos')\n",
    "legend('best')\n",
    "\n",
    "# Podríamos hacer derivación numérica\n",
    "\n",
    "# Integración sería útil?\n",
    "\n",
    "# Transformada de Fourier es irse al chori?"
   ]
  },
  {
   "cell_type": "markdown",
   "metadata": {},
   "source": [
    "# Resolviendo física: pendulos acoplados"
   ]
  },
  {
   "cell_type": "code",
   "execution_count": null,
   "metadata": {
    "collapsed": true
   },
   "outputs": [],
   "source": []
  },
  {
   "cell_type": "markdown",
   "metadata": {},
   "source": [
    "# La importancia de las referencias"
   ]
  },
  {
   "cell_type": "markdown",
   "metadata": {},
   "source": [
    "Para más referencias pueden googlear. Dejamos algunas de referencia:\n",
    "\n",
    "http://pybonacci.org/2012/06/07/algebra-lineal-en-python-con-numpy-i-operaciones-basicas/\n",
    "\n",
    "http://relopezbriega.github.io/blog/2015/06/14/algebra-lineal-con-python/\n",
    "\n",
    "http://pendientedemigracion.ucm.es/info/aocg/python/modulos_cientificos/numpy/index.html\n",
    "\n",
    "Pero es importantísimo manejarse con la documentación de las bibliotecas que se utilizan\n",
    "\n",
    "https://docs.python.org/2/library/math.html\n",
    "\n",
    "http://docs.scipy.org/doc/numpy/reference/routines.linalg.html\n",
    "\n",
    "http://matplotlib.org/api/pyplot_api.html"
   ]
  },
  {
   "cell_type": "code",
   "execution_count": null,
   "metadata": {
    "collapsed": true
   },
   "outputs": [],
   "source": []
  }
 ],
 "metadata": {
  "kernelspec": {
   "display_name": "Python 2",
   "language": "python",
   "name": "python2"
  },
  "language_info": {
   "codemirror_mode": {
    "name": "ipython",
    "version": 2
   },
   "file_extension": ".py",
   "mimetype": "text/x-python",
   "name": "python",
   "nbconvert_exporter": "python",
   "pygments_lexer": "ipython2",
   "version": "2.7.6"
  }
 },
 "nbformat": 4,
 "nbformat_minor": 0
}
