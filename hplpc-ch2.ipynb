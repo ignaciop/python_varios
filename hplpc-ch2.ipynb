{
 "cells": [
  {
   "cell_type": "code",
   "execution_count": 2,
   "metadata": {},
   "outputs": [
    {
     "name": "stdout",
     "output_type": "stream",
     "text": [
      "1.2342\n"
     ]
    }
   ],
   "source": [
    "# Ej 2.1\n",
    "\n",
    "v0 = 5\n",
    "g = 9.81\n",
    "t = 0.6\n",
    "\n",
    "y = v0*t - 0.5*g*t**2\n",
    "\n",
    "print(y)"
   ]
  },
  {
   "cell_type": "code",
   "execution_count": 5,
   "metadata": {},
   "outputs": [
    {
     "name": "stdout",
     "output_type": "stream",
     "text": [
      "Give an integer a: 6\n",
      "Give an integer b: 6\n",
      "a and b are equal\n"
     ]
    }
   ],
   "source": [
    "# Ej 2.2\n",
    "\n",
    "a = int(input('Give an integer a: '))\n",
    "b = int(input('Give an integer b: '))\n",
    "\n",
    "if (a < b):\n",
    "    print('a is the smallest of the two numbers')\n",
    "elif (a == b):\n",
    "    print('a and b are equal')\n",
    "else:\n",
    "    print('a is the largest of the two numbers')"
   ]
  },
  {
   "cell_type": "code",
   "execution_count": 6,
   "metadata": {},
   "outputs": [
    {
     "name": "stdout",
     "output_type": "stream",
     "text": [
      "r = 1\n",
      "Circle of radius 1.00 -> Circunference = 6.28 cm || Area = 3.14 cm^2\n"
     ]
    }
   ],
   "source": [
    "# Ej 2.3\n",
    "\n",
    "import math\n",
    "\n",
    "def circunference(r):\n",
    "    return 2*math.pi*r\n",
    "\n",
    "def area(r):\n",
    "    return math.pi*r**2\n",
    "\n",
    "r = float(input('r = '))\n",
    "C = circunference(r)\n",
    "A = area(r)\n",
    "print('Circle of radius {r:.2f} -> Circunference = {C:.2f} cm || Area = {A:.2f} cm^2'.format(r = r, C = C, A = A))"
   ]
  },
  {
   "cell_type": "code",
   "execution_count": 8,
   "metadata": {},
   "outputs": [
    {
     "name": "stdout",
     "output_type": "stream",
     "text": [
      "b: 2\n",
      "c: 3\n",
      "Area of rectangle of size 2.00 by 3.00 = 6.00\n"
     ]
    }
   ],
   "source": [
    "# Ej 2.4\n",
    "\n",
    "def area(b, c):\n",
    "    return b*c\n",
    "\n",
    "b = float(input('b: '))\n",
    "c = float(input('c: '))\n",
    "\n",
    "A = area(b, c)\n",
    "\n",
    "print('Area of rectangle of size {b:.2f} by {c:.2f} = {A:.2f}'.format(b = b, c = c, A = A))"
   ]
  },
  {
   "cell_type": "code",
   "execution_count": 29,
   "metadata": {},
   "outputs": [
    {
     "name": "stdout",
     "output_type": "stream",
     "text": [
      "Area del triangulo: 5.0\n",
      "Area del cuadrilatero: 4.0\n",
      "Area del pentagono: 2.625\n"
     ]
    }
   ],
   "source": [
    "# Ej 2.5\n",
    "\n",
    "import numpy as np\n",
    "\n",
    "def polyarea(x, y):\n",
    "    s1 = sum([x[i-1]*y[i] for i in range(len(x))])\n",
    "    s2 = sum([y[i-1]*x[i] for i in range(len(y))])\n",
    "    \n",
    "    return 0.5*abs(s1 - s2)\n",
    "\n",
    "# Triangulo\n",
    "x = [1, 2, 3]\n",
    "y = [1, 6, 1]\n",
    "\n",
    "print('Area del triangulo:', polyarea(x, y))\n",
    "\n",
    "# Cuadrilatero\n",
    "x = [1, 1, 3, 3]\n",
    "y = [1, 3, 3, 1]\n",
    "\n",
    "print('Area del cuadrilatero:', polyarea(x, y))\n",
    "\n",
    "# Pentagono\n",
    "x = [3, 2, 1.5, 2.5, 3.5]\n",
    "y = [1, 1, 2, 3, 2.5]\n",
    "\n",
    "print('Area del pentagono:', polyarea(x, y))"
   ]
  },
  {
   "cell_type": "code",
   "execution_count": 31,
   "metadata": {},
   "outputs": [
    {
     "name": "stdout",
     "output_type": "stream",
     "text": [
      "N > 1: 5\n",
      "Average:  3.0\n"
     ]
    }
   ],
   "source": [
    "# Ej 2.6\n",
    "\n",
    "def average(N):\n",
    "    s = [i for i in range(1,N+1)]\n",
    "    ss = sum(s)\n",
    "    \n",
    "    return ss/len(s)\n",
    "\n",
    "N = int(input('N > 1: '))\n",
    "\n",
    "print('Average: ', average(N))"
   ]
  },
  {
   "cell_type": "code",
   "execution_count": 36,
   "metadata": {},
   "outputs": [
    {
     "name": "stdout",
     "output_type": "stream",
     "text": [
      "55\n"
     ]
    }
   ],
   "source": [
    "# Ej 2.7\n",
    "\n",
    "some_number = 0\n",
    "i = 1\n",
    "\n",
    "while (i < 11):\n",
    "    some_number += i\n",
    "    i += 1\n",
    "    \n",
    "print(some_number)"
   ]
  },
  {
   "cell_type": "code",
   "execution_count": 62,
   "metadata": {},
   "outputs": [
    {
     "name": "stdout",
     "output_type": "stream",
     "text": [
      "271\n"
     ]
    }
   ],
   "source": [
    "# Ej 2.8\n",
    "\n",
    "import math\n",
    "\n",
    "r = 10.6\n",
    "a = 1.3\n",
    "b = 0\n",
    "\n",
    "area_circle = math.pi*r**2\n",
    "\n",
    "while (a*b < area_circle):\n",
    "    b_posta = b # guardo el valor actual de b que cumple la condicion, antes de incrementarlo\n",
    "    b += 1\n",
    " \n",
    "print(b_posta)"
   ]
  },
  {
   "cell_type": "code",
   "execution_count": 82,
   "metadata": {},
   "outputs": [
    {
     "name": "stdout",
     "output_type": "stream",
     "text": [
      "N:400\n",
      "e:0.01\n",
      "Crossing points: [0.010025062656641381, 0.99248120300751808]\n"
     ]
    }
   ],
   "source": [
    "# Ej 2.9\n",
    "\n",
    "import numpy as np\n",
    "\n",
    "def f(x):\n",
    "    return x\n",
    "\n",
    "def g(x):\n",
    "    return x**2\n",
    "\n",
    "N = int(input('N:'))\n",
    "e = float(input('e:'))\n",
    "\n",
    "x = np.linspace(-4,4,N)\n",
    "rt = []\n",
    "\n",
    "for i in x:\n",
    "    if (abs(f(i) - g(i)) < e):\n",
    "        rt.append(i)\n",
    "\n",
    "print('Crossing points:', rt)"
   ]
  },
  {
   "cell_type": "code",
   "execution_count": 89,
   "metadata": {},
   "outputs": [
    {
     "name": "stdout",
     "output_type": "stream",
     "text": [
      "Before sorting: [6.069581741753728, 7.538600325232934, 0.37679574885705835, 1.1996738347688862, 5.052953001107614, 0.23344720649375428]\n",
      "After sorting: [0.23344720649375428, 0.37679574885705835, 1.1996738347688862, 5.052953001107614, 6.069581741753728, 7.538600325232934]\n"
     ]
    }
   ],
   "source": [
    "# Ej 2.10\n",
    "\n",
    "import random\n",
    "\n",
    "a = [random.uniform(0,10) for i in range(1,7)]\n",
    "print('Before sorting:', a)\n",
    "\n",
    "a.sort()\n",
    "\n",
    "print('After sorting:', a)"
   ]
  },
  {
   "cell_type": "code",
   "execution_count": 120,
   "metadata": {},
   "outputs": [
    {
     "name": "stdout",
     "output_type": "stream",
     "text": [
      "N: 100\n"
     ]
    },
    {
     "data": {
      "image/png": "[encoded data removed]",
      "text/plain": [
       "<matplotlib.figure.Figure at 0x107afb940>"
      ]
     },
     "metadata": {},
     "output_type": "display_data"
    }
   ],
   "source": [
    "# Ej 2.11\n",
    "\n",
    "import math\n",
    "import numpy as np\n",
    "\n",
    "def pi_leibniz(N):\n",
    "    s = 0\n",
    "    e = []\n",
    "    \n",
    "    for k in range(0, N):\n",
    "        s += 8/((4*k + 1)*(4*k + 3))\n",
    "        e.append(abs(math.pi-s)/math.pi)\n",
    "        \n",
    "    return e\n",
    "\n",
    "def pi_euler(N):\n",
    "    s = 0\n",
    "    e = []\n",
    "    \n",
    "    for k in range(1, N+1):\n",
    "        s += 6/(k**2)\n",
    "        ss = np.sqrt(s)\n",
    "        e.append(abs(math.pi-ss)/math.pi)\n",
    "        \n",
    "    return e\n",
    "\n",
    "N = int(input('N: '))\n",
    "\n",
    "NN = np.arange(1,N+1)\n",
    "\n",
    "leibniz = pi_leibniz(N)\n",
    "euler = pi_euler(N)\n",
    "\n",
    "\n",
    "plt.figure()\n",
    "plt.plot(NN, leibniz, label = 'Error Leibniz')\n",
    "plt.plot(NN, euler, label = 'Error Euler')\n",
    "plt.grid()\n",
    "plt.legend(loc = 'best')\n",
    "plt.show()"
   ]
  },
  {
   "cell_type": "code",
   "execution_count": 137,
   "metadata": {},
   "outputs": [
    {
     "name": "stdout",
     "output_type": "stream",
     "text": [
      "['CA', 'C2', 'C3', 'C4', 'C5', 'C6', 'C7', 'C8', 'C9', 'C10', 'CJ', 'CQ', 'CK', 'DA', 'D2', 'D3', 'D4', 'D5', 'D6', 'D7', 'D8', 'D9', 'D10', 'DJ', 'DQ', 'DK', 'HA', 'H2', 'H3', 'H4', 'H5', 'H6', 'H7', 'H8', 'H9', 'H10', 'HJ', 'HQ', 'HK', 'SA', 'S2', 'S3', 'S4', 'S5', 'S6', 'S7', 'S8', 'S9', 'S10', 'SJ', 'SQ', 'SK']\n",
      "676000\n",
      "6\n"
     ]
    }
   ],
   "source": [
    "# Ej 2.12\n",
    "\n",
    "ranks = ['A', '2', '3', '4', '5', '6', '7', '8', '9', '10', 'J', 'Q', 'K']\n",
    "suits = ['C', 'D', 'H', 'S']\n",
    "\n",
    "deck = []\n",
    "\n",
    "for s in suits:\n",
    "    for r in ranks:\n",
    "        deck.append(s + r)\n",
    "        \n",
    "print(deck)\n",
    "\n",
    "letters = ['A', 'B', 'C', 'D', 'E', 'F', 'G', 'H', 'I', 'J', 'K', 'L', 'M', 'N', 'O', 'P', 'Q', 'R', 'S', 'T', 'U', 'V', 'W', 'X', 'Y', 'Z']\n",
    "numbers = ['0', '1', '2', '3', '4', '5', '6', '7', '8', '9']\n",
    "\n",
    "reg = []\n",
    "\n",
    "for l in letters:\n",
    "    for m in letters:\n",
    "        for x in numbers:\n",
    "            for y in numbers:\n",
    "                for z in numbers:\n",
    "                    reg.append(l + m + x + y + z)\n",
    "                    \n",
    "print(len(reg))\n",
    "\n",
    "dice1 = [1, 2, 3, 4, 5, 6]\n",
    "dice2 = [1, 2, 3, 4, 5, 6]\n",
    "\n",
    "throws = []\n",
    "\n",
    "for d1 in dice1:\n",
    "    for d2 in dice2:\n",
    "        throws.append(d1 + d2)\n",
    "        \n",
    "j = 0\n",
    "\n",
    "for i in throws:\n",
    "    if i == 7:\n",
    "        j += 1\n",
    "        \n",
    "print(j)"
   ]
  },
  {
   "cell_type": "code",
   "execution_count": 144,
   "metadata": {},
   "outputs": [
    {
     "name": "stdout",
     "output_type": "stream",
     "text": [
      "N: 10\n",
      "[6, 5, 2, 4, 3, 4, 6, 4, 4, 1]\n",
      "0.2\n"
     ]
    }
   ],
   "source": [
    "# Ej 2.13\n",
    "\n",
    "import random\n",
    "\n",
    "m = 0\n",
    "numbers = []\n",
    "\n",
    "N = int(input('N: '))\n",
    "\n",
    "for i in range(1,N+1):\n",
    "    j = random.randint(1,6)\n",
    "    numbers.append(j)\n",
    "    \n",
    "    if j == 6:\n",
    "        m += 1\n",
    "    \n",
    "print(numbers)\n",
    "print(m/N)"
   ]
  },
  {
   "cell_type": "code",
   "execution_count": 151,
   "metadata": {},
   "outputs": [
    {
     "name": "stdout",
     "output_type": "stream",
     "text": [
      "Draw? y\n",
      "3\n",
      "Sum:  3\n",
      "Draw? y\n",
      "4\n",
      "Sum:  7\n",
      "Draw? y\n",
      "7\n",
      "Sum:  14\n",
      "Draw? y\n",
      "1\n",
      "Sum:  15\n",
      "Draw? y\n",
      "9\n",
      "Sum:  24\n",
      "You lost\n"
     ]
    }
   ],
   "source": [
    "# Ej 2.14\n",
    "\n",
    "import random\n",
    "\n",
    "sum = 0\n",
    "\n",
    "while (1):\n",
    "    a = input('Draw? ')\n",
    "    \n",
    "    if a == 'y':\n",
    "        n = random.randint(0, 10)\n",
    "        sum += n\n",
    "        print(n)\n",
    "        print('Sum: ', sum)\n",
    "        \n",
    "        if (sum < 21):\n",
    "            continue\n",
    "        elif (sum == 21):\n",
    "            print('You won!!!')\n",
    "            break\n",
    "        else:\n",
    "            print('You lost')\n",
    "            break\n",
    "    else:\n",
    "        break\n"
   ]
  },
  {
   "cell_type": "code",
   "execution_count": 28,
   "metadata": {},
   "outputs": [
    {
     "name": "stdout",
     "output_type": "stream",
     "text": [
      "t: 2.5\n",
      "16.25\n",
      "t: 3.1\n",
      "20.1\n",
      "t: -1\n"
     ]
    }
   ],
   "source": [
    "# Ej 2.15\n",
    "\n",
    "ta = [0, 1, 2, 3, 4]\n",
    "ya = [4.4, 2.0, 11.0, 21.5, 7.5]\n",
    "\n",
    "def li(ta, ya, t):\n",
    "    for i in range(len(ta) - 1):\n",
    "        if (ta[i] <= t and t <= ta[i + 1]):\n",
    "            m = (ya[i + 1] - ya[i])/(ta[i + 1] - ta[i])\n",
    "            b = ya[i] - m*ta[i]\n",
    "            y = m*t + b\n",
    "        \n",
    "            return y\n",
    "            break\n",
    "        \n",
    "\n",
    "\n",
    "while (True):\n",
    "        t = float(input('t: '))\n",
    "        \n",
    "        if (t < 0):\n",
    "            break\n",
    "        else:\n",
    "            print(li(ta, ya, t))"
   ]
  },
  {
   "cell_type": "code",
   "execution_count": 132,
   "metadata": {},
   "outputs": [
    {
     "name": "stdout",
     "output_type": "stream",
     "text": [
      "For x = 2.70607 : 0\n",
      "For x = 2.51804 : 0\n",
      "For x = 7.45093 : 0\n",
      "For x = 3.25341 : 0\n",
      "For x = 3.6927 : 0\n",
      "For x = 6.48154 : 0\n",
      "For x = 2.12514 : 0\n",
      "For x = 6.41761 : 0\n",
      "For x = 7.2536 : 0\n",
      "For x = 7.74656 : 0\n",
      "For x = 2.49519 : 0\n",
      "For x = 9.9095 : 0\n",
      "For x = 8.05181 : 0\n",
      "For x = 6.02981 : 0\n",
      "For x = 2.52085 : 0\n",
      "For x = 3.05391 : 0\n",
      "For x = 4.13485 : 0\n",
      "For x = 8.23063 : 0\n",
      "For x = 2.7015 : 0\n",
      "For x = 4.01249 : 0\n",
      "For x = 7.69354 : 0\n",
      "For x = 6.95509 : 0\n",
      "For x = 2.43164 : 0\n",
      "For x = 5.15609 : 0\n",
      "For x = 8.85691 : 0\n",
      "For x = 4.82787 : 0\n",
      "For x = 5.81075 : 0\n",
      "For x = 5.84888 : 0\n",
      "For x = 3.84965 : 8.88178e-16\n",
      "For x = 5.15555 : 0\n",
      "For x = 7.74091 : 0\n",
      "For x = 7.88971 : 8.88178e-16\n",
      "For x = 9.48153 : 0\n",
      "For x = 7.90006 : 0\n",
      "For x = 3.89242 : 8.88178e-16\n",
      "For x = 6.29527 : 0\n",
      "For x = 8.41968 : 0\n",
      "For x = 4.37412 : 0\n",
      "For x = 7.96828 : 0\n",
      "For x = 6.86055 : 0\n",
      "For x = 4.98591 : 0\n",
      "For x = 7.23288 : 0\n",
      "For x = 7.0315 : 0\n",
      "For x = 9.80107 : 0\n",
      "For x = 9.01696 : 0\n",
      "For x = 5.53851 : 0\n",
      "For x = 7.23747 : 0\n",
      "For x = 9.89716 : 0\n",
      "For x = 2.26712 : 0\n",
      "For x = 7.34001 : 0\n",
      "For x = 2.46449 : 0\n",
      "For x = 8.64687 : 0\n",
      "For x = 3.736 : 0\n",
      "For x = 6.67478 : 0\n",
      "For x = 6.5977 : 0\n",
      "For x = 5.47258 : 0\n",
      "For x = 3.66852 : 0\n",
      "For x = 3.44953 : 0\n",
      "For x = 9.68595 : 0\n",
      "For x = 5.03978 : 0\n",
      "For x = 2.19403 : 0\n",
      "For x = 2.0394 : 0\n",
      "For x = 4.85706 : 0\n",
      "For x = 2.82018 : 0\n",
      "For x = 8.43543 : 0\n",
      "For x = 9.76337 : 0\n",
      "For x = 3.67584 : 0\n",
      "For x = 3.55778 : 0\n",
      "For x = 6.12868 : 0\n",
      "For x = 6.3918 : 0\n",
      "For x = 2.27622 : 0\n",
      "For x = 4.4037 : 0\n",
      "For x = 4.45956 : 0\n",
      "For x = 8.87652 : 0\n",
      "For x = 2.16824 : 0\n",
      "For x = 8.59771 : 0\n",
      "For x = 5.78377 : 0\n"
     ]
    }
   ],
   "source": [
    "# Ej 2.16\n",
    "\n",
    "from random import random\n",
    "\n",
    "def f(x):\n",
    "    return a*x + b\n",
    "\n",
    "a = 4.0; b = 1.0\n",
    "c = 2; f_c = f(c)  # Fixed point on the line\n",
    "epsilon = 1e-6\n",
    "i = 0\n",
    "\n",
    "for i in range(100):\n",
    "    x = 10*random()   # random() returns number between 0 and 1\n",
    "    numerator = f(x) - f_c\n",
    "    denominator = x - c\n",
    "    if denominator > epsilon:   # To avoid zero division\n",
    "        fraction = numerator/denominator\n",
    "        \n",
    "        # The following printout should be very close to zero in\n",
    "        # each case if the points are on the line\n",
    "        print('For x = {x:g} : {xx:g}'.format(x = x, xx = abs(fraction - a)))"
   ]
  },
  {
   "cell_type": "code",
   "execution_count": 136,
   "metadata": {
    "scrolled": true
   },
   "outputs": [
    {
     "name": "stdout",
     "output_type": "stream",
     "text": [
      "Error:  15.75\n"
     ]
    },
    {
     "data": {
      "image/png": "[encoded data removed]",
      "text/plain": [
       "<matplotlib.figure.Figure at 0x10694c0f0>"
      ]
     },
     "metadata": {},
     "output_type": "display_data"
    }
   ],
   "source": [
    "# Ej 2.17\n",
    "\n",
    "import matplotlib.pyplot as plt\n",
    "\n",
    "y = [0.5, 2.0, 1.0, 1.5, 7.5]\n",
    "t = [0, 1, 2, 3, 4]\n",
    "\n",
    "def f(a, b, x):\n",
    "    return a*x + b\n",
    "\n",
    "def e(a, b, t, y):\n",
    "    e = sum([(f(a, b, t[i]) - y[i])**2 for i in range(len(y))])\n",
    "    \n",
    "    return e\n",
    "\n",
    "def plotear(a, b, t, y):\n",
    "    \n",
    "    ff = []\n",
    "    \n",
    "    for i in range(len(t)):\n",
    "        ff.append(f(a, b, t[i]))\n",
    "        \n",
    "    \n",
    "    print('Error: ', e(a, b, t, y))\n",
    "    plt.figure()\n",
    "    plt.plot(t, ff, label = 'f')\n",
    "        \n",
    "    plt.plot(t, y, 'o',label = 'y')\n",
    "    plt.legend(loc = 'best')\n",
    "    plt.grid()\n",
    "    plt.show()\n",
    "    \n",
    "plotear(1.5, -1, t, y)"
   ]
  },
  {
   "cell_type": "code",
   "execution_count": 139,
   "metadata": {},
   "outputs": [
    {
     "data": {
      "image/png": "[encoded data removed]",
      "text/plain": [
       "<matplotlib.figure.Figure at 0x1078869b0>"
      ]
     },
     "metadata": {},
     "output_type": "display_data"
    },
    {
     "name": "stdout",
     "output_type": "stream",
     "text": [
      "The b coeffiecients:  [ 0.6 -0.2  0.1]\n",
      "The smallest error found:  67.1213886326\n"
     ]
    }
   ],
   "source": [
    "# Ej 2.18\n",
    "\n",
    "from numpy import zeros, linspace, sin, sqrt, pi, copy, arange\n",
    "import matplotlib.pyplot as plt\n",
    "\n",
    "def sinesum(t, b):\n",
    "    '''\n",
    "    Computes S as the sum over n of b_n * sin(n*t).\n",
    "    For each point in time (M) we loop over all b_n to\n",
    "    produce one element S[M], i.e. one element in\n",
    "    S corresponds to one point in time.\n",
    "    '''\n",
    "    \n",
    "    S = zeros(len(t))\n",
    "    \n",
    "    for M in range(0, len(t), 1):\n",
    "        for n in range(1, len(b)+1, 1):\n",
    "            S[M] += b[n-1]*sin(n*t[M])\n",
    "            \n",
    "    return S\n",
    "\n",
    "\n",
    "def test_sinesum():\n",
    "    t = zeros(2); t[0] = -pi/2;  t[1] = pi/4\n",
    "    b = zeros(2); b[0] = 4.0;  b[1] = -3\n",
    "    \n",
    "    print(sinesum(t, b))\n",
    "\n",
    "def plot_compare(f, N, M):\n",
    "    \n",
    "    time = linspace(left_end, right_end, M)\n",
    "    y = f(time)\n",
    "    S = sinesum(time, b)\n",
    "    \n",
    "    plt.figure()\n",
    "    plt.plot(time, y, 'b-', time, S, 'r--')\n",
    "    plt.xlabel('Time')\n",
    "    plt.ylabel('f (blue) and S (red)')\n",
    "    plt.show()\n",
    "\n",
    "def error(b, f, M):\n",
    "    time = linspace(left_end, right_end, M)\n",
    "    y = f(time)\n",
    "    S = sinesum(time, b)\n",
    "    E = 0\n",
    "    \n",
    "    for i in range(len(time)):\n",
    "        E += sqrt((y[i] - S[i])**2)\n",
    "        \n",
    "    return E\n",
    "\n",
    "def trial(f, N):\n",
    "    M = 500\n",
    "    new_trial = True\n",
    "    \n",
    "    while new_trial:\n",
    "        for i in range(N):\n",
    "            text = 'Give b' + str(i+1) + ' : '\n",
    "            b[i] = input(text)\n",
    "            \n",
    "        plot_compare(f, N, M)\n",
    "        \n",
    "        print('The error is: ', error(b, f, M))\n",
    "        answer = input('Another trial (y/n)? ')\n",
    "        if answer == 'n':\n",
    "            new_trial = False\n",
    "\n",
    "def f(t):\n",
    "    return (1/pi)*t\n",
    "\n",
    "def automatic_fit(f, N):\n",
    "    '''Search for b-values, - just pick limits and step'''\n",
    "    \n",
    "    global b\n",
    "    M = 500\n",
    "    # Produce and store an initially smallest error\n",
    "    b[0] = -1; b[1] = -1; b[2] = -1\n",
    "    \n",
    "    test_b = copy(b)\n",
    "    smallest_E = error(test_b, f, M)\n",
    "    db = 0.1\n",
    "    \n",
    "    for b1 in arange(-1, 1+db, db):\n",
    "        for b2 in arange(-1, 1+db, db):\n",
    "            for b3 in arange(-1, 1+db, db):\n",
    "                test_b[0] = b1; test_b[1] = b2;\n",
    "                test_b[2] = b3\n",
    "                E = error(test_b, f, M)\n",
    "                \n",
    "                if E < smallest_E:\n",
    "                    b = copy(test_b)\n",
    "                    smallest_E = E\n",
    "                    \n",
    "    plot_compare(f, N, M)\n",
    "    print('The b coeffiecients: ', b)\n",
    "    print('The smallest error found: ', smallest_E)\n",
    "\n",
    "    \n",
    "left_end = -pi;  right_end = pi\n",
    "N = 3\n",
    "b = zeros(N)\n",
    "#test_sinesum()\n",
    "#trial(f, N)\n",
    "automatic_fit(f, N)"
   ]
  },
  {
   "cell_type": "code",
   "execution_count": 141,
   "metadata": {},
   "outputs": [
    {
     "name": "stdout",
     "output_type": "stream",
     "text": [
      "frequency of C:  0.18421052631578946\n",
      "frequency of G:  0.2631578947368421\n",
      "no of pairs AA:  4\n",
      "found G at 1\n",
      "next is ok: T\n",
      "ending is CA\n",
      "found G at 7\n",
      "ending is GA\n",
      "found G at 8\n",
      "next is ok: A\n",
      "next is ok: A\n",
      "next is ok: T\n",
      "next is ok: A\n",
      "ending is GG\n",
      "yes\n",
      "found G at 13\n",
      "ending is GC\n",
      "found G at 14\n",
      "ending is CC\n",
      "found G at 19\n",
      "ending is CG\n",
      "found G at 21\n",
      "next is ok: A\n",
      "next is ok: A\n",
      "next is ok: T\n",
      "next is ok: A\n",
      "next is ok: T\n",
      "next is ok: T\n",
      "next is ok: T\n",
      "ending is GG\n",
      "yes\n",
      "found G at 29\n",
      "ending is GG\n",
      "yes\n",
      "found G at 30\n",
      "ending is GC\n",
      "found G at 31\n",
      "ending is CT\n",
      "no of structures:  3\n"
     ]
    }
   ],
   "source": [
    "# Ej 2.19\n",
    "\n",
    "gene = 'AGTCAATGGAATAGGCCAAGCGAATATTTGGGCTACCA'\n",
    "\n",
    "def freq(letter, text):\n",
    "    counter = 0\n",
    "    for i in text:\n",
    "        if (i == letter):\n",
    "            counter += 1\n",
    "    return counter/float(len(text))\n",
    "\n",
    "def pairs(letter, text):\n",
    "    counter = 0\n",
    "    for i in range(len(text)):\n",
    "        if (i < len(text)-1 and text[i] == letter and text[i+1] == letter):\n",
    "            counter += 1\n",
    "    return counter\n",
    "\n",
    "def mystruct(text):\n",
    "    counter = 0\n",
    "    for i in range(len(text)):\n",
    "        # Search for the structure from position i\n",
    "        if (text[i] == 'G'):\n",
    "            print('found G at', i)\n",
    "            # Search among A and T letters\n",
    "            j = i + 1\n",
    "            \n",
    "            while (text[j] == 'A' or text[j] == 'T'):\n",
    "                print('next is ok:', text[j])\n",
    "                j = j + 1\n",
    "                \n",
    "            print('ending is', text[j:j + 2])\n",
    "            \n",
    "            if (text[j:j + 2] == 'GG'):\n",
    "                # Correct ending of structure\n",
    "                counter += 1\n",
    "                print('yes')\n",
    "    return counter\n",
    "\n",
    "print('frequency of C: ', freq('C', gene))\n",
    "print('frequency of G: ', freq('G', gene))\n",
    "print('no of pairs AA: ', pairs('A', gene))\n",
    "print('no of structures: ', mystruct(gene))"
   ]
  },
  {
   "cell_type": "code",
   "execution_count": null,
   "metadata": {
    "collapsed": true
   },
   "outputs": [],
   "source": []
  }
 ],
 "metadata": {
  "kernelspec": {
   "display_name": "Python 3",
   "language": "python",
   "name": "python3"
  },
  "language_info": {
   "codemirror_mode": {
    "name": "ipython",
    "version": 3
   },
   "file_extension": ".py",
   "mimetype": "text/x-python",
   "name": "python",
   "nbconvert_exporter": "python",
   "pygments_lexer": "ipython3",
   "version": "3.6.1"
  }
 },
 "nbformat": 4,
 "nbformat_minor": 2
}
